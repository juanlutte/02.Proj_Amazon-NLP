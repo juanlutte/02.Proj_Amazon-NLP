{
 "cells": [
  {
   "cell_type": "markdown",
   "source": [
    "# Proyecto 03 - Procesamiento del Lenguaje Natural\r\n",
    "\r\n",
    "## Dataset: The Multilingual Amazon Reviews Corpus\r\n",
    "\r\n",
    "**Recuerda descargar el dataset de [aquí](https://github.com/kang205/SASRec). Es un archivo .zip que contiene tres documentos. Más información sobre el dataset [aquí](https://registry.opendata.aws/amazon-reviews-ml/). Es importante que tengas en cuenta la [licencia](https://docs.opendata.aws/amazon-reviews-ml/license.txt) de este dataset.**\r\n",
    "\r\n",
    "### Exploración de datos y Procesamiento del Lenguaje Natural\r\n",
    "\r\n",
    "Dedícale un buen tiempo a hacer un Análisis Exploratorio de Datos. Considera que hasta que no hayas aplicado las herramientas de Procesamiento del Lenguaje Natural vistas, será difícil completar este análisis. Elige preguntas que creas que puedas responder con este dataset. Por ejemplo, ¿qué palabras están asociadas a calificaciones positivas y qué palabras a calificaciones negativas?\r\n",
    "\r\n",
    "### Machine Learning\r\n",
    "\r\n",
    "Implementa un modelo que, dada la crítica de un producto, asigne la cantidad de estrellas correspondiente. **Para pensar**: ¿es un problema de Clasificación o de Regresión?\r\n",
    "\r\n",
    "1. Haz todas las transformaciones de datos que consideres necesarias. Justifica.\r\n",
    "1. Evalúa de forma apropiada sus resultados. Justifica la métrica elegida.\r\n",
    "1. Elige un modelo benchmark y compara tus resultados con este modelo.\r\n",
    "1. Optimiza los hiperparámetros de tu modelo.\r\n",
    "1. Intenta responder la pregunta: ¿Qué información está usando el modelo para predecir?\r\n",
    "\r\n",
    "**Recomendación:** si no te resulta conveniente trabajar en español con NLTK, te recomendamos que explores la librería [spaCy](https://spacy.io/).\r\n",
    "\r\n",
    "### Para pensar, investigar y, opcionalmente, implementar\r\n",
    "1. ¿Valdrá la pena convertir el problema de Machine Learning en un problema binario? Es decir, asignar únicamente las etiquetas Positiva y Negativa a cada crítica y hacer un modelo que, en lugar de predecir las estrellas, prediga esa etiqueta. Pensar en qué situación puede ser útil. ¿Esperas que el desempeño sea mejor o peor?"
   ],
   "metadata": {
    "id": "2GRQnxMzISE_"
   }
  },
  {
   "cell_type": "markdown",
   "source": [
    "# FLUJO DE TRABAJO"
   ],
   "metadata": {}
  },
  {
   "cell_type": "markdown",
   "source": [
    "# 1 - Obtencion de datos"
   ],
   "metadata": {}
  },
  {
   "cell_type": "code",
   "execution_count": 168,
   "source": [
    "#descargamos las librerias que vamos a usar y las configuraciones\r\n",
    "import pandas as pd\r\n",
    "import numpy as np\r\n",
    "import string\r\n",
    "\r\n",
    "import matplotlib.pyplot as plt\r\n",
    "import seaborn as sns\r\n",
    "sns.set()\r\n",
    "\r\n",
    "import nltk\r\n",
    "import itertools\r\n",
    "from nltk.tokenize import sent_tokenize, word_tokenize\r\n",
    "\r\n",
    "#Esto sirve para configurar NLTK. La primera vez puede tardar un poco\r\n",
    "nltk.download('punkt')\r\n",
    "nltk.download('stopwords')"
   ],
   "outputs": [
    {
     "output_type": "stream",
     "name": "stderr",
     "text": [
      "[nltk_data] Downloading package punkt to\n",
      "[nltk_data]     C:\\Users\\Luigi\\AppData\\Roaming\\nltk_data...\n",
      "[nltk_data]   Package punkt is already up-to-date!\n",
      "[nltk_data] Downloading package stopwords to\n",
      "[nltk_data]     C:\\Users\\Luigi\\AppData\\Roaming\\nltk_data...\n",
      "[nltk_data]   Package stopwords is already up-to-date!\n"
     ]
    },
    {
     "output_type": "execute_result",
     "data": {
      "text/plain": [
       "True"
      ]
     },
     "metadata": {},
     "execution_count": 168
    }
   ],
   "metadata": {
    "id": "x1GFwraSISFB"
   }
  },
  {
   "cell_type": "code",
   "execution_count": 169,
   "source": [
    "dataset = pd.read_json(r'C:\\Users\\Luigi\\Documents\\02.Proj_Amazon-NLP\\dataset_es_dev.json',lines=True)"
   ],
   "outputs": [],
   "metadata": {}
  },
  {
   "cell_type": "markdown",
   "source": [
    "# 2 - Exploracion de datos"
   ],
   "metadata": {}
  },
  {
   "cell_type": "code",
   "execution_count": 170,
   "source": [
    "dataset.head()"
   ],
   "outputs": [
    {
     "output_type": "execute_result",
     "data": {
      "text/plain": [
       "    review_id          product_id          reviewer_id  stars  \\\n",
       "0  es_0417480  product_es_0873923  reviewer_es_0672978      1   \n",
       "1  es_0180432  product_es_0713146  reviewer_es_0100858      1   \n",
       "2  es_0144850  product_es_0356874  reviewer_es_0486447      1   \n",
       "3  es_0339629  product_es_0939832  reviewer_es_0894703      1   \n",
       "4  es_0858362  product_es_0489066  reviewer_es_0887663      1   \n",
       "\n",
       "                                         review_body  \\\n",
       "0  Malisimo, muy grande demasiado aparatoso y mal...   \n",
       "1          No he recibido el pedido no la devolución   \n",
       "2  Tengo que buscar otro sistema, este no funcion...   \n",
       "3  Utilicé las brocas de menor diámetro y se me d...   \n",
       "4         No me gusta su olor a viejo y aspecto malo   \n",
       "\n",
       "                         review_title language  product_category  \n",
       "0                         Mala compra       es          wireless  \n",
       "1                   No lo he recibido       es           apparel  \n",
       "2  Que no aprieta bien en el manillar       es            sports  \n",
       "3               Brocas de mantequilla       es  home_improvement  \n",
       "4                         No me gusta       es            beauty  "
      ],
      "text/html": [
       "<div>\n",
       "<style scoped>\n",
       "    .dataframe tbody tr th:only-of-type {\n",
       "        vertical-align: middle;\n",
       "    }\n",
       "\n",
       "    .dataframe tbody tr th {\n",
       "        vertical-align: top;\n",
       "    }\n",
       "\n",
       "    .dataframe thead th {\n",
       "        text-align: right;\n",
       "    }\n",
       "</style>\n",
       "<table border=\"1\" class=\"dataframe\">\n",
       "  <thead>\n",
       "    <tr style=\"text-align: right;\">\n",
       "      <th></th>\n",
       "      <th>review_id</th>\n",
       "      <th>product_id</th>\n",
       "      <th>reviewer_id</th>\n",
       "      <th>stars</th>\n",
       "      <th>review_body</th>\n",
       "      <th>review_title</th>\n",
       "      <th>language</th>\n",
       "      <th>product_category</th>\n",
       "    </tr>\n",
       "  </thead>\n",
       "  <tbody>\n",
       "    <tr>\n",
       "      <th>0</th>\n",
       "      <td>es_0417480</td>\n",
       "      <td>product_es_0873923</td>\n",
       "      <td>reviewer_es_0672978</td>\n",
       "      <td>1</td>\n",
       "      <td>Malisimo, muy grande demasiado aparatoso y mal...</td>\n",
       "      <td>Mala compra</td>\n",
       "      <td>es</td>\n",
       "      <td>wireless</td>\n",
       "    </tr>\n",
       "    <tr>\n",
       "      <th>1</th>\n",
       "      <td>es_0180432</td>\n",
       "      <td>product_es_0713146</td>\n",
       "      <td>reviewer_es_0100858</td>\n",
       "      <td>1</td>\n",
       "      <td>No he recibido el pedido no la devolución</td>\n",
       "      <td>No lo he recibido</td>\n",
       "      <td>es</td>\n",
       "      <td>apparel</td>\n",
       "    </tr>\n",
       "    <tr>\n",
       "      <th>2</th>\n",
       "      <td>es_0144850</td>\n",
       "      <td>product_es_0356874</td>\n",
       "      <td>reviewer_es_0486447</td>\n",
       "      <td>1</td>\n",
       "      <td>Tengo que buscar otro sistema, este no funcion...</td>\n",
       "      <td>Que no aprieta bien en el manillar</td>\n",
       "      <td>es</td>\n",
       "      <td>sports</td>\n",
       "    </tr>\n",
       "    <tr>\n",
       "      <th>3</th>\n",
       "      <td>es_0339629</td>\n",
       "      <td>product_es_0939832</td>\n",
       "      <td>reviewer_es_0894703</td>\n",
       "      <td>1</td>\n",
       "      <td>Utilicé las brocas de menor diámetro y se me d...</td>\n",
       "      <td>Brocas de mantequilla</td>\n",
       "      <td>es</td>\n",
       "      <td>home_improvement</td>\n",
       "    </tr>\n",
       "    <tr>\n",
       "      <th>4</th>\n",
       "      <td>es_0858362</td>\n",
       "      <td>product_es_0489066</td>\n",
       "      <td>reviewer_es_0887663</td>\n",
       "      <td>1</td>\n",
       "      <td>No me gusta su olor a viejo y aspecto malo</td>\n",
       "      <td>No me gusta</td>\n",
       "      <td>es</td>\n",
       "      <td>beauty</td>\n",
       "    </tr>\n",
       "  </tbody>\n",
       "</table>\n",
       "</div>"
      ]
     },
     "metadata": {},
     "execution_count": 170
    }
   ],
   "metadata": {}
  },
  {
   "cell_type": "code",
   "execution_count": 171,
   "source": [
    "dataset.shape"
   ],
   "outputs": [
    {
     "output_type": "execute_result",
     "data": {
      "text/plain": [
       "(5000, 8)"
      ]
     },
     "metadata": {},
     "execution_count": 171
    }
   ],
   "metadata": {}
  },
  {
   "cell_type": "markdown",
   "source": [
    "Con esto nos damos cuenta de que los datos tienen 8 columnas y 5000 filas. Ademas, por el nombre de las cabeceras nos damos cuenta que muy posiblemente este dataset este estructurado mediante SQL. Vemos que hay tres IDs asociados: uno correspondiente a la review, otro relacionado al producto y otro a la critica. Tambien podemos ver que en esta tabla nos indica el lenguaje (importante para ver que tipos de librerias usamos) y ademas vemmos que los productos tienen una categoria asociada. Por ultimo vemos la cantidad de estrellas que se dio a ese producto dada la review."
   ],
   "metadata": {}
  },
  {
   "cell_type": "code",
   "execution_count": 172,
   "source": [
    "sns.countplot(data = dataset , x='stars')\r\n",
    "plt.show()"
   ],
   "outputs": [
    {
     "output_type": "display_data",
     "data": {
      "text/plain": [
       "<Figure size 432x288 with 1 Axes>"
      ],
      "image/png": "[encoded data removed]"
     },
     "metadata": {}
    }
   ],
   "metadata": {}
  },
  {
   "cell_type": "markdown",
   "source": [
    "Con esto vemos que de un total de 5000 registros, estos tienen una distribucion equiprobable segun su clasificacion. Ahora veamos un comentario random del dataset y como expresan los usuarios sus gustos.."
   ],
   "metadata": {}
  },
  {
   "cell_type": "code",
   "execution_count": 173,
   "source": [
    "index_random = np.random.randint(1,4000)\r\n",
    "titular = dataset.review_body.iloc[index_random]\r\n",
    "print(index_random, titular)\r\n",
    "print(index_random, dataset.stars.iloc[index_random])"
   ],
   "outputs": [
    {
     "output_type": "stream",
     "name": "stdout",
     "text": [
      "1680 La calidad es buena pero es muy pequeño, pensé que sería algo más grande, tiene 5cm de diametro\n",
      "1680 2\n"
     ]
    }
   ],
   "metadata": {}
  },
  {
   "cell_type": "markdown",
   "source": [
    "A continuacion vemos algunos registros y como estos tienen asociado el titulo del review"
   ],
   "metadata": {}
  },
  {
   "cell_type": "code",
   "execution_count": 174,
   "source": [
    "dataset = dataset.iloc[:,[4,5,3]]\r\n",
    "dataset.dropna(axis=0,inplace=True)  # Si hay alguna nan, tiramos esa instancia\r\n",
    "dataset.head()"
   ],
   "outputs": [
    {
     "output_type": "execute_result",
     "data": {
      "text/plain": [
       "                                         review_body  \\\n",
       "0  Malisimo, muy grande demasiado aparatoso y mal...   \n",
       "1          No he recibido el pedido no la devolución   \n",
       "2  Tengo que buscar otro sistema, este no funcion...   \n",
       "3  Utilicé las brocas de menor diámetro y se me d...   \n",
       "4         No me gusta su olor a viejo y aspecto malo   \n",
       "\n",
       "                         review_title  stars  \n",
       "0                         Mala compra      1  \n",
       "1                   No lo he recibido      1  \n",
       "2  Que no aprieta bien en el manillar      1  \n",
       "3               Brocas de mantequilla      1  \n",
       "4                         No me gusta      1  "
      ],
      "text/html": [
       "<div>\n",
       "<style scoped>\n",
       "    .dataframe tbody tr th:only-of-type {\n",
       "        vertical-align: middle;\n",
       "    }\n",
       "\n",
       "    .dataframe tbody tr th {\n",
       "        vertical-align: top;\n",
       "    }\n",
       "\n",
       "    .dataframe thead th {\n",
       "        text-align: right;\n",
       "    }\n",
       "</style>\n",
       "<table border=\"1\" class=\"dataframe\">\n",
       "  <thead>\n",
       "    <tr style=\"text-align: right;\">\n",
       "      <th></th>\n",
       "      <th>review_body</th>\n",
       "      <th>review_title</th>\n",
       "      <th>stars</th>\n",
       "    </tr>\n",
       "  </thead>\n",
       "  <tbody>\n",
       "    <tr>\n",
       "      <th>0</th>\n",
       "      <td>Malisimo, muy grande demasiado aparatoso y mal...</td>\n",
       "      <td>Mala compra</td>\n",
       "      <td>1</td>\n",
       "    </tr>\n",
       "    <tr>\n",
       "      <th>1</th>\n",
       "      <td>No he recibido el pedido no la devolución</td>\n",
       "      <td>No lo he recibido</td>\n",
       "      <td>1</td>\n",
       "    </tr>\n",
       "    <tr>\n",
       "      <th>2</th>\n",
       "      <td>Tengo que buscar otro sistema, este no funcion...</td>\n",
       "      <td>Que no aprieta bien en el manillar</td>\n",
       "      <td>1</td>\n",
       "    </tr>\n",
       "    <tr>\n",
       "      <th>3</th>\n",
       "      <td>Utilicé las brocas de menor diámetro y se me d...</td>\n",
       "      <td>Brocas de mantequilla</td>\n",
       "      <td>1</td>\n",
       "    </tr>\n",
       "    <tr>\n",
       "      <th>4</th>\n",
       "      <td>No me gusta su olor a viejo y aspecto malo</td>\n",
       "      <td>No me gusta</td>\n",
       "      <td>1</td>\n",
       "    </tr>\n",
       "  </tbody>\n",
       "</table>\n",
       "</div>"
      ]
     },
     "metadata": {},
     "execution_count": 174
    }
   ],
   "metadata": {}
  },
  {
   "cell_type": "markdown",
   "source": [
    "# 3 - Normalizacion"
   ],
   "metadata": {}
  },
  {
   "cell_type": "markdown",
   "source": [
    "En esta etapa limpiaremos los caracteres, tokenizaremos y llevaremos a raiz las palabras del dataset mediante la stematizacion o lemmatizacion."
   ],
   "metadata": {}
  },
  {
   "cell_type": "markdown",
   "source": [
    "Comenzaremos desasiendonos de las palabras que tienen menos carga semantica para trabajar con los que tienen mayor ponderacion. Para ello traeremos el catalogo predefinido como stopword de la libreria NLTK"
   ],
   "metadata": {}
  },
  {
   "cell_type": "code",
   "execution_count": 175,
   "source": [
    "#que pasa si esta mezclado el dataset y no tengo SPANISH ENGLISH para filtrar?"
   ],
   "outputs": [],
   "metadata": {}
  },
  {
   "cell_type": "code",
   "execution_count": 176,
   "source": [
    "stopwords = nltk.corpus.stopwords.words('spanish')\r\n",
    "stopwords = [palabra for palabra in stopwords if 'not' not in palabra]\r\n",
    "#stopwords\r\n",
    "print(stopwords)\r\n",
    "#QUE PASA SI EL DATASET ES EN CASTELLANO??? DERIVACIONES DE LAS LENGUAS ESPANIOLAS"
   ],
   "outputs": [
    {
     "output_type": "stream",
     "name": "stdout",
     "text": [
      "['de', 'la', 'que', 'el', 'en', 'y', 'a', 'los', 'del', 'se', 'las', 'por', 'un', 'para', 'con', 'no', 'una', 'su', 'al', 'lo', 'como', 'más', 'pero', 'sus', 'le', 'ya', 'o', 'este', 'sí', 'porque', 'esta', 'entre', 'cuando', 'muy', 'sin', 'sobre', 'también', 'me', 'hasta', 'hay', 'donde', 'quien', 'desde', 'todo', 'nos', 'durante', 'todos', 'uno', 'les', 'ni', 'contra', 'otros', 'ese', 'eso', 'ante', 'ellos', 'e', 'esto', 'mí', 'antes', 'algunos', 'qué', 'unos', 'yo', 'otro', 'otras', 'otra', 'él', 'tanto', 'esa', 'estos', 'mucho', 'quienes', 'nada', 'muchos', 'cual', 'poco', 'ella', 'estar', 'estas', 'algunas', 'algo', 'nosotros', 'mi', 'mis', 'tú', 'te', 'ti', 'tu', 'tus', 'ellas', 'nosotras', 'vosotros', 'vosotras', 'os', 'mío', 'mía', 'míos', 'mías', 'tuyo', 'tuya', 'tuyos', 'tuyas', 'suyo', 'suya', 'suyos', 'suyas', 'nuestro', 'nuestra', 'nuestros', 'nuestras', 'vuestro', 'vuestra', 'vuestros', 'vuestras', 'esos', 'esas', 'estoy', 'estás', 'está', 'estamos', 'estáis', 'están', 'esté', 'estés', 'estemos', 'estéis', 'estén', 'estaré', 'estarás', 'estará', 'estaremos', 'estaréis', 'estarán', 'estaría', 'estarías', 'estaríamos', 'estaríais', 'estarían', 'estaba', 'estabas', 'estábamos', 'estabais', 'estaban', 'estuve', 'estuviste', 'estuvo', 'estuvimos', 'estuvisteis', 'estuvieron', 'estuviera', 'estuvieras', 'estuviéramos', 'estuvierais', 'estuvieran', 'estuviese', 'estuvieses', 'estuviésemos', 'estuvieseis', 'estuviesen', 'estando', 'estado', 'estada', 'estados', 'estadas', 'estad', 'he', 'has', 'ha', 'hemos', 'habéis', 'han', 'haya', 'hayas', 'hayamos', 'hayáis', 'hayan', 'habré', 'habrás', 'habrá', 'habremos', 'habréis', 'habrán', 'habría', 'habrías', 'habríamos', 'habríais', 'habrían', 'había', 'habías', 'habíamos', 'habíais', 'habían', 'hube', 'hubiste', 'hubo', 'hubimos', 'hubisteis', 'hubieron', 'hubiera', 'hubieras', 'hubiéramos', 'hubierais', 'hubieran', 'hubiese', 'hubieses', 'hubiésemos', 'hubieseis', 'hubiesen', 'habiendo', 'habido', 'habida', 'habidos', 'habidas', 'soy', 'eres', 'es', 'somos', 'sois', 'son', 'sea', 'seas', 'seamos', 'seáis', 'sean', 'seré', 'serás', 'será', 'seremos', 'seréis', 'serán', 'sería', 'serías', 'seríamos', 'seríais', 'serían', 'era', 'eras', 'éramos', 'erais', 'eran', 'fui', 'fuiste', 'fue', 'fuimos', 'fuisteis', 'fueron', 'fuera', 'fueras', 'fuéramos', 'fuerais', 'fueran', 'fuese', 'fueses', 'fuésemos', 'fueseis', 'fuesen', 'sintiendo', 'sentido', 'sentida', 'sentidos', 'sentidas', 'siente', 'sentid', 'tengo', 'tienes', 'tiene', 'tenemos', 'tenéis', 'tienen', 'tenga', 'tengas', 'tengamos', 'tengáis', 'tengan', 'tendré', 'tendrás', 'tendrá', 'tendremos', 'tendréis', 'tendrán', 'tendría', 'tendrías', 'tendríamos', 'tendríais', 'tendrían', 'tenía', 'tenías', 'teníamos', 'teníais', 'tenían', 'tuve', 'tuviste', 'tuvo', 'tuvimos', 'tuvisteis', 'tuvieron', 'tuviera', 'tuvieras', 'tuviéramos', 'tuvierais', 'tuvieran', 'tuviese', 'tuvieses', 'tuviésemos', 'tuvieseis', 'tuviesen', 'teniendo', 'tenido', 'tenida', 'tenidos', 'tenidas', 'tened']\n"
     ]
    }
   ],
   "metadata": {}
  },
  {
   "cell_type": "markdown",
   "source": [
    "## 3.1 - Stemmer"
   ],
   "metadata": {}
  },
  {
   "cell_type": "code",
   "execution_count": 177,
   "source": [
    "# Importamos esta libreria que nos permite reemplzar caracteres\r\n",
    "import re\r\n",
    "\r\n",
    "# Importamos la función que nos permite Stemmizar de nltk y definimos el stemmer\r\n",
    "from nltk.stem import SnowballStemmer\r\n",
    "# spanish_stemmer = SnowballStemmer('spanish')\r\n",
    "# (spanish_stemmer.stem(\"texto_en_str\"))\r\n",
    "from nltk.stem import PorterStemmer\r\n",
    "stemmer = PorterStemmer()\r\n"
   ],
   "outputs": [],
   "metadata": {}
  },
  {
   "cell_type": "code",
   "execution_count": 178,
   "source": [
    "# Recorremos todos los titulos y le vamos aplicando la Normalizacion y luega el Stemming a cada uno\r\n",
    "review_list=[]\r\n",
    "simb=[\"!\",\".\",\",\",\"no\",\"si\",\"...\",\")\",\"(\"]\r\n",
    "todaslaspalabras=[]\r\n",
    "for review in dataset.review_body:\r\n",
    "    # Vamos a reemplzar los caracteres que no sean leras por espacios\r\n",
    "    #review=re.sub(\",\",\" \",str(review))#borra los espacios y las tiles\r\n",
    "    # Pasamos todo a minúsculas\r\n",
    "    review=review.lower()\r\n",
    "    # Tokenizamos para separar las palabras del titular\r\n",
    "    review=nltk.word_tokenize(review)\r\n",
    "    # Eliminamos las palabras de menos de 3 letras\r\n",
    "    #dataset = [palabra for palabra in dataset if len(palabra)>2]\r\n",
    "    # Sacamos las Stopwords\r\n",
    "    review = [palabra for palabra in review if not palabra in stopwords if not palabra in simb]\r\n",
    "    \r\n",
    "    ## Hasta acá Normalizamos, ahora a stemmizar\r\n",
    "    \r\n",
    "    # Aplicamos la funcion para buscar la raiz de las palabras\r\n",
    "    review=[stemmer.stem(palabra) for palabra in review]\r\n",
    "\r\n",
    "    todaslaspalabras.append(review)\r\n",
    "    # Por ultimo volvemos a unir el titular\r\n",
    "    review=\" \".join(review)\r\n",
    "    \r\n",
    "    # Vamos armando una lista con todos los titulares\r\n",
    "    review_list.append(review)\r\n",
    "    #dataset[\"titular_normalizado\"] = titular_list"
   ],
   "outputs": [],
   "metadata": {}
  },
  {
   "cell_type": "code",
   "execution_count": 179,
   "source": [
    "flat_list = [item for t in todaslaspalabras for item in t]\r\n",
    "flat_list[0:10]"
   ],
   "outputs": [
    {
     "output_type": "execute_result",
     "data": {
      "text/plain": [
       "['malisimo',\n",
       " 'grand',\n",
       " 'demasiado',\n",
       " 'aparatoso',\n",
       " 'mal',\n",
       " 'protector',\n",
       " 'pantalla',\n",
       " 'recibido',\n",
       " 'pedido',\n",
       " 'devolución']"
      ]
     },
     "metadata": {},
     "execution_count": 179
    }
   ],
   "metadata": {}
  },
  {
   "cell_type": "code",
   "execution_count": 180,
   "source": [
    "review_list[0:10] #Porque tengo que correr todo de nuevo??????"
   ],
   "outputs": [
    {
     "output_type": "execute_result",
     "data": {
      "text/plain": [
       "['malisimo grand demasiado aparatoso mal protector pantalla',\n",
       " 'recibido pedido devolución',\n",
       " 'buscar sistema funciona bien abrazadera lleva agarrar manillar aprieta bien deslizando linterna hacia abajo',\n",
       " 'utilicé broca menor diámetro doblaron varia mantequilla hacer mínima presión vez doblada intentar enderezarla parten exteriorment amarilla interior fundido gri peor compra hecho bastant tiempo',\n",
       " 'gusta olor viejo aspecto malo',\n",
       " 'hola despué recog paquet llegado bola rota',\n",
       " 'part poder elegir color envian cesto color asa imagino aprovechando van rompiendo dicen color aleatorio foto cesta asa mismo color recomiendo comprarlo pueda elegir color único alivio romperá pronto calidad allá',\n",
       " 'baja calidad ahí precio compra supon tirar dinero',\n",
       " 'producto sale entregado recibido',\n",
       " 'recomiendo pega acaba despegandos']"
      ]
     },
     "metadata": {},
     "execution_count": 180
    }
   ],
   "metadata": {}
  },
  {
   "cell_type": "code",
   "execution_count": 181,
   "source": [
    "freq = nltk.FreqDist(flat_list)\r\n",
    "freq"
   ],
   "outputs": [
    {
     "output_type": "execute_result",
     "data": {
      "text/plain": [
       "FreqDist({'bien': 1324, 'calidad': 742, 'producto': 642, 'precio': 534, 'buena': 509, 'bastant': 336, 'funciona': 282, 'buen': 272, 'pued': 263, 'día': 260, ...})"
      ]
     },
     "metadata": {},
     "execution_count": 181
    }
   ],
   "metadata": {}
  },
  {
   "cell_type": "code",
   "execution_count": 182,
   "source": [
    "dataset[\"review_stem\"] = review_list\r\n",
    "dataset.tail()"
   ],
   "outputs": [
    {
     "output_type": "execute_result",
     "data": {
      "text/plain": [
       "                                            review_body    review_title  \\\n",
       "4995  Me ha encantado la cesta. Ha llegado impecable...       guadalupe   \n",
       "4996                 Desempeña su función correctamente  calidad precio   \n",
       "4997  Me ha encantado la diadema! Las flores son tal...       Excelente   \n",
       "4998  A mi me gustan mucho las fundas TPU, ya que so...          Genial   \n",
       "4999  El artículo ha cumplido con las expectativas q...   Buena calidad   \n",
       "\n",
       "      stars                                        review_stem  \n",
       "4995      5  encantado cesta llegado impecable.tien tamaño ...  \n",
       "4996      5                     desempeña función correctament  \n",
       "4997      5  encantado diadema flore tal vienen imagen vení...  \n",
       "4998      5  gustan funda tpu funda normalment fina colorid...  \n",
       "4999      5              artículo cumplido expectativa deseaba  "
      ],
      "text/html": [
       "<div>\n",
       "<style scoped>\n",
       "    .dataframe tbody tr th:only-of-type {\n",
       "        vertical-align: middle;\n",
       "    }\n",
       "\n",
       "    .dataframe tbody tr th {\n",
       "        vertical-align: top;\n",
       "    }\n",
       "\n",
       "    .dataframe thead th {\n",
       "        text-align: right;\n",
       "    }\n",
       "</style>\n",
       "<table border=\"1\" class=\"dataframe\">\n",
       "  <thead>\n",
       "    <tr style=\"text-align: right;\">\n",
       "      <th></th>\n",
       "      <th>review_body</th>\n",
       "      <th>review_title</th>\n",
       "      <th>stars</th>\n",
       "      <th>review_stem</th>\n",
       "    </tr>\n",
       "  </thead>\n",
       "  <tbody>\n",
       "    <tr>\n",
       "      <th>4995</th>\n",
       "      <td>Me ha encantado la cesta. Ha llegado impecable...</td>\n",
       "      <td>guadalupe</td>\n",
       "      <td>5</td>\n",
       "      <td>encantado cesta llegado impecable.tien tamaño ...</td>\n",
       "    </tr>\n",
       "    <tr>\n",
       "      <th>4996</th>\n",
       "      <td>Desempeña su función correctamente</td>\n",
       "      <td>calidad precio</td>\n",
       "      <td>5</td>\n",
       "      <td>desempeña función correctament</td>\n",
       "    </tr>\n",
       "    <tr>\n",
       "      <th>4997</th>\n",
       "      <td>Me ha encantado la diadema! Las flores son tal...</td>\n",
       "      <td>Excelente</td>\n",
       "      <td>5</td>\n",
       "      <td>encantado diadema flore tal vienen imagen vení...</td>\n",
       "    </tr>\n",
       "    <tr>\n",
       "      <th>4998</th>\n",
       "      <td>A mi me gustan mucho las fundas TPU, ya que so...</td>\n",
       "      <td>Genial</td>\n",
       "      <td>5</td>\n",
       "      <td>gustan funda tpu funda normalment fina colorid...</td>\n",
       "    </tr>\n",
       "    <tr>\n",
       "      <th>4999</th>\n",
       "      <td>El artículo ha cumplido con las expectativas q...</td>\n",
       "      <td>Buena calidad</td>\n",
       "      <td>5</td>\n",
       "      <td>artículo cumplido expectativa deseaba</td>\n",
       "    </tr>\n",
       "  </tbody>\n",
       "</table>\n",
       "</div>"
      ]
     },
     "metadata": {},
     "execution_count": 182
    }
   ],
   "metadata": {}
  },
  {
   "cell_type": "code",
   "execution_count": null,
   "source": [],
   "outputs": [],
   "metadata": {}
  },
  {
   "cell_type": "code",
   "execution_count": 183,
   "source": [
    "df_freq = pd.DataFrame(list(freq.items()), columns = [\"Word\", \"Frecuency\"])\r\n",
    "df_freq.sort_values('Frecuency',ascending=False, inplace = True)\r\n",
    "df_freq.head(20)"
   ],
   "outputs": [
    {
     "output_type": "execute_result",
     "data": {
      "text/plain": [
       "            Word  Frecuency\n",
       "13          bien       1324\n",
       "83       calidad        742\n",
       "91      producto        642\n",
       "87        precio        534\n",
       "563        buena        509\n",
       "46       bastant        336\n",
       "12      funciona        282\n",
       "1203        buen        272\n",
       "261         pued        263\n",
       "124          día        260\n",
       "269         hace        252\n",
       "275        parec        251\n",
       "172           ma        249\n",
       "100           do        247\n",
       "76    recomiendo        244\n",
       "145        queda        238\n",
       "489        mejor        233\n",
       "497     problema        233\n",
       "157          uso        232\n",
       "1548    perfecto        231"
      ],
      "text/html": [
       "<div>\n",
       "<style scoped>\n",
       "    .dataframe tbody tr th:only-of-type {\n",
       "        vertical-align: middle;\n",
       "    }\n",
       "\n",
       "    .dataframe tbody tr th {\n",
       "        vertical-align: top;\n",
       "    }\n",
       "\n",
       "    .dataframe thead th {\n",
       "        text-align: right;\n",
       "    }\n",
       "</style>\n",
       "<table border=\"1\" class=\"dataframe\">\n",
       "  <thead>\n",
       "    <tr style=\"text-align: right;\">\n",
       "      <th></th>\n",
       "      <th>Word</th>\n",
       "      <th>Frecuency</th>\n",
       "    </tr>\n",
       "  </thead>\n",
       "  <tbody>\n",
       "    <tr>\n",
       "      <th>13</th>\n",
       "      <td>bien</td>\n",
       "      <td>1324</td>\n",
       "    </tr>\n",
       "    <tr>\n",
       "      <th>83</th>\n",
       "      <td>calidad</td>\n",
       "      <td>742</td>\n",
       "    </tr>\n",
       "    <tr>\n",
       "      <th>91</th>\n",
       "      <td>producto</td>\n",
       "      <td>642</td>\n",
       "    </tr>\n",
       "    <tr>\n",
       "      <th>87</th>\n",
       "      <td>precio</td>\n",
       "      <td>534</td>\n",
       "    </tr>\n",
       "    <tr>\n",
       "      <th>563</th>\n",
       "      <td>buena</td>\n",
       "      <td>509</td>\n",
       "    </tr>\n",
       "    <tr>\n",
       "      <th>46</th>\n",
       "      <td>bastant</td>\n",
       "      <td>336</td>\n",
       "    </tr>\n",
       "    <tr>\n",
       "      <th>12</th>\n",
       "      <td>funciona</td>\n",
       "      <td>282</td>\n",
       "    </tr>\n",
       "    <tr>\n",
       "      <th>1203</th>\n",
       "      <td>buen</td>\n",
       "      <td>272</td>\n",
       "    </tr>\n",
       "    <tr>\n",
       "      <th>261</th>\n",
       "      <td>pued</td>\n",
       "      <td>263</td>\n",
       "    </tr>\n",
       "    <tr>\n",
       "      <th>124</th>\n",
       "      <td>día</td>\n",
       "      <td>260</td>\n",
       "    </tr>\n",
       "    <tr>\n",
       "      <th>269</th>\n",
       "      <td>hace</td>\n",
       "      <td>252</td>\n",
       "    </tr>\n",
       "    <tr>\n",
       "      <th>275</th>\n",
       "      <td>parec</td>\n",
       "      <td>251</td>\n",
       "    </tr>\n",
       "    <tr>\n",
       "      <th>172</th>\n",
       "      <td>ma</td>\n",
       "      <td>249</td>\n",
       "    </tr>\n",
       "    <tr>\n",
       "      <th>100</th>\n",
       "      <td>do</td>\n",
       "      <td>247</td>\n",
       "    </tr>\n",
       "    <tr>\n",
       "      <th>76</th>\n",
       "      <td>recomiendo</td>\n",
       "      <td>244</td>\n",
       "    </tr>\n",
       "    <tr>\n",
       "      <th>145</th>\n",
       "      <td>queda</td>\n",
       "      <td>238</td>\n",
       "    </tr>\n",
       "    <tr>\n",
       "      <th>489</th>\n",
       "      <td>mejor</td>\n",
       "      <td>233</td>\n",
       "    </tr>\n",
       "    <tr>\n",
       "      <th>497</th>\n",
       "      <td>problema</td>\n",
       "      <td>233</td>\n",
       "    </tr>\n",
       "    <tr>\n",
       "      <th>157</th>\n",
       "      <td>uso</td>\n",
       "      <td>232</td>\n",
       "    </tr>\n",
       "    <tr>\n",
       "      <th>1548</th>\n",
       "      <td>perfecto</td>\n",
       "      <td>231</td>\n",
       "    </tr>\n",
       "  </tbody>\n",
       "</table>\n",
       "</div>"
      ]
     },
     "metadata": {},
     "execution_count": 183
    }
   ],
   "metadata": {}
  },
  {
   "cell_type": "code",
   "execution_count": 184,
   "source": [
    "import string\r\n",
    "print(string.punctuation)"
   ],
   "outputs": [
    {
     "output_type": "stream",
     "name": "stdout",
     "text": [
      "!\"#$%&'()*+,-./:;<=>?@[\\]^_`{|}~\n"
     ]
    }
   ],
   "metadata": {}
  },
  {
   "cell_type": "code",
   "execution_count": 185,
   "source": [
    "import re, string\r\n",
    "\r\n",
    "def remove_punctuation ( flat_list ):\r\n",
    "  return re.sub('[%s]' % re.escape(string.punctuation), ' ', text)\r\n",
    "\r\n",
    "df_freq = pd.DataFrame(list(freq.items()), columns = [\"Word\", \"Frecuency\"])\r\n",
    "df_freq.sort_values('Frecuency',ascending=False, inplace = True)\r\n",
    "df_freq.head()"
   ],
   "outputs": [
    {
     "output_type": "execute_result",
     "data": {
      "text/plain": [
       "         Word  Frecuency\n",
       "13       bien       1324\n",
       "83    calidad        742\n",
       "91   producto        642\n",
       "87     precio        534\n",
       "563     buena        509"
      ],
      "text/html": [
       "<div>\n",
       "<style scoped>\n",
       "    .dataframe tbody tr th:only-of-type {\n",
       "        vertical-align: middle;\n",
       "    }\n",
       "\n",
       "    .dataframe tbody tr th {\n",
       "        vertical-align: top;\n",
       "    }\n",
       "\n",
       "    .dataframe thead th {\n",
       "        text-align: right;\n",
       "    }\n",
       "</style>\n",
       "<table border=\"1\" class=\"dataframe\">\n",
       "  <thead>\n",
       "    <tr style=\"text-align: right;\">\n",
       "      <th></th>\n",
       "      <th>Word</th>\n",
       "      <th>Frecuency</th>\n",
       "    </tr>\n",
       "  </thead>\n",
       "  <tbody>\n",
       "    <tr>\n",
       "      <th>13</th>\n",
       "      <td>bien</td>\n",
       "      <td>1324</td>\n",
       "    </tr>\n",
       "    <tr>\n",
       "      <th>83</th>\n",
       "      <td>calidad</td>\n",
       "      <td>742</td>\n",
       "    </tr>\n",
       "    <tr>\n",
       "      <th>91</th>\n",
       "      <td>producto</td>\n",
       "      <td>642</td>\n",
       "    </tr>\n",
       "    <tr>\n",
       "      <th>87</th>\n",
       "      <td>precio</td>\n",
       "      <td>534</td>\n",
       "    </tr>\n",
       "    <tr>\n",
       "      <th>563</th>\n",
       "      <td>buena</td>\n",
       "      <td>509</td>\n",
       "    </tr>\n",
       "  </tbody>\n",
       "</table>\n",
       "</div>"
      ]
     },
     "metadata": {},
     "execution_count": 185
    }
   ],
   "metadata": {}
  },
  {
   "cell_type": "code",
   "execution_count": 186,
   "source": [
    "Good = list(itertools.chain(*freq))\r\n",
    "Good[0:10]"
   ],
   "outputs": [
    {
     "output_type": "execute_result",
     "data": {
      "text/plain": [
       "['b', 'i', 'e', 'n', 'c', 'a', 'l', 'i', 'd', 'a']"
      ]
     },
     "metadata": {},
     "execution_count": 186
    }
   ],
   "metadata": {}
  },
  {
   "cell_type": "code",
   "execution_count": 187,
   "source": [
    "print(nltk.word_tokenize(review))"
   ],
   "outputs": [
    {
     "output_type": "stream",
     "name": "stdout",
     "text": [
      "['artículo', 'cumplido', 'expectativa', 'deseaba']\n"
     ]
    }
   ],
   "metadata": {}
  },
  {
   "cell_type": "markdown",
   "source": [
    "Falta distribucion de frecuencia de palabras con seaborn.\r\n",
    "Ver la frecuencia de palabras ahora segmentado por rubro"
   ],
   "metadata": {}
  },
  {
   "cell_type": "code",
   "execution_count": 188,
   "source": [
    "plt.figure(figsize = (15,8))\r\n",
    "plot = sns.barplot(x  = df_freq.iloc[:30].Word, y = df_freq.iloc[:30].Frecuency)\r\n",
    "for item in plot.get_xticklabels():\r\n",
    "    item.set_rotation(90)\r\n",
    "plt.show()"
   ],
   "outputs": [
    {
     "output_type": "display_data",
     "data": {
      "text/plain": [
       "<Figure size 1080x576 with 1 Axes>"
      ],
      "image/png": "[encoded data removed]"
     },
     "metadata": {}
    }
   ],
   "metadata": {}
  },
  {
   "cell_type": "markdown",
   "source": [],
   "metadata": {}
  },
  {
   "cell_type": "markdown",
   "source": [
    "# 4 - Vectorizacion"
   ],
   "metadata": {}
  },
  {
   "cell_type": "markdown",
   "source": [
    "# 5 - Modelado"
   ],
   "metadata": {}
  },
  {
   "cell_type": "markdown",
   "source": [],
   "metadata": {}
  }
 ],
 "metadata": {
  "colab": {
   "collapsed_sections": [],
   "name": "DS_Proyecto_03_NLP.ipynb",
   "provenance": []
  },
  "kernelspec": {
   "name": "python3",
   "display_name": "Python 3.8.8 64-bit ('base': conda)"
  },
  "language_info": {
   "codemirror_mode": {
    "name": "ipython",
    "version": 3
   },
   "file_extension": ".py",
   "mimetype": "text/x-python",
   "name": "python",
   "nbconvert_exporter": "python",
   "pygments_lexer": "ipython3",
   "version": "3.8.8"
  },
  "interpreter": {
   "hash": "198c1793b629ae727cb38d2b19a099071549248a642e9c964e1dbf9f79c6bef9"
  }
 },
 "nbformat": 4,
 "nbformat_minor": 1
}