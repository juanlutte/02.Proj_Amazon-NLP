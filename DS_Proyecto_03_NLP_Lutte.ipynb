{
 "cells": [
  {
   "cell_type": "markdown",
   "metadata": {
    "id": "2GRQnxMzISE_"
   },
   "source": [
    "# Proyecto 03 - Procesamiento del Lenguaje Natural\n",
    "\n",
    "## Dataset: The Multilingual Amazon Reviews Corpus\n",
    "\n",
    "**Recuerda descargar el dataset de [aquí](https://github.com/kang205/SASRec). Es un archivo .zip que contiene tres documentos. Más información sobre el dataset [aquí](https://registry.opendata.aws/amazon-reviews-ml/). Es importante que tengas en cuenta la [licencia](https://docs.opendata.aws/amazon-reviews-ml/license.txt) de este dataset.**\n",
    "\n",
    "### Exploración de datos y Procesamiento del Lenguaje Natural\n",
    "\n",
    "Dedícale un buen tiempo a hacer un Análisis Exploratorio de Datos. Considera que hasta que no hayas aplicado las herramientas de Procesamiento del Lenguaje Natural vistas, será difícil completar este análisis. Elige preguntas que creas que puedas responder con este dataset. Por ejemplo, ¿qué palabras están asociadas a calificaciones positivas y qué palabras a calificaciones negativas?\n",
    "\n",
    "### Machine Learning\n",
    "\n",
    "Implementa un modelo que, dada la crítica de un producto, asigne la cantidad de estrellas correspondiente. **Para pensar**: ¿es un problema de Clasificación o de Regresión?\n",
    "\n",
    "1. Haz todas las transformaciones de datos que consideres necesarias. Justifica.\n",
    "1. Evalúa de forma apropiada sus resultados. Justifica la métrica elegida.\n",
    "1. Elige un modelo benchmark y compara tus resultados con este modelo.\n",
    "1. Optimiza los hiperparámetros de tu modelo.\n",
    "1. Intenta responder la pregunta: ¿Qué información está usando el modelo para predecir?\n",
    "\n",
    "**Recomendación:** si no te resulta conveniente trabajar en español con NLTK, te recomendamos que explores la librería [spaCy](https://spacy.io/).\n",
    "\n",
    "### Para pensar, investigar y, opcionalmente, implementar\n",
    "1. ¿Valdrá la pena convertir el problema de Machine Learning en un problema binario? Es decir, asignar únicamente las etiquetas Positiva y Negativa a cada crítica y hacer un modelo que, en lugar de predecir las estrellas, prediga esa etiqueta. Pensar en qué situación puede ser útil. ¿Esperas que el desempeño sea mejor o peor?\n",
    "1. ¿Hay algo que te gustaría investigar o probar?\n",
    "\n",
    "### **¡Tómate tiempo para investigar y leer mucho!**"
   ]
  },
  {
   "cell_type": "code",
   "execution_count": 240,
   "metadata": {
    "id": "x1GFwraSISFB"
   },
   "outputs": [],
   "source": [
    "import itertools\n",
    "\n",
    "import numpy as np\n",
    "import pandas as pd\n",
    "\n",
    "import matplotlib.pyplot as plt\n",
    "import seaborn as sns\n",
    "sns.set()\n",
    "\n",
    "import nltk"
   ]
  },
  {
   "cell_type": "code",
   "execution_count": 241,
   "metadata": {},
   "outputs": [
    {
     "name": "stderr",
     "output_type": "stream",
     "text": [
      "[nltk_data] Downloading package punkt to\n",
      "[nltk_data]     C:\\Users\\juanl\\AppData\\Roaming\\nltk_data...\n",
      "[nltk_data]   Package punkt is already up-to-date!\n",
      "[nltk_data] Downloading package stopwords to\n",
      "[nltk_data]     C:\\Users\\juanl\\AppData\\Roaming\\nltk_data...\n",
      "[nltk_data]   Package stopwords is already up-to-date!\n"
     ]
    },
    {
     "data": {
      "text/plain": [
       "True"
      ]
     },
     "execution_count": 241,
     "metadata": {},
     "output_type": "execute_result"
    }
   ],
   "source": [
    "nltk.download('punkt')\n",
    "nltk.download('stopwords')\n"
   ]
  },
  {
   "cell_type": "code",
   "execution_count": 242,
   "metadata": {},
   "outputs": [],
   "source": [
    "dataset = pd.read_json('dataset_es_dev.json', orient = 'records', lines=True)"
   ]
  },
  {
   "cell_type": "code",
   "execution_count": 243,
   "metadata": {},
   "outputs": [
    {
     "data": {
      "text/html": [
       "<div>\n",
       "<style scoped>\n",
       "    .dataframe tbody tr th:only-of-type {\n",
       "        vertical-align: middle;\n",
       "    }\n",
       "\n",
       "    .dataframe tbody tr th {\n",
       "        vertical-align: top;\n",
       "    }\n",
       "\n",
       "    .dataframe thead th {\n",
       "        text-align: right;\n",
       "    }\n",
       "</style>\n",
       "<table border=\"1\" class=\"dataframe\">\n",
       "  <thead>\n",
       "    <tr style=\"text-align: right;\">\n",
       "      <th></th>\n",
       "      <th>review_id</th>\n",
       "      <th>product_id</th>\n",
       "      <th>reviewer_id</th>\n",
       "      <th>stars</th>\n",
       "      <th>review_body</th>\n",
       "      <th>review_title</th>\n",
       "      <th>language</th>\n",
       "      <th>product_category</th>\n",
       "    </tr>\n",
       "  </thead>\n",
       "  <tbody>\n",
       "    <tr>\n",
       "      <th>0</th>\n",
       "      <td>es_0417480</td>\n",
       "      <td>product_es_0873923</td>\n",
       "      <td>reviewer_es_0672978</td>\n",
       "      <td>1</td>\n",
       "      <td>Malisimo, muy grande demasiado aparatoso y mal...</td>\n",
       "      <td>Mala compra</td>\n",
       "      <td>es</td>\n",
       "      <td>wireless</td>\n",
       "    </tr>\n",
       "    <tr>\n",
       "      <th>1</th>\n",
       "      <td>es_0180432</td>\n",
       "      <td>product_es_0713146</td>\n",
       "      <td>reviewer_es_0100858</td>\n",
       "      <td>1</td>\n",
       "      <td>No he recibido el pedido no la devolución</td>\n",
       "      <td>No lo he recibido</td>\n",
       "      <td>es</td>\n",
       "      <td>apparel</td>\n",
       "    </tr>\n",
       "    <tr>\n",
       "      <th>2</th>\n",
       "      <td>es_0144850</td>\n",
       "      <td>product_es_0356874</td>\n",
       "      <td>reviewer_es_0486447</td>\n",
       "      <td>1</td>\n",
       "      <td>Tengo que buscar otro sistema, este no funcion...</td>\n",
       "      <td>Que no aprieta bien en el manillar</td>\n",
       "      <td>es</td>\n",
       "      <td>sports</td>\n",
       "    </tr>\n",
       "    <tr>\n",
       "      <th>3</th>\n",
       "      <td>es_0339629</td>\n",
       "      <td>product_es_0939832</td>\n",
       "      <td>reviewer_es_0894703</td>\n",
       "      <td>1</td>\n",
       "      <td>Utilicé las brocas de menor diámetro y se me d...</td>\n",
       "      <td>Brocas de mantequilla</td>\n",
       "      <td>es</td>\n",
       "      <td>home_improvement</td>\n",
       "    </tr>\n",
       "    <tr>\n",
       "      <th>4</th>\n",
       "      <td>es_0858362</td>\n",
       "      <td>product_es_0489066</td>\n",
       "      <td>reviewer_es_0887663</td>\n",
       "      <td>1</td>\n",
       "      <td>No me gusta su olor a viejo y aspecto malo</td>\n",
       "      <td>No me gusta</td>\n",
       "      <td>es</td>\n",
       "      <td>beauty</td>\n",
       "    </tr>\n",
       "  </tbody>\n",
       "</table>\n",
       "</div>"
      ],
      "text/plain": [
       "    review_id          product_id          reviewer_id  stars  \\\n",
       "0  es_0417480  product_es_0873923  reviewer_es_0672978      1   \n",
       "1  es_0180432  product_es_0713146  reviewer_es_0100858      1   \n",
       "2  es_0144850  product_es_0356874  reviewer_es_0486447      1   \n",
       "3  es_0339629  product_es_0939832  reviewer_es_0894703      1   \n",
       "4  es_0858362  product_es_0489066  reviewer_es_0887663      1   \n",
       "\n",
       "                                         review_body  \\\n",
       "0  Malisimo, muy grande demasiado aparatoso y mal...   \n",
       "1          No he recibido el pedido no la devolución   \n",
       "2  Tengo que buscar otro sistema, este no funcion...   \n",
       "3  Utilicé las brocas de menor diámetro y se me d...   \n",
       "4         No me gusta su olor a viejo y aspecto malo   \n",
       "\n",
       "                         review_title language  product_category  \n",
       "0                         Mala compra       es          wireless  \n",
       "1                   No lo he recibido       es           apparel  \n",
       "2  Que no aprieta bien en el manillar       es            sports  \n",
       "3               Brocas de mantequilla       es  home_improvement  \n",
       "4                         No me gusta       es            beauty  "
      ]
     },
     "execution_count": 243,
     "metadata": {},
     "output_type": "execute_result"
    }
   ],
   "source": [
    "dataset.head()"
   ]
  },
  {
   "cell_type": "code",
   "execution_count": 244,
   "metadata": {},
   "outputs": [
    {
     "data": {
      "text/plain": [
       "<AxesSubplot:xlabel='count', ylabel='product_category'>"
      ]
     },
     "execution_count": 244,
     "metadata": {},
     "output_type": "execute_result"
    },
    {
     "data": {
      "image/png": "[encoded data removed]",
      "text/plain": [
       "<Figure size 2160x1296 with 1 Axes>"
      ]
     },
     "metadata": {},
     "output_type": "display_data"
    }
   ],
   "source": [
    "plt.figure(figsize=(30,18))\n",
    "sns.countplot(data = dataset, y = \"product_category\", palette=\"coolwarm\")\n"
   ]
  },
  {
   "cell_type": "code",
   "execution_count": 245,
   "metadata": {},
   "outputs": [
    {
     "data": {
      "text/plain": [
       "(5000, 8)"
      ]
     },
     "execution_count": 245,
     "metadata": {},
     "output_type": "execute_result"
    }
   ],
   "source": [
    "dataset.shape"
   ]
  },
  {
   "cell_type": "code",
   "execution_count": 246,
   "metadata": {},
   "outputs": [
    {
     "data": {
      "image/png": "[encoded data removed]",
      "text/plain": [
       "<Figure size 432x288 with 1 Axes>"
      ]
     },
     "metadata": {},
     "output_type": "display_data"
    }
   ],
   "source": [
    "# Relizo un gráfico de recuento para las calificaciones que tiene el dataset. Son 1000 registros para cada estrella.\n",
    "sns.countplot(data= dataset, x=\"stars\")\n",
    "plt.show()"
   ]
  },
  {
   "cell_type": "code",
   "execution_count": 247,
   "metadata": {},
   "outputs": [
    {
     "name": "stdout",
     "output_type": "stream",
     "text": [
      "1018 Nada más llegar he solicitado la devolución porque no es igual al de la foto. El unicornio que rota con la música es muy diferente del de la foto, bastante feo.\n"
     ]
    }
   ],
   "source": [
    "# Miro al azar una review.\n",
    "index_random = np.random.randint(1,5000)\n",
    "titular = dataset.review_body.iloc[index_random]\n",
    "print(index_random, titular)\n"
   ]
  },
  {
   "cell_type": "code",
   "execution_count": 248,
   "metadata": {},
   "outputs": [
    {
     "name": "stdout",
     "output_type": "stream",
     "text": [
      "1018 2\n"
     ]
    }
   ],
   "source": [
    "print(index_random, dataset.stars.iloc[index_random])\n"
   ]
  },
  {
   "cell_type": "markdown",
   "metadata": {},
   "source": [
    "### Tokenizar"
   ]
  },
  {
   "cell_type": "code",
   "execution_count": 249,
   "metadata": {},
   "outputs": [
    {
     "name": "stdout",
     "output_type": "stream",
     "text": [
      "863 Me duro 2 días antes de dañarse.\n"
     ]
    }
   ],
   "source": [
    "index_random = np.random.randint(0,high = dataset.shape[0])\n",
    "review = dataset.iloc[index_random].review_body\n",
    "print(index_random, review)\n"
   ]
  },
  {
   "cell_type": "code",
   "execution_count": 250,
   "metadata": {},
   "outputs": [
    {
     "data": {
      "text/plain": [
       "['Me', 'duro', '2', 'días', 'antes', 'de', 'dañarse', '.']"
      ]
     },
     "execution_count": 250,
     "metadata": {},
     "output_type": "execute_result"
    }
   ],
   "source": [
    "review_st= nltk.tokenize.word_tokenize(review)\n",
    "review_st\n",
    "\n"
   ]
  },
  {
   "cell_type": "code",
   "execution_count": 251,
   "metadata": {},
   "outputs": [],
   "source": [
    "stopwords = nltk.corpus.stopwords.words('spanish')\n",
    "#stopwords = [palabra for palabra in stopwords if not in palabra]\n"
   ]
  },
  {
   "cell_type": "code",
   "execution_count": 252,
   "metadata": {},
   "outputs": [
    {
     "data": {
      "text/plain": [
       "['de',\n",
       " 'la',\n",
       " 'que',\n",
       " 'el',\n",
       " 'en',\n",
       " 'y',\n",
       " 'a',\n",
       " 'los',\n",
       " 'del',\n",
       " 'se',\n",
       " 'las',\n",
       " 'por',\n",
       " 'un',\n",
       " 'para',\n",
       " 'con',\n",
       " 'no',\n",
       " 'una',\n",
       " 'su',\n",
       " 'al',\n",
       " 'lo',\n",
       " 'como',\n",
       " 'más',\n",
       " 'pero',\n",
       " 'sus',\n",
       " 'le',\n",
       " 'ya',\n",
       " 'o',\n",
       " 'este',\n",
       " 'sí',\n",
       " 'porque',\n",
       " 'esta',\n",
       " 'entre',\n",
       " 'cuando',\n",
       " 'muy',\n",
       " 'sin',\n",
       " 'sobre',\n",
       " 'también',\n",
       " 'me',\n",
       " 'hasta',\n",
       " 'hay',\n",
       " 'donde',\n",
       " 'quien',\n",
       " 'desde',\n",
       " 'todo',\n",
       " 'nos',\n",
       " 'durante',\n",
       " 'todos',\n",
       " 'uno',\n",
       " 'les',\n",
       " 'ni',\n",
       " 'contra',\n",
       " 'otros',\n",
       " 'ese',\n",
       " 'eso',\n",
       " 'ante',\n",
       " 'ellos',\n",
       " 'e',\n",
       " 'esto',\n",
       " 'mí',\n",
       " 'antes',\n",
       " 'algunos',\n",
       " 'qué',\n",
       " 'unos',\n",
       " 'yo',\n",
       " 'otro',\n",
       " 'otras',\n",
       " 'otra',\n",
       " 'él',\n",
       " 'tanto',\n",
       " 'esa',\n",
       " 'estos',\n",
       " 'mucho',\n",
       " 'quienes',\n",
       " 'nada',\n",
       " 'muchos',\n",
       " 'cual',\n",
       " 'poco',\n",
       " 'ella',\n",
       " 'estar',\n",
       " 'estas',\n",
       " 'algunas',\n",
       " 'algo',\n",
       " 'nosotros',\n",
       " 'mi',\n",
       " 'mis',\n",
       " 'tú',\n",
       " 'te',\n",
       " 'ti',\n",
       " 'tu',\n",
       " 'tus',\n",
       " 'ellas',\n",
       " 'nosotras',\n",
       " 'vosotros',\n",
       " 'vosotras',\n",
       " 'os',\n",
       " 'mío',\n",
       " 'mía',\n",
       " 'míos',\n",
       " 'mías',\n",
       " 'tuyo',\n",
       " 'tuya',\n",
       " 'tuyos',\n",
       " 'tuyas',\n",
       " 'suyo',\n",
       " 'suya',\n",
       " 'suyos',\n",
       " 'suyas',\n",
       " 'nuestro',\n",
       " 'nuestra',\n",
       " 'nuestros',\n",
       " 'nuestras',\n",
       " 'vuestro',\n",
       " 'vuestra',\n",
       " 'vuestros',\n",
       " 'vuestras',\n",
       " 'esos',\n",
       " 'esas',\n",
       " 'estoy',\n",
       " 'estás',\n",
       " 'está',\n",
       " 'estamos',\n",
       " 'estáis',\n",
       " 'están',\n",
       " 'esté',\n",
       " 'estés',\n",
       " 'estemos',\n",
       " 'estéis',\n",
       " 'estén',\n",
       " 'estaré',\n",
       " 'estarás',\n",
       " 'estará',\n",
       " 'estaremos',\n",
       " 'estaréis',\n",
       " 'estarán',\n",
       " 'estaría',\n",
       " 'estarías',\n",
       " 'estaríamos',\n",
       " 'estaríais',\n",
       " 'estarían',\n",
       " 'estaba',\n",
       " 'estabas',\n",
       " 'estábamos',\n",
       " 'estabais',\n",
       " 'estaban',\n",
       " 'estuve',\n",
       " 'estuviste',\n",
       " 'estuvo',\n",
       " 'estuvimos',\n",
       " 'estuvisteis',\n",
       " 'estuvieron',\n",
       " 'estuviera',\n",
       " 'estuvieras',\n",
       " 'estuviéramos',\n",
       " 'estuvierais',\n",
       " 'estuvieran',\n",
       " 'estuviese',\n",
       " 'estuvieses',\n",
       " 'estuviésemos',\n",
       " 'estuvieseis',\n",
       " 'estuviesen',\n",
       " 'estando',\n",
       " 'estado',\n",
       " 'estada',\n",
       " 'estados',\n",
       " 'estadas',\n",
       " 'estad',\n",
       " 'he',\n",
       " 'has',\n",
       " 'ha',\n",
       " 'hemos',\n",
       " 'habéis',\n",
       " 'han',\n",
       " 'haya',\n",
       " 'hayas',\n",
       " 'hayamos',\n",
       " 'hayáis',\n",
       " 'hayan',\n",
       " 'habré',\n",
       " 'habrás',\n",
       " 'habrá',\n",
       " 'habremos',\n",
       " 'habréis',\n",
       " 'habrán',\n",
       " 'habría',\n",
       " 'habrías',\n",
       " 'habríamos',\n",
       " 'habríais',\n",
       " 'habrían',\n",
       " 'había',\n",
       " 'habías',\n",
       " 'habíamos',\n",
       " 'habíais',\n",
       " 'habían',\n",
       " 'hube',\n",
       " 'hubiste',\n",
       " 'hubo',\n",
       " 'hubimos',\n",
       " 'hubisteis',\n",
       " 'hubieron',\n",
       " 'hubiera',\n",
       " 'hubieras',\n",
       " 'hubiéramos',\n",
       " 'hubierais',\n",
       " 'hubieran',\n",
       " 'hubiese',\n",
       " 'hubieses',\n",
       " 'hubiésemos',\n",
       " 'hubieseis',\n",
       " 'hubiesen',\n",
       " 'habiendo',\n",
       " 'habido',\n",
       " 'habida',\n",
       " 'habidos',\n",
       " 'habidas',\n",
       " 'soy',\n",
       " 'eres',\n",
       " 'es',\n",
       " 'somos',\n",
       " 'sois',\n",
       " 'son',\n",
       " 'sea',\n",
       " 'seas',\n",
       " 'seamos',\n",
       " 'seáis',\n",
       " 'sean',\n",
       " 'seré',\n",
       " 'serás',\n",
       " 'será',\n",
       " 'seremos',\n",
       " 'seréis',\n",
       " 'serán',\n",
       " 'sería',\n",
       " 'serías',\n",
       " 'seríamos',\n",
       " 'seríais',\n",
       " 'serían',\n",
       " 'era',\n",
       " 'eras',\n",
       " 'éramos',\n",
       " 'erais',\n",
       " 'eran',\n",
       " 'fui',\n",
       " 'fuiste',\n",
       " 'fue',\n",
       " 'fuimos',\n",
       " 'fuisteis',\n",
       " 'fueron',\n",
       " 'fuera',\n",
       " 'fueras',\n",
       " 'fuéramos',\n",
       " 'fuerais',\n",
       " 'fueran',\n",
       " 'fuese',\n",
       " 'fueses',\n",
       " 'fuésemos',\n",
       " 'fueseis',\n",
       " 'fuesen',\n",
       " 'sintiendo',\n",
       " 'sentido',\n",
       " 'sentida',\n",
       " 'sentidos',\n",
       " 'sentidas',\n",
       " 'siente',\n",
       " 'sentid',\n",
       " 'tengo',\n",
       " 'tienes',\n",
       " 'tiene',\n",
       " 'tenemos',\n",
       " 'tenéis',\n",
       " 'tienen',\n",
       " 'tenga',\n",
       " 'tengas',\n",
       " 'tengamos',\n",
       " 'tengáis',\n",
       " 'tengan',\n",
       " 'tendré',\n",
       " 'tendrás',\n",
       " 'tendrá',\n",
       " 'tendremos',\n",
       " 'tendréis',\n",
       " 'tendrán',\n",
       " 'tendría',\n",
       " 'tendrías',\n",
       " 'tendríamos',\n",
       " 'tendríais',\n",
       " 'tendrían',\n",
       " 'tenía',\n",
       " 'tenías',\n",
       " 'teníamos',\n",
       " 'teníais',\n",
       " 'tenían',\n",
       " 'tuve',\n",
       " 'tuviste',\n",
       " 'tuvo',\n",
       " 'tuvimos',\n",
       " 'tuvisteis',\n",
       " 'tuvieron',\n",
       " 'tuviera',\n",
       " 'tuvieras',\n",
       " 'tuviéramos',\n",
       " 'tuvierais',\n",
       " 'tuvieran',\n",
       " 'tuviese',\n",
       " 'tuvieses',\n",
       " 'tuviésemos',\n",
       " 'tuvieseis',\n",
       " 'tuviesen',\n",
       " 'teniendo',\n",
       " 'tenido',\n",
       " 'tenida',\n",
       " 'tenidos',\n",
       " 'tenidas',\n",
       " 'tened']"
      ]
     },
     "execution_count": 252,
     "metadata": {},
     "output_type": "execute_result"
    }
   ],
   "source": [
    "stopwords"
   ]
  },
  {
   "cell_type": "code",
   "execution_count": 253,
   "metadata": {},
   "outputs": [
    {
     "data": {
      "text/plain": [
       "['Me', 'duro', '2', 'días', 'dañarse', '.']"
      ]
     },
     "execution_count": 253,
     "metadata": {},
     "output_type": "execute_result"
    }
   ],
   "source": [
    "review_wt_sin_sw= [word for word in review_st if word not in stopwords]\n",
    "review_wt_sin_sw"
   ]
  },
  {
   "cell_type": "code",
   "execution_count": 254,
   "metadata": {},
   "outputs": [
    {
     "data": {
      "text/plain": [
       "FreqDist({'Me': 1, 'duro': 1, '2': 1, 'días': 1, 'dañarse': 1, '.': 1})"
      ]
     },
     "execution_count": 254,
     "metadata": {},
     "output_type": "execute_result"
    }
   ],
   "source": [
    "freq = nltk.FreqDist(review_wt_sin_sw)\n",
    "freq"
   ]
  },
  {
   "cell_type": "markdown",
   "metadata": {},
   "source": [
    "## Normalización de la información"
   ]
  },
  {
   "cell_type": "markdown",
   "metadata": {},
   "source": [
    "Antes de comenzar con el análisis es necesario procesar el texto para voverlo apto para la predicción. Importaré las librerias para stemmizar las palabras, es decir obtener sus raíces o reducir las formas flexivas de cada palabra a una base o raíz común. \n",
    "\n",
    "Los algoritmos de stemming funcionan cortando el final o el principio de la palabra, teniendo en cuenta una lista de prefijos y sufijos comunes que se pueden encontrar en una palabra flexionada. \n",
    "\n",
    "Elegiré esta opción por encima de la lematización, ya que desarrollar un stemmer es mucho más sencillo que construir un lematizador. En este último, se requieren mayores conocimientos lingüísticos para crear los diccionarios que permitan al algoritmo buscar la forma adecuada de la palabra.\n"
   ]
  },
  {
   "cell_type": "markdown",
   "metadata": {},
   "source": [
    "  ### Stemmer"
   ]
  },
  {
   "cell_type": "code",
   "execution_count": 255,
   "metadata": {},
   "outputs": [],
   "source": [
    "# Importamos esta libreria que nos permite reemplzar caracteres\n",
    "import re\n",
    "\n",
    "# Importamos la función que nos permite Stemmizar de nltk y definimos el stemmer\n",
    "from nltk.stem import PorterStemmer\n",
    "stemmer = PorterStemmer()\n",
    "\n",
    "#from nltk.stem import SnowballStemmer\n",
    "#stemmer_spanish = SnowballStemmer('spanish')"
   ]
  },
  {
   "cell_type": "code",
   "execution_count": 292,
   "metadata": {},
   "outputs": [],
   "source": [
    "# Recorremos todos los review y le vamos aplicando la Normalizacion y luega el Stemming a cada uno\n",
    "review_list=[]\n",
    "simb=[\"!\",\".\",\",\",\"no\",\"si\",\"...\",\")\",\"(\"]\n",
    "todas_palabras_list=[]\n",
    "for review in dataset.Todojunto:\n",
    "    # Vamos a reemplzar los caracteres que no sean leras por espacios\n",
    "    #review=re.sub(\"[^a-zA-Z]\",\" \",str(review))\n",
    "    # Pasamos todo a minúsculas\n",
    "    review=review.lower()\n",
    "    # Tokenizamos para separar las palabras del review\n",
    "    review=nltk.word_tokenize(review)\n",
    "    # Eliminamos las palabras de menos de 3 letras\n",
    "    #titular = [palabra for palabra in titular if len(palabra)>3]\n",
    "    # Sacamos las Stopwords\n",
    "    review = [palabra for palabra in review if not palabra in stopwords if not palabra in simb]\n",
    "    \n",
    "    ## Hasta acá Normalizamos, ahora a stemmizar\n",
    "    \n",
    "    # Aplicamos la funcion para buscar la raiz de las palabras\n",
    "    review = [stemmer.stem(palabra) for palabra in review]\n",
    "    #review = [palabra for palabra in review]\n",
    "    # Por ultimo volvemos a unir el titular\n",
    "    todas_palabras_list.append(review)\n",
    "    review = \" \".join(review)\n",
    "    \n",
    "    # Vamos armando una lista con todos los titulares\n",
    "    review_list.append(review)\n",
    "    \n"
   ]
  },
  {
   "cell_type": "code",
   "execution_count": 293,
   "metadata": {},
   "outputs": [
    {
     "data": {
      "text/plain": [
       "[['mala',\n",
       "  'compra',\n",
       "  'malisimo',\n",
       "  'grand',\n",
       "  'demasiado',\n",
       "  'aparatoso',\n",
       "  'mal',\n",
       "  'protector',\n",
       "  'pantalla'],\n",
       " ['recibido', 'recibido', 'pedido', 'devolución'],\n",
       " ['aprieta',\n",
       "  'bien',\n",
       "  'manillar',\n",
       "  'buscar',\n",
       "  'sistema',\n",
       "  'funciona',\n",
       "  'bien',\n",
       "  'abrazadera',\n",
       "  'lleva',\n",
       "  'agarrar',\n",
       "  'manillar',\n",
       "  'aprieta',\n",
       "  'bien',\n",
       "  'deslizando',\n",
       "  'linterna',\n",
       "  'hacia',\n",
       "  'abajo'],\n",
       " ['broca',\n",
       "  'mantequilla',\n",
       "  'utilicé',\n",
       "  'broca',\n",
       "  'menor',\n",
       "  'diámetro',\n",
       "  'doblaron',\n",
       "  'varia',\n",
       "  'mantequilla',\n",
       "  'hacer',\n",
       "  'mínima',\n",
       "  'presión',\n",
       "  'vez',\n",
       "  'doblada',\n",
       "  'intentar',\n",
       "  'enderezarla',\n",
       "  'parten',\n",
       "  'exteriorment',\n",
       "  'amarilla',\n",
       "  'interior',\n",
       "  'fundido',\n",
       "  'gri',\n",
       "  'peor',\n",
       "  'compra',\n",
       "  'hecho',\n",
       "  'bastant',\n",
       "  'tiempo'],\n",
       " ['gusta', 'gusta', 'olor', 'viejo', 'aspecto', 'malo'],\n",
       " ['bola',\n",
       "  'rota',\n",
       "  'hola',\n",
       "  'despué',\n",
       "  'recog',\n",
       "  'paquet',\n",
       "  'llegado',\n",
       "  'bola',\n",
       "  'rota'],\n",
       " ['part',\n",
       "  'poder',\n",
       "  'elegir',\n",
       "  'color',\n",
       "  'part',\n",
       "  'poder',\n",
       "  'elegir',\n",
       "  'color',\n",
       "  'envian',\n",
       "  'cesto',\n",
       "  'color',\n",
       "  'asa',\n",
       "  'imagino',\n",
       "  'aprovechando',\n",
       "  'van',\n",
       "  'rompiendo',\n",
       "  'dicen',\n",
       "  'color',\n",
       "  'aleatorio',\n",
       "  'foto',\n",
       "  'cesta',\n",
       "  'asa',\n",
       "  'mismo',\n",
       "  'color',\n",
       "  'recomiendo',\n",
       "  'comprarlo',\n",
       "  'pueda',\n",
       "  'elegir',\n",
       "  'color',\n",
       "  'único',\n",
       "  'alivio',\n",
       "  'romperá',\n",
       "  'pronto',\n",
       "  'calidad',\n",
       "  'allá'],\n",
       " ['tapa',\n",
       "  'pantalla',\n",
       "  'baja',\n",
       "  'calidad',\n",
       "  'ahí',\n",
       "  'precio',\n",
       "  'compra',\n",
       "  'supon',\n",
       "  'tirar',\n",
       "  'dinero'],\n",
       " ['recibido', 'producto', 'producto', 'sale', 'entregado', 'recibido'],\n",
       " ['patata', 'recomiendo', 'pega', 'acaba', 'despegandos']]"
      ]
     },
     "execution_count": 293,
     "metadata": {},
     "output_type": "execute_result"
    }
   ],
   "source": [
    "todas_palabras_list[0:10]"
   ]
  },
  {
   "cell_type": "code",
   "execution_count": 294,
   "metadata": {},
   "outputs": [
    {
     "data": {
      "text/plain": [
       "['mala',\n",
       " 'compra',\n",
       " 'malisimo',\n",
       " 'grand',\n",
       " 'demasiado',\n",
       " 'aparatoso',\n",
       " 'mal',\n",
       " 'protector',\n",
       " 'pantalla',\n",
       " 'recibido']"
      ]
     },
     "execution_count": 294,
     "metadata": {},
     "output_type": "execute_result"
    }
   ],
   "source": [
    "flat_list = [item for t in todas_palabras_list for item in t]\n",
    "flat_list[0:10]"
   ]
  },
  {
   "cell_type": "code",
   "execution_count": 295,
   "metadata": {},
   "outputs": [
    {
     "data": {
      "text/plain": [
       "FreqDist({'bien': 1632, 'calidad': 1102, 'producto': 833, 'buena': 754, 'precio': 721, 'buen': 460, 'funciona': 364, 'bastant': 360, 'perfecto': 336, 'mejor': 314, ...})"
      ]
     },
     "execution_count": 295,
     "metadata": {},
     "output_type": "execute_result"
    }
   ],
   "source": [
    "freq = nltk.FreqDist(flat_list)\n",
    "freq"
   ]
  },
  {
   "cell_type": "code",
   "execution_count": 296,
   "metadata": {},
   "outputs": [
    {
     "data": {
      "text/plain": [
       "['mala compra malisimo grand demasiado aparatoso mal protector pantalla',\n",
       " 'recibido recibido pedido devolución',\n",
       " 'aprieta bien manillar buscar sistema funciona bien abrazadera lleva agarrar manillar aprieta bien deslizando linterna hacia abajo',\n",
       " 'broca mantequilla utilicé broca menor diámetro doblaron varia mantequilla hacer mínima presión vez doblada intentar enderezarla parten exteriorment amarilla interior fundido gri peor compra hecho bastant tiempo',\n",
       " 'gusta gusta olor viejo aspecto malo']"
      ]
     },
     "execution_count": 296,
     "metadata": {},
     "output_type": "execute_result"
    }
   ],
   "source": [
    "review_list[0:5]"
   ]
  },
  {
   "cell_type": "code",
   "execution_count": 297,
   "metadata": {},
   "outputs": [
    {
     "data": {
      "text/html": [
       "<div>\n",
       "<style scoped>\n",
       "    .dataframe tbody tr th:only-of-type {\n",
       "        vertical-align: middle;\n",
       "    }\n",
       "\n",
       "    .dataframe tbody tr th {\n",
       "        vertical-align: top;\n",
       "    }\n",
       "\n",
       "    .dataframe thead th {\n",
       "        text-align: right;\n",
       "    }\n",
       "</style>\n",
       "<table border=\"1\" class=\"dataframe\">\n",
       "  <thead>\n",
       "    <tr style=\"text-align: right;\">\n",
       "      <th></th>\n",
       "      <th>review_id</th>\n",
       "      <th>product_id</th>\n",
       "      <th>reviewer_id</th>\n",
       "      <th>stars</th>\n",
       "      <th>review_body</th>\n",
       "      <th>review_title</th>\n",
       "      <th>language</th>\n",
       "      <th>product_category</th>\n",
       "      <th>review_stem</th>\n",
       "      <th>Todojunto</th>\n",
       "    </tr>\n",
       "  </thead>\n",
       "  <tbody>\n",
       "    <tr>\n",
       "      <th>4995</th>\n",
       "      <td>es_0179515</td>\n",
       "      <td>product_es_0158275</td>\n",
       "      <td>reviewer_es_0273644</td>\n",
       "      <td>5</td>\n",
       "      <td>Me ha encantado la cesta. Ha llegado impecable...</td>\n",
       "      <td>guadalupe</td>\n",
       "      <td>es</td>\n",
       "      <td>home</td>\n",
       "      <td>guadalup encantado cesta llegado impecable.tie...</td>\n",
       "      <td>guadalupe Me ha encantado la cesta. Ha llegado...</td>\n",
       "    </tr>\n",
       "    <tr>\n",
       "      <th>4996</th>\n",
       "      <td>es_0894902</td>\n",
       "      <td>product_es_0953259</td>\n",
       "      <td>reviewer_es_0153773</td>\n",
       "      <td>5</td>\n",
       "      <td>Desempeña su función correctamente</td>\n",
       "      <td>calidad precio</td>\n",
       "      <td>es</td>\n",
       "      <td>camera</td>\n",
       "      <td>calidad precio desempeña función correctament</td>\n",
       "      <td>calidad precio Desempeña su función correctamente</td>\n",
       "    </tr>\n",
       "    <tr>\n",
       "      <th>4997</th>\n",
       "      <td>es_0760496</td>\n",
       "      <td>product_es_0731995</td>\n",
       "      <td>reviewer_es_0171091</td>\n",
       "      <td>5</td>\n",
       "      <td>Me ha encantado la diadema! Las flores son tal...</td>\n",
       "      <td>Excelente</td>\n",
       "      <td>es</td>\n",
       "      <td>toy</td>\n",
       "      <td>excelent encantado diadema flore tal vienen im...</td>\n",
       "      <td>Excelente Me ha encantado la diadema! Las flor...</td>\n",
       "    </tr>\n",
       "    <tr>\n",
       "      <th>4998</th>\n",
       "      <td>es_0178380</td>\n",
       "      <td>product_es_0402051</td>\n",
       "      <td>reviewer_es_0686937</td>\n",
       "      <td>5</td>\n",
       "      <td>A mi me gustan mucho las fundas TPU, ya que so...</td>\n",
       "      <td>Genial</td>\n",
       "      <td>es</td>\n",
       "      <td>wireless</td>\n",
       "      <td>genial gustan funda tpu funda normalment fina ...</td>\n",
       "      <td>Genial A mi me gustan mucho las fundas TPU, ya...</td>\n",
       "    </tr>\n",
       "    <tr>\n",
       "      <th>4999</th>\n",
       "      <td>es_0810087</td>\n",
       "      <td>product_es_0684221</td>\n",
       "      <td>reviewer_es_0613091</td>\n",
       "      <td>5</td>\n",
       "      <td>El artículo ha cumplido con las expectativas q...</td>\n",
       "      <td>Buena calidad</td>\n",
       "      <td>es</td>\n",
       "      <td>apparel</td>\n",
       "      <td>buena calidad artículo cumplido expectativa de...</td>\n",
       "      <td>Buena calidad El artículo ha cumplido con las ...</td>\n",
       "    </tr>\n",
       "  </tbody>\n",
       "</table>\n",
       "</div>"
      ],
      "text/plain": [
       "       review_id          product_id          reviewer_id  stars  \\\n",
       "4995  es_0179515  product_es_0158275  reviewer_es_0273644      5   \n",
       "4996  es_0894902  product_es_0953259  reviewer_es_0153773      5   \n",
       "4997  es_0760496  product_es_0731995  reviewer_es_0171091      5   \n",
       "4998  es_0178380  product_es_0402051  reviewer_es_0686937      5   \n",
       "4999  es_0810087  product_es_0684221  reviewer_es_0613091      5   \n",
       "\n",
       "                                            review_body    review_title  \\\n",
       "4995  Me ha encantado la cesta. Ha llegado impecable...       guadalupe   \n",
       "4996                 Desempeña su función correctamente  calidad precio   \n",
       "4997  Me ha encantado la diadema! Las flores son tal...       Excelente   \n",
       "4998  A mi me gustan mucho las fundas TPU, ya que so...          Genial   \n",
       "4999  El artículo ha cumplido con las expectativas q...   Buena calidad   \n",
       "\n",
       "     language product_category  \\\n",
       "4995       es             home   \n",
       "4996       es           camera   \n",
       "4997       es              toy   \n",
       "4998       es         wireless   \n",
       "4999       es          apparel   \n",
       "\n",
       "                                            review_stem  \\\n",
       "4995  guadalup encantado cesta llegado impecable.tie...   \n",
       "4996      calidad precio desempeña función correctament   \n",
       "4997  excelent encantado diadema flore tal vienen im...   \n",
       "4998  genial gustan funda tpu funda normalment fina ...   \n",
       "4999  buena calidad artículo cumplido expectativa de...   \n",
       "\n",
       "                                              Todojunto  \n",
       "4995  guadalupe Me ha encantado la cesta. Ha llegado...  \n",
       "4996  calidad precio Desempeña su función correctamente  \n",
       "4997  Excelente Me ha encantado la diadema! Las flor...  \n",
       "4998  Genial A mi me gustan mucho las fundas TPU, ya...  \n",
       "4999  Buena calidad El artículo ha cumplido con las ...  "
      ]
     },
     "execution_count": 297,
     "metadata": {},
     "output_type": "execute_result"
    }
   ],
   "source": [
    "dataset[\"review_stem\"] = review_list\n",
    "dataset.tail()"
   ]
  },
  {
   "cell_type": "code",
   "execution_count": 298,
   "metadata": {},
   "outputs": [
    {
     "data": {
      "text/html": [
       "<div>\n",
       "<style scoped>\n",
       "    .dataframe tbody tr th:only-of-type {\n",
       "        vertical-align: middle;\n",
       "    }\n",
       "\n",
       "    .dataframe tbody tr th {\n",
       "        vertical-align: top;\n",
       "    }\n",
       "\n",
       "    .dataframe thead th {\n",
       "        text-align: right;\n",
       "    }\n",
       "</style>\n",
       "<table border=\"1\" class=\"dataframe\">\n",
       "  <thead>\n",
       "    <tr style=\"text-align: right;\">\n",
       "      <th></th>\n",
       "      <th>review_id</th>\n",
       "      <th>product_id</th>\n",
       "      <th>reviewer_id</th>\n",
       "      <th>stars</th>\n",
       "      <th>review_body</th>\n",
       "      <th>review_title</th>\n",
       "      <th>language</th>\n",
       "      <th>product_category</th>\n",
       "      <th>review_stem</th>\n",
       "      <th>Todojunto</th>\n",
       "    </tr>\n",
       "  </thead>\n",
       "  <tbody>\n",
       "    <tr>\n",
       "      <th>4995</th>\n",
       "      <td>es_0179515</td>\n",
       "      <td>product_es_0158275</td>\n",
       "      <td>reviewer_es_0273644</td>\n",
       "      <td>5</td>\n",
       "      <td>Me ha encantado la cesta. Ha llegado impecable...</td>\n",
       "      <td>guadalupe</td>\n",
       "      <td>es</td>\n",
       "      <td>home</td>\n",
       "      <td>guadalup encantado cesta llegado impecable.tie...</td>\n",
       "      <td>guadalupe Me ha encantado la cesta. Ha llegado...</td>\n",
       "    </tr>\n",
       "    <tr>\n",
       "      <th>4996</th>\n",
       "      <td>es_0894902</td>\n",
       "      <td>product_es_0953259</td>\n",
       "      <td>reviewer_es_0153773</td>\n",
       "      <td>5</td>\n",
       "      <td>Desempeña su función correctamente</td>\n",
       "      <td>calidad precio</td>\n",
       "      <td>es</td>\n",
       "      <td>camera</td>\n",
       "      <td>calidad precio desempeña función correctament</td>\n",
       "      <td>calidad precio Desempeña su función correctamente</td>\n",
       "    </tr>\n",
       "    <tr>\n",
       "      <th>4997</th>\n",
       "      <td>es_0760496</td>\n",
       "      <td>product_es_0731995</td>\n",
       "      <td>reviewer_es_0171091</td>\n",
       "      <td>5</td>\n",
       "      <td>Me ha encantado la diadema! Las flores son tal...</td>\n",
       "      <td>Excelente</td>\n",
       "      <td>es</td>\n",
       "      <td>toy</td>\n",
       "      <td>excelent encantado diadema flore tal vienen im...</td>\n",
       "      <td>Excelente Me ha encantado la diadema! Las flor...</td>\n",
       "    </tr>\n",
       "    <tr>\n",
       "      <th>4998</th>\n",
       "      <td>es_0178380</td>\n",
       "      <td>product_es_0402051</td>\n",
       "      <td>reviewer_es_0686937</td>\n",
       "      <td>5</td>\n",
       "      <td>A mi me gustan mucho las fundas TPU, ya que so...</td>\n",
       "      <td>Genial</td>\n",
       "      <td>es</td>\n",
       "      <td>wireless</td>\n",
       "      <td>genial gustan funda tpu funda normalment fina ...</td>\n",
       "      <td>Genial A mi me gustan mucho las fundas TPU, ya...</td>\n",
       "    </tr>\n",
       "    <tr>\n",
       "      <th>4999</th>\n",
       "      <td>es_0810087</td>\n",
       "      <td>product_es_0684221</td>\n",
       "      <td>reviewer_es_0613091</td>\n",
       "      <td>5</td>\n",
       "      <td>El artículo ha cumplido con las expectativas q...</td>\n",
       "      <td>Buena calidad</td>\n",
       "      <td>es</td>\n",
       "      <td>apparel</td>\n",
       "      <td>buena calidad artículo cumplido expectativa de...</td>\n",
       "      <td>Buena calidad El artículo ha cumplido con las ...</td>\n",
       "    </tr>\n",
       "  </tbody>\n",
       "</table>\n",
       "</div>"
      ],
      "text/plain": [
       "       review_id          product_id          reviewer_id  stars  \\\n",
       "4995  es_0179515  product_es_0158275  reviewer_es_0273644      5   \n",
       "4996  es_0894902  product_es_0953259  reviewer_es_0153773      5   \n",
       "4997  es_0760496  product_es_0731995  reviewer_es_0171091      5   \n",
       "4998  es_0178380  product_es_0402051  reviewer_es_0686937      5   \n",
       "4999  es_0810087  product_es_0684221  reviewer_es_0613091      5   \n",
       "\n",
       "                                            review_body    review_title  \\\n",
       "4995  Me ha encantado la cesta. Ha llegado impecable...       guadalupe   \n",
       "4996                 Desempeña su función correctamente  calidad precio   \n",
       "4997  Me ha encantado la diadema! Las flores son tal...       Excelente   \n",
       "4998  A mi me gustan mucho las fundas TPU, ya que so...          Genial   \n",
       "4999  El artículo ha cumplido con las expectativas q...   Buena calidad   \n",
       "\n",
       "     language product_category  \\\n",
       "4995       es             home   \n",
       "4996       es           camera   \n",
       "4997       es              toy   \n",
       "4998       es         wireless   \n",
       "4999       es          apparel   \n",
       "\n",
       "                                            review_stem  \\\n",
       "4995  guadalup encantado cesta llegado impecable.tie...   \n",
       "4996      calidad precio desempeña función correctament   \n",
       "4997  excelent encantado diadema flore tal vienen im...   \n",
       "4998  genial gustan funda tpu funda normalment fina ...   \n",
       "4999  buena calidad artículo cumplido expectativa de...   \n",
       "\n",
       "                                              Todojunto  \n",
       "4995  guadalupe Me ha encantado la cesta. Ha llegado...  \n",
       "4996  calidad precio Desempeña su función correctamente  \n",
       "4997  Excelente Me ha encantado la diadema! Las flor...  \n",
       "4998  Genial A mi me gustan mucho las fundas TPU, ya...  \n",
       "4999  Buena calidad El artículo ha cumplido con las ...  "
      ]
     },
     "execution_count": 298,
     "metadata": {},
     "output_type": "execute_result"
    }
   ],
   "source": [
    "dataset[\"review_stem\"] = review_list\n",
    "dataset.tail()"
   ]
  },
  {
   "cell_type": "code",
   "execution_count": 299,
   "metadata": {},
   "outputs": [
    {
     "data": {
      "text/html": [
       "<div>\n",
       "<style scoped>\n",
       "    .dataframe tbody tr th:only-of-type {\n",
       "        vertical-align: middle;\n",
       "    }\n",
       "\n",
       "    .dataframe tbody tr th {\n",
       "        vertical-align: top;\n",
       "    }\n",
       "\n",
       "    .dataframe thead th {\n",
       "        text-align: right;\n",
       "    }\n",
       "</style>\n",
       "<table border=\"1\" class=\"dataframe\">\n",
       "  <thead>\n",
       "    <tr style=\"text-align: right;\">\n",
       "      <th></th>\n",
       "      <th>Word</th>\n",
       "      <th>frecuency</th>\n",
       "    </tr>\n",
       "  </thead>\n",
       "  <tbody>\n",
       "    <tr>\n",
       "      <th>13</th>\n",
       "      <td>bien</td>\n",
       "      <td>1632</td>\n",
       "    </tr>\n",
       "    <tr>\n",
       "      <th>84</th>\n",
       "      <td>calidad</td>\n",
       "      <td>1102</td>\n",
       "    </tr>\n",
       "    <tr>\n",
       "      <th>93</th>\n",
       "      <td>producto</td>\n",
       "      <td>833</td>\n",
       "    </tr>\n",
       "    <tr>\n",
       "      <th>596</th>\n",
       "      <td>buena</td>\n",
       "      <td>754</td>\n",
       "    </tr>\n",
       "    <tr>\n",
       "      <th>89</th>\n",
       "      <td>precio</td>\n",
       "      <td>721</td>\n",
       "    </tr>\n",
       "    <tr>\n",
       "      <th>1277</th>\n",
       "      <td>buen</td>\n",
       "      <td>460</td>\n",
       "    </tr>\n",
       "    <tr>\n",
       "      <th>17</th>\n",
       "      <td>funciona</td>\n",
       "      <td>364</td>\n",
       "    </tr>\n",
       "    <tr>\n",
       "      <th>47</th>\n",
       "      <td>bastant</td>\n",
       "      <td>360</td>\n",
       "    </tr>\n",
       "    <tr>\n",
       "      <th>1627</th>\n",
       "      <td>perfecto</td>\n",
       "      <td>336</td>\n",
       "    </tr>\n",
       "    <tr>\n",
       "      <th>517</th>\n",
       "      <td>mejor</td>\n",
       "      <td>314</td>\n",
       "    </tr>\n",
       "  </tbody>\n",
       "</table>\n",
       "</div>"
      ],
      "text/plain": [
       "          Word  frecuency\n",
       "13        bien       1632\n",
       "84     calidad       1102\n",
       "93    producto        833\n",
       "596      buena        754\n",
       "89      precio        721\n",
       "1277      buen        460\n",
       "17    funciona        364\n",
       "47     bastant        360\n",
       "1627  perfecto        336\n",
       "517      mejor        314"
      ]
     },
     "execution_count": 299,
     "metadata": {},
     "output_type": "execute_result"
    }
   ],
   "source": [
    "df_freq = pd.DataFrame(list(freq.items()), columns = [\"Word\", \"frecuency\"])\n",
    "df_freq.sort_values('frecuency',ascending=False, inplace = True)\n",
    "df_freq.head(10)"
   ]
  },
  {
   "cell_type": "code",
   "execution_count": 300,
   "metadata": {},
   "outputs": [
    {
     "data": {
      "image/png": "[encoded data removed]",
      "text/plain": [
       "<Figure size 1080x576 with 1 Axes>"
      ]
     },
     "metadata": {},
     "output_type": "display_data"
    }
   ],
   "source": [
    "plt.figure(figsize = (15,8))\n",
    "plot = sns.barplot(x  = df_freq.iloc[:30].Word, y = df_freq.iloc[:30].frecuency)\n",
    "for item in plot.get_xticklabels():\n",
    "    item.set_rotation(90)\n",
    "plt.show()"
   ]
  },
  {
   "cell_type": "markdown",
   "metadata": {},
   "source": [
    "### Vectorizacion"
   ]
  },
  {
   "cell_type": "code",
   "execution_count": 302,
   "metadata": {},
   "outputs": [],
   "source": [
    "list_review_stem = list(dataset['Todojunto'].values)\n",
    "Calification = dataset['stars'].values\n"
   ]
  },
  {
   "cell_type": "code",
   "execution_count": 303,
   "metadata": {},
   "outputs": [
    {
     "data": {
      "text/plain": [
       "'No lo he recibido No he recibido el pedido no la devolución'"
      ]
     },
     "execution_count": 303,
     "metadata": {},
     "output_type": "execute_result"
    }
   ],
   "source": [
    "list_review_stem[1]"
   ]
  },
  {
   "cell_type": "code",
   "execution_count": 304,
   "metadata": {},
   "outputs": [],
   "source": [
    "from sklearn.feature_extraction.text import CountVectorizer\n",
    "\n",
    "# Usaremos solo las 10000 palabras con mas frecuencia en todo el corpus para generar los vectores\n",
    "max_features=10000\n",
    "\n",
    "# Es decir que cada instancia tendrá 1000 features\n",
    "cou_vec = CountVectorizer(max_features=max_features) # stop_words=\"english\" , ngram_range=(1, 2)\n"
   ]
  },
  {
   "cell_type": "code",
   "execution_count": 305,
   "metadata": {},
   "outputs": [
    {
     "data": {
      "text/plain": [
       "CountVectorizer(max_features=10000)"
      ]
     },
     "execution_count": 305,
     "metadata": {},
     "output_type": "execute_result"
    }
   ],
   "source": [
    "cou_vec"
   ]
  },
  {
   "cell_type": "code",
   "execution_count": 306,
   "metadata": {},
   "outputs": [
    {
     "name": "stdout",
     "output_type": "stream",
     "text": [
      "50 primeras palabras:  ['05', '10', '100', '1000', '100x100', '1080', '10cm', '10mm', '11', '12', '125', '12m', '12v', '12º', '13', '130', '135', '14', '15', '150', '150w', '150x190', '15h', '15min', '16', '160', '16gb', '17', '18', '180', '180gr', '18kg', '18º', '19', '1978', '1a', '1er', '1h', '1º', '20', '200', '2000', '20000', '2001', '2006', '2007', '200w', '2011', '2017', '2018']\n"
     ]
    }
   ],
   "source": [
    "matriz_reviews = cou_vec.fit_transform(list_review_stem)\n",
    "\n",
    "# Tomamos las palabras\n",
    "all_words = cou_vec.get_feature_names()\n",
    "\n",
    "# Vizualizamos las 50 primeras palabras\n",
    "print(\"50 primeras palabras: \",all_words[0:50])\n"
   ]
  },
  {
   "cell_type": "code",
   "execution_count": 307,
   "metadata": {},
   "outputs": [
    {
     "name": "stdout",
     "output_type": "stream",
     "text": [
      "['05', '10', '100', '1000', '100x100', '1080', '10cm', '10mm', '11', '12', '125', '12m', '12v', '12º', '13', '130', '135', '14', '15', '150', '150w', '150x190', '15h', '15min', '16', '160', '16gb', '17', '18', '180', '180gr', '18kg', '18º', '19', '1978', '1a', '1er', '1h', '1º', '20', '200', '2000', '20000', '2001', '2006', '2007', '200w', '2011', '2017', '2018', '2019', '20ml', '21', '22', '23', '230', '24', '240', '24h', '25', '25cm', '26', '27', '28', '29', '2ds', '2g', '2h', '2horas', '2kg', '2m', '2meses', '2mm', '2s', '2º', '30', '300', '3000', '300mm', '300w', '303', '30l', '30w', '32', '3200', '33', '35', '36', '360', '37', '38', '380', '3900', '3años', '3b', '3d', '3x1', '40', '40e', '41', '43', '44', '45', '48', '49', '4g', '4gb', '4ghz', '4h', '4k', '4x', '50', '500', '5000', '500g', '5400', '5400rpm', '55', '5a', '5c', '5cm', '5ghz', '5l', '5meses', '5t', '5x', '5ª', '60', '64', '64gb', '65', '65cm', '68', '69', '6cm', '6d', '6l', '6mm', '6s', '6x', '70', '70m2', '70mm', '720', '7200', '720p', '75', '75hz', '75x75', '78', '7w', '80', '8000', '80cm', '80kg', '82', '821', '84', '85', '86', '88', '8años', '8gb', '8kg', '8w', '90', '92', '95', '99', 'a2', 'a4', 'a5', 'a6300', 'a7', 'aa', 'aaa', 'abajo', 'abandonado', 'abarca', 'abeja', 'abertura', 'aberturas', 'abierta', 'abiertas', 'abierto', 'abiertos', 'abir', 'abismal', 'abollada', 'abollado', 'abona', 'abonar', 'abonaron', 'abonarán', 'abono', 'abra', 'abran', 'abraza', 'abrazadera', 'abrazarla', 'abrazos', 'abre', 'abren', 'abres', 'abriendo', 'abriga', 'abrigado', 'abrigan', 'abrigar', 'abrigo', 'abrigos', 'abril', 'abrillantar', 'abrir', 'abrirla', 'abrirle', 'abrirlo', 'abrió', 'abro', 'abrochar', 'abrí', 'abría', 'absoluta', 'absolutamente', 'absoluto', 'absorbe', 'absorben', 'absorción', 'absurdo', 'abulta', 'abultada', 'abultar', 'aburridas', 'aburrido', 'aburrieron', 'aburrimiento', 'aburrió', 'acaba', 'acababa', 'acabado', 'acabados', 'acabamos', 'acaban', 'acabar', 'acabara', 'acabarlo', 'acabaron', 'acabarán', 'acabaré', 'acabe', 'acaben', 'acabo', 'acabó', 'acariciando', 'acaso', 'acceder', 'accedes', 'accesible', 'accesibles', 'acceso', 'accesorio', 'accesorios', 'accesos', 'accidentalmente', 'accidente', 'accidentes', 'acciones', 'acción', 'ace', 'aceite', 'aceites', 'aceitosas', 'acelera', 'acelerador', 'acelerómetro', 'acentos', 'acentúa', 'aceptable', 'aceptablemente', 'aceptables', 'aceptan', 'aceptes', 'acer', 'acerca', 'acero', 'acertada', 'acertado', 'acertados', 'acertar', 'acetona', 'acidez', 'aciertas', 'acierto', 'aclara', 'aclaración', 'aclarar', 'aclaro', 'acné', 'acogedora', 'acolchada', 'acolchadas', 'acolchado', 'acolchar', 'acomoda', 'acomodan', 'acomodar', 'acomoden', 'acompaña', 'acompañadas', 'acompañamiento', 'acompañan', 'acompañar', 'acomplar', 'acondicionado', 'acondicionador', 'aconsejable', 'aconsejables', 'aconsejado', 'aconsejo', 'aconsejó', 'aconstumbrado', 'acopla', 'acoplado', 'acoplamiento', 'acoplan', 'acoplar', 'acoplarlo', 'acople', 'acoples', 'acordadas', 'acordado', 'acordados', 'acorde', 'acordes', 'acordé', 'acostumbrada', 'acostumbrado', 'acostumbrarse', 'acostumbras', 'acostumbre', 'acredito', 'acrílica', 'acrílico', 'actitud', 'activa', 'activacion', 'activado', 'activar', 'active', 'actividad', 'actividades', 'activos', 'actual', 'actualicé', 'actualiza', 'actualizaciones', 'actualización', 'actualizada', 'actualizarlo', 'actualizo', 'actualmente', 'actuar', 'actúa', 'acuarela', 'acuario', 'acuatica', 'acuaticas', 'acuerdas', 'acuerdo', 'acumula', 'acumulado', 'acumulados', 'acumular', 'acusa', 'acústica', 'adapta', 'adaptaba', 'adaptaban', 'adaptable', 'adaptables', 'adaptacion', 'adaptación', 'adaptado', 'adaptador', 'adaptadoras', 'adaptadores', 'adaptan', 'adaptar', 'adaptara', 'adaptarla', 'adaptarse', 'adaptase', 'adapte', 'adapten', 'adaptándolas', 'adaptó', 'adecuada', 'adecuadamente', 'adecuadas', 'adecuado', 'adecuados', 'adelante', 'adelantó', 'ademas', 'ademàs', 'además', 'adentro', 'adherencia', 'adherente', 'adherida', 'adheriendo', 'adherir', 'adherirlas', 'adhesiva', 'adhesivo', 'adhesivos', 'adhiere', 'adhieren', 'adicional', 'adicionales', 'adictivo', 'adieren', 'aditivos', 'adiós', 'adjunta', 'adjuntada', 'adjuntan', 'adjuntar', 'adjuntas', 'adjunto', 'administrador', 'admite', 'admiten', 'admitia', 'admitir', 'admito', 'adolescente', 'adolescentes', 'adolfo', 'adoquines', 'adorables', 'adornar', 'adorno', 'adornos', 'adoro', 'adptan', 'adquiri', 'adquirido', 'adquirimos', 'adquirir', 'adquirirlo', 'adquiriré', 'adquisición', 'aduanas', 'adulta', 'adulto', 'adultos', 'advance', 'advertido', 'advertir', 'advierte', 'advierto', 'ae', 'aen', 'aerolineas', 'aerolíneas', 'aeropuerto', 'aeropuertos', 'afecciones', 'afecta', 'afectada', 'afectará', 'afeita', 'afeitado', 'afeitador', 'afeitados', 'afeitar', 'aficionada', 'aficionados', 'aficiones', 'afila', 'afiladas', 'afilados', 'afilando', 'afilar', 'afilé', 'afinación', 'afinador', 'afinar', 'afinarlo', 'afloje', 'afortunadamente', 'afrontar', 'afuera', 'agacharme', 'agapornis', 'agarra', 'agarrado', 'agarran', 'agarrar', 'agarre', 'agarres', 'agarrándose', 'agencia', 'agenda', 'agendas', 'agility', 'aglomerado', 'agobio', 'agosto', 'agota', 'agotando', 'agotaron', 'agptek', 'agrada', 'agradaba', 'agradable', 'agradablemente', 'agradables', 'agradece', 'agradecer', 'agradecerán', 'agradecería', 'agradecida', 'agradecido', 'agradecimiento', 'agradezco', 'agranda', 'agregué', 'agresivo', 'agrietado', 'agua', 'aguanta', 'aguantaba', 'aguantamos', 'aguantan', 'aguantando', 'aguantar', 'aguantara', 'aguantaria', 'aguantará', 'aguantarán', 'aguante', 'aguanten', 'aguanto', 'aguantó', 'aguarrás', 'agudo', 'agudos', 'aguilar', 'aguja', 'agujas', 'agujero', 'agujeros', 'agustín', 'ah', 'ahh', 'ahi', 'ahijada', 'ahogar', 'ahogarse', 'ahora', 'ahorra', 'ahorrado', 'ahorrador', 'ahorrar', 'ahorras', 'ahorro', 'ahorros', 'ahí', 'ainara', 'air', 'aire', 'aires', 'aislamiento', 'aislante', 'aislar', 'ajos', 'ajusta', 'ajustaba', 'ajustable', 'ajustables', 'ajustada', 'ajustadas', 'ajustado', 'ajustados', 'ajustan', 'ajustar', 'ajustarla', 'ajustarlo', 'ajustarlos', 'ajustarse', 'ajuste', 'ajustes', 'ajusté', 'aki', 'al', 'ala', 'alabanzas', 'alambre', 'alante', 'alargada', 'alargadera', 'alargador', 'alargar', 'alarma', 'alas', 'alba', 'albergar', 'alberto', 'alcachofa', 'alcance', 'alcanfor', 'alcanza', 'alcanzaba', 'alcanzan', 'alcohol', 'aleación', 'aleatoriamente', 'aleatorio', 'alegre', 'alegres', 'alejado', 'alejandro', 'aleman', 'alemana', 'alemanes', 'alemania', 'alemán', 'alergia', 'alerta', 'aleta', 'alexa', 'alfa', 'alfombra', 'alfombrilla', 'alfonso', 'algo', 'algodón', 'alguien', 'algun', 'alguna', 'algunas', 'alguno', 'algunos', 'alguns', 'algún', 'algúnos', 'alhambra', 'ali', 'aliado', 'alicante', 'alicatado', 'alicate', 'alicates', 'aliexpress', 'alimenta', 'alimentación', 'alimentada', 'alimentador', 'alimentar', 'alimentos', 'alineados', 'alisado', 'alisar', 'alivia', 'aliviado', 'alivio', 'alla', 'allen', 'allá', 'allí', 'almacenada', 'almacenaje', 'almacenamiento', 'almacenan', 'almacenar', 'almacenarlos', 'almacenes', 'almacén', 'almendras', 'almohada', 'almohadas', 'almohadilla', 'almohadillas', 'almohadón', 'almu', 'almudena', 'alojamiento', 'alojarse', 'alpha', 'alquilar', 'alquiler', 'alquimia', 'alrededor', 'alta', 'altamente', 'altas', 'altavoces', 'altavoz', 'alternativa', 'alternativas', 'alternativos', 'alto', 'altura', 'altísimo', 'alucinado', 'alucinante', 'alumbra', 'alumbran', 'alumbrar', 'alumbraría', 'alumbre', 'aluminio', 'alumino', 'alumnos', 'alumínio', 'alunbra', 'ama', 'amabilidad', 'amable', 'amables', 'aman', 'amanoso', 'amantes', 'amarilla', 'amarillas', 'amarillea', 'amarilleando', 'amarillear', 'amarillenta', 'amarillentas', 'amarillento', 'amarillentos', 'amarillo', 'amateur', 'amatista', 'amazom', 'amazon', 'amazonas', 'amazonbasics', 'amazón', 'ambas', 'ambientacion', 'ambientador', 'ambiental', 'ambientar', 'ambiente', 'ambientes', 'ambos', 'amena', 'ameno', 'amenos', 'amenudo', 'americana', 'americano', 'amg', 'ami', 'amiga', 'amigas', 'amigo', 'amigos', 'amiguita', 'amiibo', 'amistad', 'amolde', 'amor', 'amortigua', 'amortiguación', 'amortiguado', 'amortiguador', 'amortiguan', 'amortizas', 'amortizo', 'amperios', 'ampli', 'amplia', 'ampliación', 'ampliada', 'ampliamente', 'ampliando', 'ampliar', 'amplificador', 'amplificar', 'amplio', 'amplios', 'américa', 'an', 'ana', 'analizador', 'analog', 'analogico', 'analíticas', 'analógico', 'anatómico', 'ancha', 'ancho', 'anchos', 'anchura', 'anclado', 'anclaje', 'anclajes', 'anclar', 'anclarlo', 'and', 'andaba', 'andando', 'andante', 'andar', 'andas', 'ando', 'android', 'andrés', 'angels', 'anglosajones', 'angulo', 'angulos', 'anillas', 'anillo', 'anillos', 'animal', 'animales', 'animar', 'anime', 'animo', 'aniño', 'anna', 'ano', 'anomalía', 'anotar', 'anoto', 'antaño', 'ante', 'antebrazo', 'antelación', 'antemano', 'antena', 'antenas', 'antento', 'anterior', 'anteriores', 'anteriormente', 'anterios', 'antes', 'anti', 'antiadherente', 'antialergicos', 'antical', 'anticipada', 'anticuado', 'antideslizante', 'antigua', 'antiguas', 'antiguedad', 'antiguo', 'antiguos', 'antihumedad', 'antimosquitos', 'antioxidantes', 'antipinchazos', 'antipolillas', 'antipop', 'antirrobo', 'antojo', 'antonio', 'anular', 'anuncia', 'anunciaba', 'anunciada', 'anunciadas', 'anunciado', 'anunciados', 'anuncian', 'anuncio', 'anuncios', 'anzuelo', 'análisis', 'anécdotas', 'anónimo', 'ap', 'apaga', 'apagaba', 'apagada', 'apagadas', 'apagado', 'apagar', 'apagarla', 'apagarse', 'apagará', 'apagas', 'apage', 'apago', 'apague', 'apagó', 'aparato', 'aparatos', 'aparatoso', 'aparcamiento', 'aparcar', 'aparece', 'aparecen', 'aparecer', 'aparecia', 'apareció', 'aparecía', 'aparenta', 'aparentar', 'aparente', 'aparentemente', 'aparezcan', 'apariencia', 'apariencias', 'aparte', 'apañado', 'apaño', 'apelmazado', 'apena', 'apenas', 'apertura', 'apesta', 'apestoso', 'apetece', 'apetezca', 'apetito', 'apilables', 'aplanada', 'aplanar', 'aplastada', 'aplastadas', 'aplastado', 'aplastamiento', 'aplicacion', 'aplicaciones', 'aplicación', 'aplicado', 'aplicador', 'aplicados', 'aplicar', 'aplicativo', 'aplicármelo', 'aplicó', 'aplificador', 'aplique', 'aporta', 'aportada', 'aportan', 'apoya', 'apoyaban', 'apoyada', 'apoyado', 'apoyan', 'apoyando', 'apoyar', 'apoyarlo', 'apoyas', 'apoye', 'apoyen', 'apoyes', 'apoyo', 'apoyándose', 'apoyé', 'app', 'apple', 'apps', 'aprecia', 'apreciaban', 'apreciable', 'apreciado', 'apreciar', 'aprecié', 'aprende', 'aprenden', 'aprender', 'aprendiendo', 'apretaba', 'apretadas', 'apretado', 'apretan', 'apretando', 'apretandolo', 'apretar', 'aprieta', 'aprietan', 'apriete', 'aprieto', 'apropiada', 'apropiado', 'aprovecha', 'aprovechado', 'aprovechando', 'aprovechar', 'aproveche', 'aproximadamente', 'aprx', 'apta', 'apto', 'apuntar', 'apuntes', 'apunto', 'apura', 'apurado', 'apuro', 'aquabeads', 'aquaris', 'aquel', 'aquella', 'aquellas', 'aquellos', 'aqui', 'aquí', 'arancar', 'arandela', 'arandelas', 'araña', 'arañada', 'arañado', 'arañados', 'arañan', 'arañar', 'arañazo', 'arañazos', 'arañen', 'arboles', 'arce', 'archivos', 'arcoiris', 'arcón', 'ardor', 'arduino', 'area', 'areas', 'arena', 'argolla', 'argumento', 'armario', 'armarios', 'armas', 'armazón', 'arnes', 'arnés', 'aro', 'aroma', 'aromatizadas', 'aros', 'arquitectura', 'arranca', 'arrancan', 'arrancar', 'arrancas', 'arranque', 'arranqué', 'arrastra', 'arrastre', 'arregla', 'arreglado', 'arreglan', 'arreglar', 'arreglarlo', 'arreglará', 'arreglo', 'arreglos', 'arrepiento', 'arriba', 'arriesgarme', 'arriesgaría', 'arriesgo', 'arruga', 'arrugaba', 'arrugada', 'arrugadas', 'arrugado', 'arrugarse', 'arrugas', 'arruino', 'arte', 'arterial', 'articulaciones', 'articuladas', 'articulo', 'articulos', 'artificial', 'artículo', 'artículos', 'as', 'asa', 'asalvo', 'asas', 'asegura', 'asegurar', 'asegurarlos', 'aseguraron', 'asegurarse', 'asemeja', 'aseo', 'asequible', 'asesoramiento', 'ashwagandha', 'asi', 'asido', 'asiduamente', 'asiento', 'asientos', 'asimila', 'asimismo', 'asiq', 'asique', 'asm', 'asoma', 'asoman', 'asomando', 'aspas', 'aspecto', 'aspectos', 'aspero', 'aspira', 'aspiración', 'aspirador', 'aspiradora', 'aspiradores', 'aspirados', 'aspirar', 'asta', 'astillada', 'asturiana', 'asumiendo', 'asuncion', 'asunto', 'asusta', 'asustaba', 'asustado', 'así', 'ataba', 'atar', 'atarla', 'atarlo', 'atasca', 'atascada', 'atascados', 'atascan', 'atascara', 'ateca', 'atencion', 'atención', 'atendieran', 'atendió', 'atenta', 'atento', 'atentos', 'atenúa', 'atenúan', 'aterciopelado', 'atiendan', 'atornilla', 'atornillador', 'atornillar', 'atractivo', 'atractivos', 'atrae', 'atraen', 'atraer', 'atrancado', 'atrapa', 'atrapada', 'atras', 'atrasa', 'atrasado', 'atrasar', 'atrasó', 'atrativo', 'atraves', 'atraía', 'atresplayer', 'atrevido', 'atrevo', 'atrás', 'atópicas', 'audi', 'audición', 'audio', 'audios', 'aulas', 'aumenta', 'aumentando', 'aumentar', 'aumento', 'aumentos', 'aumenté', 'aun', 'aunq', 'aunque', 'aunqué', 'auque', 'auricular', 'auriculares', 'ausencia', 'ausentes', 'autentica', 'auticulares', 'autobiográfica', 'autobronceador', 'autoenfoque', 'autofocus', 'automatica', 'automática', 'automáticamente', 'automático', 'automáticos', 'automóviles', 'autonomia', 'autonomía', 'autor', 'autora', 'autoradio', 'autorización', 'auténtica', 'auténticas', 'auténtico', 'autónomamente', 'aux', 'auxiliar', 'auxiliares', 'avalorios', 'avance', 'avanza', 'avanzando', 'avanzar', 'avaricia', 'aveces', 'avent', 'aventura', 'aver', 'averiada', 'averiado', 'averiguado', 'averiguar', 'averiguarlo', 'averió', 'avería', 'averían', 'avia', 'avion', 'avisa', 'avisado', 'avisando', 'avisarme', 'avisaron', 'aviso', 'avispas', 'axila', 'axilas', 'ay', 'ayer', 'ayuda', 'ayudar', 'ayudarles', 'ayudarme', 'ayudará', 'ayudaría', 'ayude', 'ayudó', 'azul', 'azulada', 'azulejo', 'azulejos', 'azules', 'azúcar', 'aísla', 'añade', 'añades', 'añadido', 'añadidos', 'añadiendo', 'añadimos', 'añadir', 'añadirle', 'añadiría', 'añito', 'año', 'años', 'aún', 'aúnq', 'baches', 'bad', 'baila', 'bailaba', 'baile', 'baja', 'bajaba', 'bajada', 'bajando', 'bajar', 'bajarse', 'bajas', 'baje', 'bajera', 'bajisima', 'bajita', 'bajito', 'bajo', 'bajos', 'bajándolo', 'bajísima', 'balance', 'balancean', 'balanceo', 'balas', 'balay', 'balcón', 'baldas', 'baldosa', 'bale', 'baloncesto', 'balones', 'bamboo', 'banana', 'banco', 'band', 'banda', 'bandadas', 'bandana', 'bandas', 'bandeja', 'bandera', 'bandolera', 'bank', 'baquelita', 'bar', 'barajarlas', 'barata', 'baratas', 'baratija', 'baratitas', 'baratito', 'barato', 'baratos', 'barba', 'barbacoa', 'barbaridad', 'barbero', 'barcas', 'barco', 'baritas', 'barra', 'barras', 'barrera', 'barriguita', 'barrio', 'barrios', 'barrita', 'barritas', 'basculante', 'basculas', 'base', 'bases', 'basica', 'basicamente', 'basicas', 'basico', 'basicos', 'basta', 'bastante', 'bastantes', 'bastantr', 'bastantre', 'basto', 'bastones', 'basura', 'batalla', 'batante', 'bate', 'bateria', 'baterias', 'batería', 'baterías', 'bates', 'batido', 'batidora', 'batidoras', 'batteria', 'battlefield', 'bayeta', 'bayoneta', 'bazar', 'bazares', 'bazofia', 'bañador', 'bañera', 'baño', 'baños', 'bbb', 'bbq', 'bea', 'bebe', 'beber', 'bebes', 'bebida', 'bebidas', 'bebé', 'bebés', 'beige', 'belcro', 'bella', 'bellas', 'belleza', 'bello', 'belén', 'ben', 'beneficia', 'beneficio', 'beneficios', 'benia', 'berdad', 'bf', 'bibe', 'biberon', 'biberones', 'biberón', 'biblia', 'bibra', 'bic', 'bichito', 'bici', 'bicicleta', 'bicis', 'bicolor', 'bidé', 'bie', 'bien', 'biene', 'bienen', 'billete', 'billetes', 'binoculares', 'biología', 'bisutería', 'bit', 'bizcocho', 'bién', 'bkool', 'blabla', 'black', 'blanca', 'blancas', 'blanco', 'blancos', 'blanda', 'blandas', 'blandita', 'blanditas', 'blandito', 'blanditos', 'blando', 'blandos', 'blanquean', 'blanquecina', 'blanquita', 'bles', 'bloque', 'bloquea', 'bloqueaba', 'bloqueado', 'bloqueador', 'bloquean', 'bloquear', 'bloqueo', 'bloqueos', 'bluboo', 'blueray', 'bluethoot', 'bluethooth', 'bluetooth', 'bluray', 'blusa', 'bmw', 'bnc', 'bobina', 'boca', 'bocata', 'boch', 'bochornoso', 'boda', 'body', 'bodys', 'bogaboo', 'bol', 'bola', 'bolas', 'boles', 'boli', 'boligrafo', 'bolis', 'bolita', 'bolitas', 'bollado', 'bolsa', 'bolsas', 'bolsillo', 'bolsillos', 'bolsita', 'bolsitas', 'bolso', 'bolsos', 'bolígrafo', 'bolígrafos', 'bomba', 'bombilla', 'bombillas', 'bonita', 'bonitas', 'bonito', 'bonitos', 'bonmedico', 'book', 'boquetes', 'boquilla', 'boquillas', 'borax', 'bordado', 'borde', 'bordes', 'borra', 'borraba', 'borrado', 'borrador', 'borrados', 'borran', 'borrando', 'borrar', 'borras', 'borro', 'borrosas', 'borrosos', 'bosch', 'bosh', 'botas', 'bote', 'botella', 'botellas', 'botellero', 'botes', 'botijo', 'botiquín', 'boton', 'botones', 'botón', 'box', 'boxeo', 'boxset', 'boy', 'bpa', 'bq', 'br', 'braco', 'bragas', 'brazo', 'brazos', 'brecha', 'breve', 'bricolaje', 'bridas', 'brilla', 'brillan', 'brillante', 'brillantes', 'brillantina', 'brillar', 'brilli', 'brillo', 'broadlink', 'broca', 'brocas', 'brocha', 'brochas', 'broche', 'broma', 'bronceado', 'brote', 'brother', 'brutal', 'bruto', 'brújula', 'bt', 'bu', 'bucear', 'bucle', 'bueb', 'buen', 'buena', 'buenas', 'buenisima', 'buenisimo', 'bueno', 'buenos', 'buenísima', 'buenísimo', 'buffff', 'bulto', 'bumper', 'burbuja', 'burbujas', 'burbujitas', 'busca', 'buscaba', 'buscado', 'buscamos', 'buscan', 'buscando', 'buscar', 'buscare', 'buscarle', 'buscarse', 'buscaré', 'buscas', 'busco', 'buscáis', 'butano', 'buzón', 'bv6000', 'bv6000s', 'báscula', 'básica', 'básicamente', 'básicas', 'básico', 'béisbol', 'búsqueda', 'c2', 'c4', 'cabe', 'cabecea', 'cabecero', 'cabeceros', 'cabellera', 'cabello', 'cabellos', 'caben', 'cabeza', 'cabezal', 'cabezales', 'cabezas', 'cabezón', 'cabina', 'cable', 'cableada', 'cableado', 'cables', 'cabo', 'cabra', 'cabreada', 'cabreado', 'cabrini', 'cabía', 'cacao', 'cacharo', 'cacharritos', 'cacharros', 'cachimba', 'cacho', 'cachondos', 'cachorra', 'cachorro', 'cada', 'cadena', 'cadenas', 'cadencia', 'cadenita', 'caduca', 'caducada', 'caducadas', 'caducidad', 'cae', 'caen', 'caer', 'caerian', 'caerse', 'cafe', 'cafetera', 'cafetería', 'cafeterías', 'café', 'caga', 'caian', 'caida', 'caido', 'caidos', 'caiga', 'caigan', 'caja', 'cajas', 'cajita', 'cajon', 'cajonera', 'cajoneras', 'cajones', 'cajón', 'calabacín', 'calabazas', 'caladora', 'calas', 'calcar', 'calcetines', 'calcetín', 'calcomanias', 'calculad', 'calculadora', 'calefactor', 'calendario', 'calentaba', 'calentador', 'calentando', 'calentar', 'calentarlas', 'calentarse', 'calentita', 'calentitas', 'calentito', 'calgon', 'calibración', 'calibre', 'calida', 'calidad', 'calidades', 'calidas', 'calido', 'calidsd', 'calienta', 'calientan', 'caliente', 'calificacion', 'caligrafía', 'calle', 'callos', 'calor', 'calurosa', 'caluroso', 'calzado', 'calzarse', 'calzos', 'cama', 'camaleón', 'camara', 'camaras', 'camas', 'cambia', 'cambiadas', 'cambiado', 'cambiador', 'cambian', 'cambiando', 'cambiar', 'cambiaran', 'cambiare', 'cambiarian', 'cambiarla', 'cambiarlo', 'cambiarlos', 'cambiarmelo', 'cambiaron', 'cambiarse', 'cambiará', 'cambiaré', 'cambias', 'cambie', 'cambien', 'cambio', 'cambios', 'cambiármelo', 'cambié', 'cambió', 'camilla', 'caminando', 'caminar', 'camino', 'camisa', 'camisas', 'camiseta', 'camita', 'camión', 'campanilla', 'campo', 'camufla', 'camuflada', 'canal', 'canales', 'canarias', 'canas', 'canasta', 'canasto', 'canbus', 'cancelación', 'cancelé', 'canciones', 'canción', 'candado', 'candados', 'candela', 'candidato', 'canicas', 'canina', 'canino', 'canon', 'cansa', 'cansado', 'cansancio', 'canta', 'canteo', 'cantidad', 'cantidades', 'canutillo', 'caos', 'cap', 'capa', 'capaces', 'capacidad', 'capas', 'capaz', 'capitán', 'capota', 'capsula', 'capsulas', 'capta', 'captura', 'capítulo', 'capítulos', 'cara', 'caracolas', 'caracteristicas', 'caracteriza', 'caracterizan', 'característica', 'características', 'característico', 'carajo', 'caras', 'caravana', 'carburo', 'carbón', 'carcasa', 'carcasas', 'cardiaca', 'cardio', 'cardíaco', 'carece', 'carencia', 'carente', 'careta', 'carga', 'cargaba', 'cargada', 'cargado', 'cargador', 'cargadores', 'cargan', 'cargando', 'cargar', 'cargara', 'cargarla', 'cargarle', 'cargarlo', 'cargarse', 'cargas', 'cargo', 'cargos', 'cargue', 'cargues', 'cargué', 'cargándolo', 'cariño', 'carlos', 'carme', 'carmen', 'caro', 'caros', 'carpeta', 'carpetas', 'carpintería', 'carraca', 'carrera', 'carrete', 'carretera', 'carretes', 'carreño', 'carriles', 'carrito', 'carro', 'carrocero', 'cars', 'carta', 'cartas', 'carteles', 'cartera', 'carteras', 'cartero', 'carton', 'cartones', 'cartucho', 'cartuchos', 'cartulina', 'cartulinas', 'cartílago', 'cartón', 'carácteristicas', 'carísima', 'carísimo', 'casa', 'casares', 'casas', 'cascabeles', 'cascado', 'cascara', 'casco', 'cascos', 'casera', 'casero', 'casi', 'casio', 'casita', 'caso', 'casos', 'caspa', 'castaña', 'castellano', 'castigos', 'castillo', 'castro', 'casual', 'casualidad', 'casualmente', 'catalan', 'catalán', 'catastrófico', 'catedral', 'catálogo', 'caudal', 'causa', 'causado', 'causar', 'cayendo', 'cayendose', 'cayeron', 'cayo', 'cayó', 'cazadora', 'cazo', 'cazuela', 'caí', 'caía', 'caída', 'caídas', 'caído', 'caña', 'cbd', 'cd', 'cdo', 'cds', 'ce', 'cebollas', 'cecotec', 'ceda', 'cede', 'cedida', 'cedidas', 'cediendo', 'cejilla', 'celdillas', 'celeridad', 'celeritas', 'celo', 'celulosa', 'centimetro', 'centimetros', 'centimos', 'centrado', 'central', 'centrales', 'centralita', 'centralitas', 'centro', 'centímetros', 'cepillado', 'cepillo', 'cepillos', 'cera', 'ceras', 'cerca', 'cerdas', 'cerdo', 'cerezas', 'cero', 'cerraba', 'cerrada', 'cerradas', 'cerrado', 'cerrados', 'cerradura', 'cerrar', 'cerrarla', 'cerrarlo', 'certero', 'certificado', 'cerumen', 'cervantes', 'cervecita', 'cerveza', 'cerámica', 'cesped', 'cesta', 'cestas', 'cesto', 'chachi', 'chafa', 'chafado', 'chaleco', 'champu', 'champú', 'chapa', 'chapucero', 'chapuza', 'chapuzas', 'chaqueta', 'chasco', 'chat', 'chatarra', 'chica', 'chicle', 'chicles', 'chico', 'chicos', 'chifla', 'chillar', 'chillones', 'chimenea', 'china', 'chinas', 'chinese', 'chino', 'chinos', 'chip', 'chips', 'chiquitín', 'chisme', 'choca', 'chocan', 'chocolate', 'chocolates', 'chocolatinas', 'choque', 'chorrada', 'chorro', 'chorros', 'chubasquero', 'chucky', 'chula', 'chulas', 'chuli', 'chulisima', 'chulo', 'chulos', 'chulísimo', 'chulísimos', 'chupado', 'chupar', 'chuparlo', 'chupes', 'chupete', 'chupetes', 'chupones', 'chusco', 'chándal', 'chía', 'ciclo', 'cien', 'cientificamente', 'cierra', 'cierran', 'cierras', 'cierre', 'cierres', 'cierro', 'cierrra', 'cierta', 'ciertas', 'cierto', 'ciertos', 'cigüeñal', 'cilindro', 'cilindros', 'cilíndrica', 'cincha', 'cinco', 'cinta', 'cintas', 'cintura', 'cinturones', 'cinturón', 'circuitos', 'circulan', 'circulando', 'circulares', 'circunstancia', 'circunstancias', 'cisco', 'cita', 'citado', 'citroen', 'citroën', 'city', 'ciudad', 'ciudades', 'cla', 'clack', 'clara', 'claramente', 'claras', 'claridad', 'clarito', 'claritos', 'claro', 'claros', 'clase', 'clases', 'clasico', 'clasicos', 'clasificadores', 'classic', 'clava', 'clavaba', 'clavan', 'clavar', 'clave', 'claves', 'clavija', 'clean', 'clema', 'clic', 'clicar', 'click', 'clidad', 'cliente', 'clientes', 'clima', 'clip', 'clips', 'clonar', 'cloud', 'clásica', 'clásico', 'clásicos', 'clónico', 'cm', 'cn', 'co', 'coat', 'cobayas', 'cobertura', 'cobrado', 'cobrais', 'cobran', 'cobrar', 'cobraron', 'cobre', 'cobro', 'cocción', 'cocerlo', 'coche', 'cochecito', 'cochecitos', 'cochera', 'coches', 'cocina', 'cocinar', 'cocino', 'cockpit', 'cocktail', 'coco', 'coda', 'codificación', 'codigo', 'coge', 'cogen', 'coger', 'cogerlas', 'cogerle', 'cogerlo', 'cogería', 'coges', 'cogia', 'cogido', 'cogiendo', 'cogí', 'cohetes', 'coincide', 'coinciden', 'coincidente', 'coincidió', 'coincido', 'coincidía', 'coja', 'cojas', 'coje', 'cojer', 'cojido', 'cojin', 'cojines', 'cojo', 'cojones', 'cojín', 'cola', 'colcha', 'colchon', 'colchones', 'colchón', 'cole', 'coleccion', 'coleccionista', 'coleccionistas', 'colección', 'colegio', 'colgada', 'colgado', 'colgador', 'colgados', 'colgante', 'colgantes', 'colgar', 'colgarlo', 'colgarlos', 'colgarme', 'colgué', 'colgó', 'colirio', 'colisión', 'collar', 'collares', 'colmo', 'colnatur', 'coloca', 'colocacion', 'colocación', 'colocada', 'colocado', 'colocados', 'colocamos', 'colocan', 'colocando', 'colocandolo', 'colocar', 'colocarla', 'colocarlas', 'colocarlo', 'colocarlos', 'colocarse', 'colocas', 'coloco', 'colocó', 'colonia', 'coloque', 'coloquen', 'coloques', 'coloqué', 'color', 'coloración', 'colorea', 'coloreados', 'colorean', 'colorear', 'colores', 'coloridas', 'colorido', 'coloridos', 'colorines', 'columpio', 'colín', 'com', 'coma', 'coman', 'combate', 'combina', 'combinaciones', 'combinación', 'combinado', 'combinar', 'come', 'comederos', 'comedor', 'comen', 'comencé', 'comenta', 'comentado', 'comentar', 'comentario', 'comentarios', 'comentaré', 'comentatios', 'comente', 'comentáis', 'comenzado', 'comenzar', 'comenzará', 'comenzó', 'comer', 'comercio', 'cometido', 'comic', 'comida', 'comidas', 'comido', 'comience', 'comiendo', 'comienza', 'comió', 'coml', 'como', 'comoda', 'comodamente', 'comodas', 'comodidad', 'comodidades', 'comodisima', 'comodisimas', 'comodisimos', 'comodo', 'comodos', 'comodísima', 'comodísimos', 'compacta', 'compacto', 'compar', 'comparacion', 'comparación', 'comparada', 'comparado', 'comparamos', 'comparando', 'comparar', 'compararla', 'compartido', 'compartimentada', 'compartimento', 'compartimentos', 'compartimiento', 'compartir', 'comparándolas', 'compatibilidad', 'compatible', 'compatibles', 'compañera', 'compañero', 'compañeros', 'compañia', 'compañía', 'compensa', 'compense', 'competencia', 'competidores', 'competir', 'competitivo', 'compex', 'complace', 'comple', 'compleja', 'complejas', 'complejo', 'complementar', 'complemento', 'complementos', 'completa', 'completamente', 'completando', 'completar', 'completen', 'completito', 'completo', 'completos', 'complicaciones', 'complicada', 'complicadas', 'complicadillo', 'complicado', 'complicados', 'complicar', 'complicarte', 'componentes', 'comportamiento', 'comportó', 'composición', 'compostables', 'compra', 'compraba', 'comprada', 'compradas', 'comprado', 'comprador', 'compradores', 'comprados', 'compralas', 'compramos', 'comprando', 'comprar', 'comprare', 'compraria', 'comprarla', 'comprarlas', 'comprarles', 'comprarlo', 'comprarlos', 'comprarme', 'comprarse', 'compraré', 'compraría', 'compras', 'compre', 'compreis', 'compren', 'comprendemos', 'comprender', 'comprension', 'comprensión', 'compres', 'compresion', 'compresión', 'comprimido', 'compro', 'comprobaciones', 'comprobadas', 'comprobado', 'comprobar', 'comprobara', 'comprobarlo', 'comprobé', 'comprometida', 'comprometo', 'comprueba', 'comprueban', 'compruebo', 'comprándoles', 'compré', 'compréis', 'compró', 'computador', 'computadora', 'compás', 'comrpar', 'comunicacion', 'comunicaciòn', 'comunicación', 'comunicado', 'comunicando', 'comunicar', 'comunico', 'comunique', 'comía', 'común', 'con', 'concentración', 'concentrada', 'concepcion', 'concepto', 'concertar', 'conceta', 'concha', 'concide', 'conciencia', 'conclusión', 'concluyo', 'concretamente', 'concreto', 'concuerda', 'concuerdo', 'condenada', 'condensación', 'condiciones', 'conducción', 'conducir', 'conductor', 'conduzco', 'coneccion', 'conecta', 'conectada', 'conectadas', 'conectado', 'conectan', 'conectar', 'conectarla', 'conectarlo', 'conectarse', 'conectas', 'conecte', 'conectividad', 'conecto', 'conector', 'conectores', 'conectándolo', 'conecté', 'conexion', 'conexiones', 'conexión', 'confeccionada', 'confección', 'confeti', 'confiando', 'confianza', 'configura', 'configuración', 'configurado', 'configurados', 'configurar', 'configurarlo', 'configurarlos', 'configuras', 'confio', 'confirmar', 'confirme', 'conforme', 'conformé', 'confortable', 'confunden', 'confundido', 'confundir', 'confusión', 'confían', 'confíanza', 'conga', 'congelada', 'congelado', 'congelan', 'conjuntivitis', 'conjunto', 'conlleva', 'conmigo', 'conmutadores', 'conmutar', 'conocer', 'conoceréis', 'conocia', 'conocida', 'conocidas', 'conocido', 'conocimiento', 'conocimientos', 'conocía', 'conocíamos', 'conos', 'conozco', 'conprar', 'consciente', 'consecuencia', 'consecutiva', 'consecutivo', 'conseguido', 'conseguir', 'conseguirla', 'conseguí', 'consejo', 'consejos', 'conservado', 'considerable', 'considerablemente', 'considerando', 'considerar', 'consideraria', 'considere', 'considero', 'consideró', 'consigo', 'consigue', 'consiguen', 'consigues', 'consiguiendo', 'consiguio', 'consiste', 'consistencia', 'consistente', 'consola', 'consolas', 'consonancia', 'consta', 'constancia', 'constante', 'constantemente', 'constantes', 'constar', 'construcción', 'constructiva', 'constructor', 'consulta', 'consultarlo', 'consume', 'consumen', 'consumida', 'consumidor', 'consumo', 'consumos', 'consumí', 'consumía', 'contabiliza', 'contabilizar', 'contacta', 'contactado', 'contactamos', 'contactar', 'contactaré', 'contacte', 'contacto', 'contacté', 'contadas', 'contador', 'contados', 'contaminado', 'contando', 'contar', 'contare', 'contemporáneos', 'contenedor', 'contener', 'contenido', 'contenidos', 'contenta', 'contentas', 'contento', 'contentos', 'contentísimo', 'contenía', 'contesta', 'contestación', 'contestado', 'contestador', 'contestan', 'contestar', 'contestó', 'contextos', 'contiene', 'continuación', 'continuadamente', 'continuado', 'continuamente', 'continuar', 'continuaremos', 'continuas', 'continuo', 'continuos', 'contorno', 'contouring', 'contra', 'contrachapado', 'contradictoria', 'contraindicaciones', 'contrario', 'contras', 'contraseña', 'contrastada', 'contratiempo', 'control', 'controla', 'controlado', 'controlador', 'controlamos', 'controlar', 'controlarla', 'controlarlo', 'controlas', 'controle', 'contrucción', 'contundentes', 'contárselo', 'contínua', 'convence', 'convencen', 'convencer', 'convencerme', 'convencida', 'convencido', 'convencional', 'convencionales', 'convenció', 'convencía', 'convenido', 'conveniente', 'conversaciones', 'convertible', 'convertido', 'convertir', 'convertirnos', 'convertirse', 'conviene', 'convierte', 'cool', 'coordenadas', 'copa', 'copia', 'copian', 'copiar', 'copias', 'coqueto', 'coraje', 'corazon', 'corazón', 'corchetes', 'corcho', 'corchos', 'cordiales', 'cordoba', 'cordoncillo', 'cordones', 'cordón', 'core', 'coreano', 'coronas', 'corporales', 'corrales', 'corre', 'correa', 'correaje', 'correas', 'correcciones', 'correcta', 'correctamente', 'correctas', 'correcto', 'corrector', 'correctos', 'correderas', 'corregir', 'corren', 'correo', 'correos', 'correr', 'correrán', 'corres', 'correspondan', 'corresponde', 'corresponden', 'correspondia', 'correspondiente', 'correspondientes', 'correspondía', 'corrido', 'corriendo', 'corriente', 'corrige', 'corro', 'corroborar', 'corría', 'corta', 'cortaban', 'cortabordes', 'cortadas', 'cortado', 'cortadora', 'cortadores', 'cortal', 'cortan', 'cortando', 'cortante', 'cortar', 'cortas', 'cortaviento', 'corte', 'corten', 'cortes', 'cortina', 'cortinas', 'cortisima', 'cortitos', 'corto', 'cortos', 'cortándolas', 'cortísimo', 'cosa', 'cosas', 'coser', 'coserlos', 'cosida', 'cosido', 'cosidos', 'cosillas', 'cosita', 'cositas', 'cosméticos', 'costaba', 'costaban', 'costado', 'costando', 'coste', 'costes', 'costo', 'costosas', 'costra', 'costumbre', 'costura', 'costuras', 'costurera', 'costó', 'cotidiano', 'coto', 'cover', 'coxis', 'coño', 'cpn', 'cr10', 'cracks', 'crea', 'creadas', 'creality', 'crean', 'creando', 'crear', 'creatividad', 'crece', 'creces', 'crecido', 'crecimiento', 'creemos', 'creer', 'crei', 'creia', 'crema', 'cremallera', 'cremalleras', 'cremas', 'cremosos', 'creo', 'crepe', 'creyendo', 'creí', 'creía', 'creíbles', 'criar', 'criatura', 'crimen', 'crimpadora', 'cris', 'cristal', 'cristaleras', 'cristales', 'cristalinos', 'cristina', 'critica', 'criticar', 'criticas', 'crochet', 'crocks', 'crocs', 'cromada', 'cromado', 'cronometro', 'cronómetro', 'crudo', 'cruz', 'cry', 'críos', 'crítica', 'críticas', 'crítico', 'crónicas', 'crónicos', 'cuadernillo', 'cuaderno', 'cuadra', 'cuadrada', 'cuadradas', 'cuadrados', 'cuadrante', 'cuadren', 'cuadrito', 'cuadro', 'cuadros', 'cual', 'cuales', 'cualidades', 'cualqueir', 'cualquier', 'cualquiera', 'cuando', 'cuantas', 'cuanto', 'cuantos', 'cuarentones', 'cuarta', 'cuarto', 'cuatro', 'cubeta', 'cubetas', 'cubierta', 'cubiertas', 'cubierto', 'cubiertos', 'cubitos', 'cubo', 'cubos', 'cubra', 'cubre', 'cubren', 'cubriera', 'cubriese', 'cubrir', 'cubro', 'cubría', 'cucarachas', 'cuchara', 'cucharilla', 'cuchilla', 'cuchillas', 'cuchillo', 'cuchillos', 'cucos', 'cuecehuevos', 'cuela', 'cuelen', 'cuelga', 'cuelgo', 'cuello', 'cuenco', 'cuencos', 'cuenta', 'cuentaquilometros', 'cuentas', 'cuente', 'cuentes', 'cuento', 'cuentos', 'cuerda', 'cuerdas', 'cuero', 'cuerpo', 'cuerpos', 'cuesta', 'cuestan', 'cueste', 'cuestion', 'cuestionable', 'cuestionables', 'cuestiones', 'cuestiono', 'cuestión', 'cuidada', 'cuidado', 'cuidados', 'cuidadosa', 'cuidadosos', 'cuidan', 'cuidar', 'cuidarme', 'cuidaré', 'cuidas', 'culo', 'culote', 'culpa', 'cultivo', 'cumole', 'cumpla', 'cumplan', 'cumple', 'cumpleaños', 'cumplen', 'cumplia', 'cumplido', 'cumplidor', 'cumplidos', 'cumpliendo', 'cumplimiento', 'cumplio', 'cumplir', 'cumplirá', 'cumplió', 'cumplía', 'cuna', 'cunado', 'cunas', 'cunde', 'cunple', 'cuota', 'cuqui', 'curcuma', 'curiosamente', 'curioso', 'curiosos', 'currada', 'curro', 'curso', 'curva', 'curvan', 'curvar', 'curvas', 'curvo', 'cuter', 'cutre', 'cutres', 'cuya', 'cuyo', 'cuál', 'cuándo', 'cuántas', 'cuánto', 'cuñado', 'cálidad', 'cámara', 'cámaras', 'cánula', 'cápsula', 'cápsulas', 'cáñamo', 'céntimos', 'césar', 'césped', 'cócteles', 'código', 'códigos', 'cómo', 'cómoda', 'cómodamente', 'cómodas', 'cómodo', 'cómodos', 'cómpralo', 'cóncavo', 'cónica', 'cúpula', 'cúter', 'da', 'dab', 'daba', 'daban', 'dac', 'dada', 'dadas', 'dado', 'dados', 'dais', 'daisy', 'dalta', 'damos', 'dan', 'dando', 'dar', 'daremos', 'darle', 'darles', 'darlo', 'darme', 'darnos', 'darte', 'dará', 'daré', 'daría', 'das', 'datos', 'davan', 'david', 'davinia', 'daña', 'dañada', 'dañadas', 'dañado', 'dañados', 'dañar', 'dañarse', 'daño', 'daños', 'dbi', 'dc45', 'dd', 'de', 'de10', 'deba', 'debajo', 'debe', 'deben', 'deberia', 'deberiamos', 'deberian', 'debería', 'deberíamos', 'deberían', 'debes', 'debi', 'debia', 'debido', 'debiera', 'debil', 'debiles', 'debio', 'debió', 'debo', 'debí', 'debía', 'deca', 'decalidad', 'decantado', 'decantamos', 'decantara', 'decathlon', 'decenas', 'decente', 'decentes', 'decepcion', 'decepciona', 'decepcionada', 'decepcionado', 'decepcionados', 'decepcionan', 'decepcionante', 'decepcionda', 'decepciono', 'decepcionó', 'decepción', 'decia', 'decian', 'decibelios', 'decide', 'decides', 'decidi', 'decidido', 'decidio', 'decidirme', 'decidió', 'decidí', 'decimos', 'decir', 'decirlo', 'deciros', 'decisiones', 'decisivo', 'decisión', 'deco', 'decodificador', 'decoracion', 'decoraciones', 'decoración', 'decorada', 'decorado', 'decorar', 'decorativa', 'decorativo', 'decos', 'decuelto', 'decía', 'decían', 'dedecir', 'dedicar', 'dedicas', 'dedo', 'dedos', 'deduce', 'deduzco', 'defecto', 'defectos', 'defectuosa', 'defectuosas', 'defectuoso', 'defectuosos', 'deficiencias', 'deficiente', 'deficientes', 'defina', 'define', 'definición', 'definida', 'definidas', 'definido', 'definir', 'definitiva', 'definitivamente', 'deforma', 'deformada', 'deformadas', 'deformado', 'deformados', 'deforman', 'deformar', 'deformaron', 'deformarse', 'deformes', 'deformó', 'defraudada', 'defraudado', 'degrada', 'deis', 'deja', 'dejaba', 'dejada', 'dejadez', 'dejado', 'dejan', 'dejando', 'dejar', 'dejara', 'dejaran', 'dejare', 'dejarla', 'dejarlas', 'dejarles', 'dejarlo', 'dejarlos', 'dejarme', 'dejarmelo', 'dejaron', 'dejará', 'dejaré', 'dejaría', 'dejas', 'deje', 'dejen', 'dejes', 'dejo', 'dejándolo', 'dejé', 'dejó', 'del', 'delante', 'delantera', 'delantero', 'delata', 'delgada', 'delgadas', 'delgado', 'delicada', 'delicadas', 'delicado', 'delicados', 'delicia', 'delicioso', 'deliciosos', 'demas', 'demasiada', 'demasiadas', 'demasiado', 'demasiados', 'demasido', 'demomento', 'demoró', 'demuestra', 'demuestran', 'demás', 'den', 'denominación', 'denominado', 'densa', 'densos', 'dentro', 'denuncia', 'denunciado', 'denunciar', 'departamentos', 'depega', 'depende', 'dependerá', 'dependiendo', 'deporte', 'deportes', 'deportistas', 'deportiva', 'deposiciones', 'deposito', 'deprisa', 'depues', 'depuradora', 'depósito', 'derecha', 'derecho', 'dermatitis', 'derrama', 'derramado', 'derraman', 'derrame', 'derramó', 'derrepente', 'derrite', 'derritiendo', 'des', 'desabrocharlo', 'desaconsejo', 'desacuerdo', 'desafilan', 'desafortunadamente', 'desafortunado', 'desagrada', 'desagradable', 'desagüe', 'desagües', 'desahogo', 'desajusta', 'desajustado', 'desaparece', 'desaparecer', 'desaparecido', 'desapercibido', 'desarma', 'desarmarla', 'desarme', 'desarmo', 'desarrolla', 'desarrollado', 'desarrollar', 'desarrollo', 'desastre', 'desastrosa', 'desastroso', 'desatascar', 'desatascó', 'desbloqueaba', 'desbloqueo', 'desbrozadora', 'descambiado', 'descambiar', 'descambiarlo', 'descambie', 'descambio', 'descansa', 'descansando', 'descansar', 'descanso', 'descarga', 'descargaba', 'descargables', 'descargadas', 'descargado', 'descargar', 'descargara', 'descargarlos', 'descargas', 'descartable', 'descartar', 'descascarillarse', 'descentrado', 'descipción', 'descolgado', 'descolgar', 'descolocadas', 'descolocado', 'descolorida', 'descolorido', 'descompuso', 'desconcertada', 'desconcha', 'desconchadas', 'desconchado', 'desconecta', 'desconectaban', 'desconectar', 'desconectarse', 'desconectándolo', 'desconectándose', 'desconexiones', 'desconexión', 'desconfigura', 'desconocemos', 'desconocida', 'desconozco', 'descontenta', 'descontento', 'descontentos', 'descose', 'descosen', 'descosida', 'descosido', 'descosiendo', 'describa', 'describe', 'describen', 'describiera', 'describir', 'describí', 'descricion', 'descripccion', 'descripcion', 'descripciones', 'descripción', 'descritas', 'descrito', 'descritos', 'descubierto', 'descubiertos', 'descubrir', 'descubro', 'descubrí', 'descuelga', 'descuento', 'descuidado', 'desde', 'desea', 'deseaba', 'deseada', 'deseadas', 'deseado', 'deseados', 'desean', 'deseando', 'desear', 'desecha', 'desechar', 'desecho', 'desee', 'desembalarlo', 'desempeña', 'desempeñar', 'desencaja', 'desencajada', 'desencantada', 'desencantado', 'desenchufar', 'desenchufarlo', 'desenfocado', 'desengaño', 'desenlaza', 'desenrollarlo', 'desenrosca', 'desenroscando', 'desentendió', 'desenvolverlo', 'deseo', 'desepcionado', 'desequilibradas', 'desesperada', 'desesperante', 'desestabiliza', 'desfase', 'desfigurado', 'desgarro', 'desgastada', 'desgastadas', 'desgastado', 'desgastan', 'desgastando', 'desgastar', 'desgaste', 'desgracia', 'desgradable', 'deshace', 'deshacen', 'deshacer', 'deshacerse', 'deshecho', 'deshilacha', 'deshilachadas', 'deshilache', 'deshumidificador', 'desiguales', 'desilusion', 'desilusionada', 'desilusionado', 'desilusione', 'desilusionó', 'desilusión', 'desincronización', 'desincrusta', 'desinflado', 'desinflan', 'desinstalar', 'desintegra', 'desisto', 'deslice', 'desliza', 'deslizando', 'deslizarse', 'deslizándose', 'deslumbra', 'deslumbre', 'desmaquilla', 'desmonta', 'desmontable', 'desmontado', 'desmontaje', 'desmontando', 'desmontar', 'desmontarlo', 'desmonte', 'desmonto', 'desmontó', 'desnivel', 'desnudo', 'desorbitado', 'desordenadas', 'despaga', 'despega', 'despegaba', 'despegable', 'despegada', 'despegadas', 'despegado', 'despegados', 'despegan', 'despegando', 'despegandose', 'despegar', 'despegarla', 'despegarlas', 'despegarlo', 'despegaron', 'despegarse', 'despegue', 'despegó', 'despejan', 'desperdicio', 'desperfecto', 'desperfectos', 'despertador', 'despertar', 'despide', 'despierta', 'despierte', 'despistados', 'despistas', 'desplaza', 'desplazamientos', 'desplazarlos', 'desplazarme', 'desplegarse', 'desportillado', 'desprecintada', 'desprecintado', 'desprende', 'desprenden', 'desprendió', 'despreocupación', 'despreocupo', 'desproporcionado', 'desprotegido', 'despues', 'después', 'destaca', 'destacables', 'destacado', 'destacan', 'destacar', 'destacaría', 'destapada', 'destinada', 'destino', 'destiñe', 'destiñen', 'destornillador', 'destrozada', 'destrozado', 'destrozar', 'destrozarlo', 'desvanece', 'desvestir', 'desvío', 'detalla', 'detallada', 'detalladas', 'detallado', 'detalle', 'detalles', 'detallito', 'detecta', 'detectaba', 'detectar', 'detecte', 'detectives', 'detecto', 'detector', 'detergente', 'detergentes', 'deteriorada', 'deteriorado', 'deteriorando', 'deterioro', 'deterioros', 'determinado', 'determinados', 'detras', 'detroit', 'detrás', 'deveria', 'devido', 'devolucion', 'devoluciones', 'devolución', 'devolvemos', 'devolver', 'devolvere', 'devolverla', 'devolverlas', 'devolverlo', 'devolverlos', 'devolverme', 'devolveré', 'devolvería', 'devolvi', 'devolviendo', 'devolvieron', 'devolviesen', 'devolvimos', 'devolvio', 'devolvió', 'devolví', 'devuelto', 'devueltos', 'devuelva', 'devuelvan', 'devuelve', 'devuelven', 'devuelvo', 'di', 'dia', 'diadema', 'dial', 'diametro', 'diaria', 'diariamente', 'diario', 'diarios', 'dias', 'dibujada', 'dibujar', 'dibujas', 'dibujo', 'dibujos', 'diccionario', 'dice', 'dicen', 'dicha', 'dichas', 'dicho', 'dichos', 'diciembre', 'diciendo', 'diciendome', 'diciéndome', 'didactico', 'diego', 'diente', 'dientes', 'dieron', 'diesel', 'diesen', 'dieta', 'diez', 'diferencia', 'diferenciar', 'diferencias', 'diferente', 'diferentes', 'dificil', 'dificiles', 'dificulta', 'dificultad', 'dificultades', 'difieren', 'difumina', 'difuminado', 'difícil', 'difíciles', 'digamos', 'digan', 'digestión', 'digital', 'digitalizador', 'digitalmente', 'dignado', 'digno', 'dignó', 'digo', 'dijeron', 'dijieron', 'dijo', 'dimensiones', 'dimensión', 'diminuta', 'diminutas', 'diminuto', 'dinamico', 'dinde', 'dinero', 'dineros', 'dink', 'dinosaurios', 'dinámica', 'dio', 'dios', 'dipolo', 'dire', 'direcciones', 'dirección', 'directa', 'directamente', 'directo', 'diria', 'dirijo', 'dirá', 'diré', 'diréis', 'diría', 'dirían', 'discernir', 'disco', 'discos', 'discoteca', 'discotequero', 'discovery', 'discreto', 'discretos', 'disculpas', 'diseñada', 'diseñado', 'diseñados', 'diseño', 'diseños', 'disfraces', 'disfraz', 'disfruta', 'disfrutar', 'disfrutarla', 'disfrutas', 'disgustada', 'disgustado', 'disimula', 'disimulada', 'disimuladas', 'disimulado', 'disimular', 'disipador', 'disminuido', 'disminuye', 'disney', 'dispara', 'disparo', 'disparos', 'dispensación', 'dispensador', 'dispensadores', 'dispersa', 'display', 'dispone', 'disponer', 'dispongo', 'disponible', 'disponibles', 'disponía', 'disposición', 'dispositivo', 'dispositivos', 'dispuesto', 'distancia', 'distingue', 'distinguen', 'distinguirla', 'distinta', 'distintas', 'distinto', 'distintos', 'distorsiona', 'distorsionada', 'distorsionado', 'distorsionan', 'distraido', 'distraída', 'distribución', 'distribuido', 'distribuidor', 'distribuidos', 'disuelve', 'diversidad', 'diversión', 'diversos', 'divertidisima', 'divertido', 'divertidos', 'divierte', 'divina', 'diáfanos', 'diámetro', 'diámetros', 'dió', 'dobla', 'doblada', 'dobladas', 'doblado', 'doblaje', 'doblan', 'doblar', 'doblaron', 'doble', 'dobleces', 'dobles', 'documentos', 'dolor', 'dolores', 'domestico', 'domicilio', 'doméstico', 'domótica', 'donde', 'doorbell', 'dorado', 'dormimos', 'dormir', 'dormitorio', 'dos', 'doy', 'drive', 'drivers', 'dron', 'dslr', 'dual', 'ducha', 'duda', 'dudar', 'dudas', 'dudes', 'dudo', 'dudosa', 'duele', 'duerme', 'dulce', 'dura', 'duraba', 'durabilidad', 'durable', 'duracion', 'duración', 'duradera', 'duraderas', 'duradero', 'duraderos', 'durado', 'duran', 'durante', 'durar', 'durara', 'duraron', 'durará', 'durarán', 'duras', 'dure', 'duren', 'dureza', 'duro', 'duros', 'duró', 'dvd', 'débil', 'débiles', 'día', 'días', 'dígitos', 'dónde', 'ea', 'ebook', 'echa', 'echan', 'echar', 'eche', 'echo', 'económica', 'económicas', 'económico', 'económicos', 'ect', 'edad', 'edades', 'edge', 'edición', 'edit', 'eduardo', 'educativo', 'efectiva', 'efectivamente', 'efectivas', 'efectividad', 'efectivo', 'efecto', 'efectos', 'eficacia', 'eficaz', 'eficiente', 'eh', 'eje', 'ejemplo', 'ejemplos', 'ejerce', 'ejercicio', 'ejercicios', 'el', 'elaborado', 'elección', 'electrodomésticos', 'electrónico', 'elegante', 'elegantes', 'elegir', 'elegí', 'elementos', 'eleva', 'elevado', 'eliminar', 'ella', 'ellas', 'ello', 'ellos', 'elástica', 'eléctrica', 'eléctrico', 'eléctricos', 'email', 'embaladas', 'embalado', 'embalados', 'embalaje', 'embargo', 'emergencia', 'emisora', 'emisoras', 'emite', 'emitir', 'emma', 'emocional', 'emocionante', 'empalmar', 'empaquetada', 'empaquetado', 'empaquetarlo', 'empareja', 'emparejar', 'empañado', 'empecé', 'empezaba', 'empezado', 'empezando', 'empezar', 'empezo', 'empezó', 'empiece', 'empieza', 'empiezan', 'empiezas', 'empiezo', 'empresa', 'empujar', 'en', 'enana', 'encaja', 'encajaba', 'encajan', 'encajar', 'encaje', 'encanta', 'encantada', 'encantadas', 'encantado', 'encantados', 'encantan', 'encantaron', 'encantará', 'encanto', 'encantó', 'encargado', 'encender', 'encenderla', 'encenderlo', 'encenderse', 'encendia', 'encendida', 'encendidas', 'encendido', 'encendía', 'encerados', 'enchufado', 'enchufarlo', 'enchufe', 'enchufes', 'enciende', 'enciendes', 'encima', 'encontrado', 'encontrar', 'encontrarse', 'encontre', 'encontré', 'encrespamiento', 'encuadernación', 'encuentro', 'encías', 'endeble', 'endebles', 'energía', 'enero', 'enfadado', 'enfadar', 'enfocar', 'enfría', 'engancha', 'enganchado', 'enganchan', 'enganchar', 'engancharme', 'engancharse', 'enganche', 'enganches', 'engaña', 'engañada', 'engañado', 'engañar', 'engaño', 'engañosa', 'engañoso', 'engorroso', 'engranaje', 'enlaza', 'enlazar', 'enorme', 'enormemente', 'enormes', 'enrollado', 'ensayos', 'enseguida', 'enseña', 'ensucia', 'ensuciado', 'entendemos', 'entender', 'entendí', 'entera', 'entero', 'enteros', 'entiendo', 'entonces', 'entra', 'entrada', 'entradas', 'entrado', 'entran', 'entrando', 'entrar', 'entre', 'entrega', 'entregada', 'entregado', 'entregan', 'entregar', 'entregaron', 'entrego', 'entreguen', 'entrenando', 'entrenar', 'entretener', 'entretenida', 'entretenido', 'entretiene', 'entró', 'envase', 'enviada', 'enviado', 'envian', 'enviar', 'enviaran', 'enviarla', 'enviarlo', 'enviarme', 'enviaron', 'envidiar', 'envidiarle', 'envio', 'envié', 'envió', 'envoltorio', 'envoltorios', 'envolver', 'envuelta', 'envuelto', 'envueltos', 'envuelve', 'envuelven', 'envía', 'envían', 'envíen', 'envío', 'envíos', 'equipaje', 'equipo', 'equipos', 'equis', 'equivocado', 'equivocaron', 'equivoco', 'equivoque', 'equivoqué', 'era', 'eran', 'eres', 'ergonomia', 'ergonómicos', 'error', 'errores', 'es', 'esa', 'esas', 'escalera', 'escalones', 'escapa', 'escapan', 'escasa', 'escasas', 'escaso', 'escayola', 'escenas', 'escoba', 'escogí', 'escolar', 'escribe', 'escribiendo', 'escribir', 'escribo', 'escribí', 'escrita', 'escrito', 'escritora', 'escritorio', 'escritura', 'escucha', 'escuchaba', 'escuchan', 'escuchar', 'escurre', 'ese', 'esencial', 'esfera', 'esfuerzo', 'esmaltes', 'eso', 'esos', 'espacio', 'espacios', 'espaciosa', 'espacioso', 'espalda', 'españa', 'español', 'especial', 'especialmente', 'especie', 'especifica', 'especificaba', 'especificaciones', 'especificar', 'especifico', 'especifique', 'espectacular', 'espectatibas', 'espectativas', 'específica', 'específicos', 'espejo', 'espera', 'esperaba', 'esperada', 'esperado', 'esperamos', 'esperando', 'esperanza', 'esperar', 'espere', 'esperemos', 'esperes', 'espero', 'esperábamos', 'esperéis', 'espeso', 'espesor', 'espuma', 'esquema', 'esquina', 'esquinas', 'esta', 'estaba', 'estaban', 'estabilidad', 'estabilizador', 'estable', 'establecido', 'estado', 'estafa', 'estafada', 'estafado', 'estafadores', 'estamos', 'estampado', 'estan', 'estanco', 'estancos', 'estandar', 'estando', 'estante', 'estar', 'estaria', 'estará', 'estaría', 'estas', 'este', 'estetica', 'esteticamente', 'estilo', 'estimada', 'estimado', 'estimulación', 'estipulado', 'estira', 'estirada', 'estirar', 'esto', 'estos', 'estoy', 'estrecha', 'estrecho', 'estrella', 'estrellas', 'estropea', 'estropeada', 'estropeado', 'estropean', 'estropeando', 'estropear', 'estropeo', 'estropeó', 'estructura', 'estuche', 'estupenda', 'estupendamente', 'estupendas', 'estupendo', 'estupendos', 'estuve', 'estuviera', 'estuvieran', 'estuvo', 'està', 'está', 'están', 'estándar', 'estás', 'esté', 'estén', 'estés', 'estética', 'estéticamente', 'estético', 'etc', 'ethernet', 'etiqueta', 'etiquetado', 'etiquetas', 'eugenio', 'europea', 'europeo', 'euros', 'evaporación', 'evidentemente', 'evidentes', 'evita', 'evitando', 'evitar', 'evitas', 'evito', 'exacta', 'exactamente', 'exactitud', 'exacto', 'exactos', 'excelente', 'excelentes', 'excepcional', 'excepción', 'excepto', 'exceptuando', 'excesivamente', 'excesivo', 'exceso', 'exclusivamente', 'exelente', 'exigencias', 'exista', 'existe', 'existen', 'exito', 'expectativa', 'expectativas', 'experiencia', 'explica', 'explicaciones', 'explicación', 'explicado', 'explican', 'explicar', 'exploto', 'express', 'expulsará', 'exquisito', 'extendida', 'exterior', 'exteriores', 'externa', 'externas', 'externo', 'extiende', 'extra', 'extracción', 'extraer', 'extraordinaria', 'extraordinario', 'extras', 'extraña', 'extraño', 'extrema', 'extremadamente', 'extremo', 'extremos', 'fa', 'fabrica', 'fabricación', 'fabricado', 'fabricante', 'fabula', 'facebook', 'facial', 'facil', 'faciles', 'facilidad', 'facilita', 'facilitan', 'facilmente', 'factura', 'falla', 'fallado', 'fallar', 'fallo', 'fallos', 'falsa', 'falsas', 'falsificación', 'falso', 'falsos', 'falta', 'faltaba', 'faltaban', 'faltan', 'faltando', 'faltar', 'falten', 'familia', 'familiar', 'famoso', 'fan', 'fantastico', 'fantástica', 'fantástico', 'fantásticos', 'farmacia', 'faros', 'fastidia', 'fastidio', 'fatal', 'favor', 'favoritas', 'fea', 'febrero', 'fecha', 'fechas', 'felices', 'feliz', 'femenino', 'fenomenal', 'feo', 'fernando', 'ferretería', 'fi', 'fiable', 'fiables', 'fiasco', 'fibra', 'fichas', 'fiel', 'fieltro', 'fiesta', 'figura', 'figuras', 'fija', 'fijación', 'fijar', 'fijarlo', 'fijas', 'fije', 'fijo', 'filo', 'filtra', 'filtro', 'filtros', 'fin', 'fina', 'final', 'finales', 'finalmente', 'finas', 'fino', 'finos', 'firma', 'firme', 'firmes', 'firmeza', 'fitros', 'flanera', 'flash', 'flequillo', 'flexible', 'flexibles', 'flexo', 'floja', 'flojas', 'flojita', 'flojito', 'flojo', 'flojos', 'flores', 'fluida', 'fluidez', 'fluido', 'fluorescente', 'fm', 'foco', 'folios', 'fondo', 'for', 'forma', 'formal', 'formas', 'formato', 'forro', 'forzada', 'foto', 'fotografía', 'fotografías', 'fotos', 'fracaso', 'fragil', 'fragilidad', 'francés', 'franjas', 'frasco', 'fraude', 'frecuencia', 'frecuentemente', 'fregadero', 'fregar', 'freidora', 'freno', 'frenos', 'frente', 'fresa', 'fresca', 'fresco', 'frigorífico', 'frio', 'frontal', 'fruta', 'frutas', 'frágil', 'frágiles', 'fría', 'frío', 'fu', 'fue', 'fuego', 'fuente', 'fuentes', 'fuera', 'fueran', 'fueron', 'fuerte', 'fuertes', 'fuerza', 'fuerzas', 'fuese', 'fugando', 'fugas', 'fui', 'fumador', 'funcion', 'funciona', 'funcionaba', 'funcionaban', 'funcionado', 'funcional', 'funcionales', 'funcionalidad', 'funcionamiento', 'funcionan', 'funcionando', 'funcionar', 'funcionara', 'funcionase', 'funcione', 'funciones', 'funciono', 'funcionó', 'funciòn', 'función', 'funda', 'fundamental', 'fundas', 'funde', 'fundido', 'fundidos', 'funko', 'furgo', 'futuro', 'futuros', 'fué', 'fàcil', 'fábrica', 'fácil', 'fáciles', 'fácilmente', 'físicas', 'g3', 'gafa', 'gafas', 'galaxy', 'galgas', 'gallego', 'gama', 'game', 'gana', 'ganar', 'ganas', 'gancho', 'ganchos', 'garantia', 'garantizar', 'garantía', 'garantías', 'garcía', 'garmin', 'gas', 'gasta', 'gastado', 'gastar', 'gastarme', 'gastarse', 'gasto', 'gastos', 'gata', 'gatas', 'gato', 'gatos', 'gb', 'gel', 'genera', 'generación', 'general', 'generales', 'generar', 'geniak', 'genial', 'geniales', 'gente', 'gestionar', 'gestión', 'gigante', 'gimnasio', 'gira', 'giran', 'girando', 'girar', 'giro', 'globoflexia', 'globos', 'golpe', 'golpeada', 'golpeado', 'golpear', 'golpecito', 'golpes', 'goma', 'gomas', 'gomoso', 'good', 'gorda', 'gordas', 'gordo', 'gorra', 'gorro', 'gotas', 'gotea', 'gps', 'graba', 'grabación', 'grabadora', 'grabar', 'gracia', 'gracias', 'gracioso', 'grados', 'graduar', 'gramos', 'gran', 'grande', 'grandes', 'granitos', 'grapas', 'grasa', 'graso', 'gratamente', 'gratis', 'grave', 'graves', 'grifo', 'gris', 'grosor', 'gruesa', 'gruesas', 'grueso', 'gruesos', 'grumos', 'grupo', 'gráfica', 'gráficos', 'guante', 'guantes', 'guapa', 'guapo', 'guardado', 'guardar', 'guardarla', 'guardarlo', 'guardarlos', 'guardería', 'guardo', 'guay', 'guerra', 'guia', 'guias', 'guirnaldas', 'guitarra', 'gusta', 'gustaba', 'gustado', 'gustan', 'gustaria', 'gustaron', 'gustará', 'gustaría', 'guste', 'gusto', 'gustos', 'gustó', 'guía', 'guías', 'ha', 'haber', 'haberla', 'haberlo', 'haberme', 'habia', 'habido', 'habiendo', 'habilita', 'habitaciones', 'habitación', 'habitual', 'habituales', 'habla', 'hablando', 'hablar', 'hablo', 'habrá', 'habría', 'habéis', 'había', 'habían', 'hace', 'hacen', 'hacer', 'hacerla', 'hacerlas', 'hacerle', 'hacerles', 'hacerlo', 'hacerse', 'haces', 'hacia', 'haciendo', 'hacía', 'hacían', 'haga', 'hagan', 'hago', 'hamaca', 'hamster', 'han', 'haria', 'harán', 'haría', 'has', 'hasta', 'have', 'hay', 'haya', 'hayan', 'hdd', 'hdmi', 'he', 'hebilla', 'heces', 'hecha', 'hecho', 'hemos', 'hermana', 'hermano', 'hermético', 'herramienta', 'herramientas', 'hi', 'hice', 'hiciera', 'hicieron', 'hicimos', 'hidrata', 'hidratación', 'hidratante', 'hidratar', 'hielo', 'hierbas', 'hierro', 'higiene', 'hija', 'hijas', 'hijo', 'hijos', 'hilo', 'hilos', 'hincapié', 'hincha', 'hinchable', 'hinchar', 'historia', 'historias', 'hitachi', 'hizo', 'hoja', 'hojas', 'hola', 'holgada', 'holgura', 'hombre', 'hombres', 'hombro', 'hombros', 'home', 'honor', 'hora', 'horas', 'horizontal', 'horizontales', 'hormigón', 'horno', 'horrible', 'horror', 'horrorosa', 'hostia', 'hoy', 'huawei', 'hubiera', 'hubiese', 'hubiesen', 'hubo', 'hucha', 'hueco', 'huecos', 'huele', 'huella', 'huellas', 'humanos', 'humedad', 'humidificador', 'humo', 'humor', 'hunde', 'hundido', 'hélices', 'iba', 'iban', 'idea', 'ideal', 'ideales', 'ideas', 'identificadas', 'idioma', 'idiomas', 'ido', 'idéntico', 'igual', 'iguales', 'igualmente', 'ikea', 'ilumina', 'iluminación', 'iluminan', 'iluminar', 'ilusionado', 'ilusión', 'ilustraciones', 'imagen', 'imagenes', 'imaginaba', 'imaginación', 'imagino', 'imaginé', 'iman', 'imanes', 'imbatible', 'imitación', 'impacto', 'impecable', 'imperfecciones', 'impermeabilidad', 'impermeable', 'impermeables', 'importa', 'importancia', 'importante', 'importantes', 'importe', 'imposible', 'imposibles', 'imprescindible', 'impresentable', 'impresentables', 'impresionado', 'impresiones', 'impresión', 'impreso', 'impresora', 'imprimir', 'imágenes', 'imán', 'inalámbrico', 'incapaz', 'incidencia', 'inclina', 'inclinación', 'incluida', 'incluidas', 'incluido', 'incluidos', 'incluso', 'incluye', 'incluyen', 'incomoda', 'incomodas', 'incomodisimo', 'incomodo', 'incomodos', 'incomodísimo', 'incompatible', 'incompleta', 'incompleto', 'incompresible', 'inconveniente', 'inconvenientes', 'incorporada', 'incorporado', 'incorporan', 'incorrecta', 'incorrecto', 'increible', 'increiblemente', 'incremento', 'increíble', 'incrustada', 'incumplimiento', 'incógnitas', 'incómoda', 'incómodas', 'incómodo', 'incómodos', 'indeble', 'independientes', 'indeseados', 'indestructible', 'indica', 'indicaba', 'indicaban', 'indicacion', 'indicaciones', 'indicación', 'indicada', 'indicadas', 'indicado', 'indicador', 'indicados', 'indican', 'indicando', 'indicar', 'indicara', 'indicarlo', 'indicarme', 'indicarse', 'indicáis', 'indignada', 'indignante', 'indique', 'indiquen', 'indispensable', 'indispensables', 'individual', 'individuales', 'individualmente', 'inducción', 'indudable', 'inestable', 'inestables', 'inexistente', 'infantil', 'infantiles', 'inferior', 'inferiores', 'infima', 'inflado', 'inflar', 'inflarlos', 'info', 'informacion', 'información', 'informado', 'informal', 'informales', 'informar', 'infusiones', 'ingles', 'inglés', 'ingredientes', 'iniciaba', 'inicial', 'iniciar', 'inicio', 'inmediata', 'inmediatamente', 'inmediato', 'inmejorable', 'inodoro', 'inoxidable', 'insatisfecha', 'insatisfecho', 'inseguro', 'inserta', 'insertar', 'inservible', 'insignia', 'insisto', 'inspiración', 'instalacion', 'instalaciones', 'instalación', 'instalada', 'instalado', 'instalados', 'instalar', 'instalarlo', 'instalas', 'instalo', 'instalé', 'instante', 'instituto', 'instrucciones', 'instruciones', 'insuficiente', 'insuficientes', 'insuperable', 'intacto', 'integrado', 'intemperie', 'intensa', 'intensidad', 'intensidades', 'intensivo', 'intenso', 'intenta', 'intentado', 'intentando', 'intentar', 'intente', 'intento', 'intentos', 'intercambiables', 'interesa', 'interesaba', 'interesante', 'interesantes', 'interfaz', 'interferencias', 'interior', 'interiores', 'intermedio', 'intermitente', 'intermitentes', 'interna', 'internet', 'interruptor', 'interés', 'intriga', 'intrigada', 'intuitiva', 'intuitivo', 'inutil', 'invento', 'inversión', 'invertido', 'invertir', 'invierno', 'invitados', 'inútil', 'io', 'ios', 'ipad', 'iphon', 'iphone', 'ipod', 'ir', 'ira', 'irregular', 'irrigador', 'irá', 'isadora', 'italiana', 'izquierda', 'izquierdo', 'j7', 'ja', 'jabon', 'jabones', 'jabón', 'jack', 'jamonero', 'jamás', 'japonés', 'jardín', 'jarra', 'jaula', 'jesus', 'jinhao', 'jo', 'joda', 'jodido', 'jodio', 'jordi', 'jose', 'josé', 'joya', 'joyeria', 'joyero', 'joystick', 'juan', 'juana', 'juanetes', 'juega', 'juegas', 'juego', 'juegos', 'juez', 'jugaba', 'jugabilidad', 'jugadores', 'jugando', 'jugar', 'jugarlo', 'juguete', 'juguetería', 'juguetes', 'juguetitos', 'juicio', 'julio', 'jumpy', 'junio', 'junta', 'juntan', 'juntar', 'juntas', 'junto', 'juntos', 'justa', 'justamente', 'justas', 'justifique', 'justita', 'justito', 'justitos', 'justo', 'justos', 'juventud', 'karaoke', 'karol', 'katana', 'kathy', 'kawasaki', 'keda', 'kefir', 'kelvin', 'kettlebells', 'kg', 'kia', 'kiicaa', 'kilometros', 'kilos', 'kin', 'kindle', 'kindles', 'kingston', 'kirby', 'kisiera', 'kit', 'kita', 'kitan', 'kits', 'kitts', 'kk', 'klarstein', 'km', 'komfortland', 'kos', 'kuki', 'kymco', 'la', 'labio', 'labios', 'labo', 'laboral', 'laborioso', 'labrado', 'labrador', 'laca', 'lacado', 'lactancia', 'lado', 'lados', 'ladra', 'ladran', 'ladrara', 'ladridos', 'ladrillo', 'ladybug', 'lag', 'lagarto', 'lags', 'laguna', 'lamas', 'lamentable', 'lamentablemente', 'lamentamos', 'lamina', 'laminado', 'laminadora', 'laminar', 'lamp', 'lampara', 'lamparita', 'lan', 'lana', 'lance', 'lancha', 'lanza', 'lanzador', 'laptop', 'lara', 'larga', 'largas', 'largo', 'largos', 'larguísimo', 'las', 'laser', 'lastima', 'lastre', 'lata', 'lateral', 'laterales', 'latidos', 'latino', 'laura', 'laureth', 'lava', 'lavabo', 'lavada', 'lavado', 'lavadora', 'lavados', 'lavan', 'lavanda', 'lavandolo', 'lavandose', 'lavaplatos', 'lavar', 'lavarla', 'lavarlas', 'lavarme', 'lavas', 'lavavajillas', 'lave', 'laves', 'lavo', 'lavándolo', 'lavé', 'lcd', 'ld', 'le', 'leagoo', 'leas', 'leather', 'leche', 'lector', 'lectura', 'lecturas', 'led', 'leds', 'lee', 'leer', 'leerla', 'leerlo', 'leerse', 'leeré', 'legal', 'legaron', 'lego', 'legos', 'legó', 'lei', 'leido', 'lejanas', 'lejia', 'lejos', 'lengüeta', 'lengüetas', 'lenta', 'lentas', 'lente', 'lentes', 'lentisimo', 'lento', 'les', 'lesion', 'leticia', 'letra', 'letras', 'lettering', 'levanta', 'levantaba', 'levantado', 'levantados', 'levantan', 'levantar', 'levantarla', 'levantarlo', 'levantaron', 'levantarse', 'levantas', 'levante', 'levantes', 'levanto', 'leve', 'leyendo', 'leí', 'leída', 'leídas', 'leído', 'lg', 'li', 'liada', 'liberan', 'libertad', 'libran', 'libre', 'libremente', 'libres', 'libretas', 'libro', 'libros', 'libró', 'licencia', 'licuadora', 'licuar', 'lidiar', 'lidl', 'liendres', 'lienzo', 'life', 'ligera', 'ligeramente', 'ligeras', 'ligeresa', 'ligereza', 'ligero', 'ligeros', 'ligerísimo', 'light', 'lightbox', 'lija', 'lijadora', 'lijan', 'lijando', 'lima', 'limando', 'limarlas', 'limas', 'limitaciones', 'limitada', 'limitadas', 'limitado', 'limitan', 'limite', 'limites', 'limonada', 'limpia', 'limpiacristales', 'limpiado', 'limpiador', 'limpian', 'limpiando', 'limpiandolo', 'limpiar', 'limpiarla', 'limpiarlo', 'limpiarlos', 'limpiaron', 'limpias', 'limpie', 'limpieza', 'limpio', 'limpios', 'limpió', 'limón', 'linda', 'lindo', 'lindos', 'line', 'linea', 'lineas', 'linterna', 'linternas', 'linux', 'lio', 'liquido', 'liquidos', 'lis', 'lisa', 'lisas', 'liso', 'lista', 'listado', 'listillo', 'listo', 'lite', 'literalmente', 'literatura', 'litro', 'litros', 'liviano', 'llama', 'llamaba', 'llamada', 'llamadas', 'llamado', 'llamamos', 'llaman', 'llamando', 'llamar', 'llamarian', 'llamarle', 'llamarme', 'llamaron', 'llamarse', 'llamativas', 'llamativo', 'llamo', 'llamé', 'llanta', 'llantas', 'llave', 'llavero', 'llaveros', 'llaves', 'llebe', 'llega', 'llegaba', 'llegada', 'llegado', 'llegan', 'llegando', 'llegar', 'llegara', 'llegaria', 'llegarian', 'llegarme', 'llegaron', 'llegará', 'llegaría', 'llegarían', 'llegarón', 'llegase', 'llegasen', 'llege', 'llego', 'llegue', 'lleguen', 'llegué', 'llegó', 'llena', 'llenado', 'llenar', 'llenarla', 'llenarlo', 'llenaría', 'llene', 'lleno', 'llenos', 'llenó', 'lleva', 'llevaba', 'llevaban', 'llevadero', 'llevado', 'llevamos', 'llevan', 'llevandolo', 'llevar', 'llevaras', 'llevaria', 'llevarla', 'llevarlas', 'llevarlo', 'llevarlos', 'llevarnos', 'llevarse', 'llevarte', 'llevará', 'llevas', 'llevase', 'llevases', 'lleve', 'lleven', 'lleves', 'llevo', 'llevándolo', 'llevártelo', 'llevé', 'lllega', 'lloran', 'llorar', 'llorca', 'lloro', 'llorona', 'llovido', 'llovió', 'lluvia', 'lluviosos', 'lo', 'loca', 'local', 'localizado', 'localizar', 'loco', 'locos', 'locura', 'loe', 'logo', 'logos', 'logotipo', 'logra', 'lograda', 'logradas', 'logrado', 'logrando', 'lograron', 'logras', 'loke', 'lol', 'lomo', 'lona', 'loncheado', 'longitud', 'loq', 'loro', 'loros', 'los', 'lotería', 'lotes', 'lourdes', 'lp', 'ls', 'lubrica', 'lubricante', 'lubricar', 'lucecita', 'lucen', 'luces', 'luchado', 'luchadora', 'luchan', 'lucir', 'lucían', 'luego', 'lugar', 'lugares', 'luis', 'lujo', 'lumbar', 'lumenes', 'lumens', 'luminosidad', 'luminoso', 'luna', 'lunes', 'lupa', 'luz', 'lx', 'lámina', 'lámpara', 'lápiz', 'lástima', 'límite', 'línea', 'líquido', 'líquidos', 'lógicamente', 'lógico', 'lúmenes', 'ma', 'mac', 'macbook', 'maclaren', 'macros', 'madera', 'maderas', 'madre', 'maestra', 'magia', 'magnifica', 'magnífico', 'mah', 'mail', 'mails', 'majo', 'mal', 'mala', 'malas', 'maleta', 'maletas', 'maletero', 'maletin', 'maletín', 'malilla', 'malisima', 'malisimas', 'malisimo', 'malla', 'malo', 'malos', 'maltrata', 'maltrato', 'malísima', 'malísimo', 'mamá', 'mancha', 'manchado', 'manchan', 'manchar', 'manchas', 'manda', 'mandaban', 'mandado', 'mandan', 'mandar', 'mandaron', 'mando', 'mandos', 'maneja', 'manejable', 'manejables', 'manejar', 'manejo', 'manera', 'maneras', 'manga', 'mangas', 'mango', 'mangos', 'manguera', 'manillar', 'manipulación', 'manipulado', 'mano', 'manos', 'manta', 'mantel', 'mantener', 'mantenerlo', 'mantenga', 'mantenimiento', 'mantequilla', 'mantiene', 'manual', 'manuales', 'manualidad', 'manualidades', 'manuel', 'manzana', 'maquillaje', 'maquina', 'maquinas', 'maquinilla', 'mar', 'maravilla', 'maravillosa', 'marca', 'marcada', 'marcadas', 'marcado', 'marcados', 'marcan', 'marcar', 'marcas', 'marcha', 'marco', 'marga', 'margen', 'maria', 'marido', 'marrón', 'martínez', 'marzo', 'maría', 'mas', 'masaje', 'masajeador', 'mascarilla', 'mascota', 'mascotas', 'mata', 'mate', 'materia', 'material', 'materiales', 'matrícula', 'max', 'maximo', 'maya', 'mayo', 'mayor', 'mayores', 'mayoría', 'mañana', 'me', 'mecanico', 'mecanismo', 'mecanismos', 'mechero', 'mecheros', 'mecánica', 'mecánico', 'media', 'medianamente', 'mediante', 'medias', 'mediciones', 'medición', 'medida', 'medidas', 'medidor', 'medio', 'mediocre', 'mediocres', 'medios', 'mejor', 'mejora', 'mejorable', 'mejorables', 'mejorado', 'mejorar', 'mejoraría', 'mejoren', 'mejores', 'mejoría', 'melamina', 'membrana', 'memoria', 'memorias', 'menciona', 'mencionar', 'menor', 'menos', 'mens', 'mensaje', 'mensajería', 'mensajes', 'menstruación', 'mensual', 'mente', 'mentir', 'mentira', 'menuda', 'menudo', 'menú', 'mercadillo', 'mercado', 'mercedes', 'merece', 'merecen', 'mereció', 'mes', 'mesa', 'mesas', 'mese', 'meses', 'metacrilato', 'metal', 'metales', 'metalica', 'metalico', 'mete', 'meten', 'meter', 'meterle', 'meterlo', 'meterlos', 'metes', 'metido', 'meto', 'metodo', 'metro', 'metros', 'metálica', 'metálico', 'metálicos', 'mezcla', 'mfi', 'mi', 'mia', 'micro', 'microfibra', 'microfono', 'microondas', 'micrófono', 'mide', 'miden', 'mides', 'mido', 'miedo', 'mientras', 'mierda', 'miguel', 'mil', 'milagro', 'milagros', 'milímetros', 'min', 'mini', 'minijack', 'minimo', 'minuto', 'minutos', 'minúsculo', 'mio', 'mirando', 'mirar', 'mirarlo', 'miré', 'mis', 'misión', 'misma', 'mismas', 'mismo', 'mismos', 'mitad', 'mitos', 'mix', 'ml', 'mm', 'mochila', 'mochilas', 'moda', 'modelo', 'modelos', 'moderado', 'moderno', 'modificar', 'modo', 'modos', 'moja', 'mojas', 'moldes', 'molesta', 'molestaban', 'molestan', 'molestias', 'molesto', 'molestos', 'momento', 'momentos', 'monedas', 'monedero', 'monitor', 'mono', 'monos', 'monta', 'montada', 'montadas', 'montado', 'montaje', 'montando', 'montar', 'montarla', 'montarlas', 'montarlo', 'montaña', 'monton', 'montón', 'mordido', 'mortero', 'moscas', 'mosquetón', 'mosquitos', 'mostrar', 'motivo', 'motivos', 'moto', 'motor', 'motos', 'mover', 'moverme', 'moverse', 'movido', 'movil', 'moviles', 'movilidad', 'movimiento', 'movimientos', 'movistar', 'mp3', 'mrw', 'mucha', 'muchas', 'muchisimo', 'mucho', 'muchos', 'muchísima', 'muchísimas', 'muchísimo', 'mueble', 'muebles', 'muele', 'muelle', 'muelles', 'muerto', 'muestra', 'muestran', 'mueva', 'muevan', 'mueve', 'mueven', 'mueves', 'mujer', 'mullidas', 'multitud', 'mundo', 'murieron', 'muscular', 'musica', 'musical', 'muy', 'muñeca', 'muñecas', 'muñeco', 'muñecos', 'mv', 'máquina', 'más', 'máscara', 'máxima', 'máximo', 'métrica', 'mí', 'mía', 'mínima', 'mínimo', 'mínimos', 'mío', 'móvil', 'móviles', 'múltiples', 'música', 'na', 'nacido', 'nada', 'nadar', 'nadie', 'naranja', 'naranjas', 'nariz', 'nas', 'natación', 'natural', 'naturales', 'nauseabundo', 'nave', 'navidad', 'ne', 'necesaria', 'necesarias', 'necesario', 'necesarios', 'neceser', 'necesidad', 'necesidades', 'necesita', 'necesitaba', 'necesitado', 'necesitamos', 'necesitan', 'necesitar', 'necesitaría', 'necesitas', 'necesite', 'necesito', 'nefasta', 'nefasto', 'negativa', 'negativas', 'negativo', 'negra', 'negras', 'negro', 'negros', 'nenuco', 'neopreno', 'netflix', 'neutro', 'nevera', 'ni', 'nice', 'nieto', 'ningun', 'ninguna', 'ninguno', 'ningún', 'nintendo', 'nitidez', 'nivel', 'niveles', 'niña', 'niñas', 'niño', 'niños', 'no', 'noche', 'noches', 'noel', 'nombre', 'normal', 'normales', 'normalidad', 'normalita', 'normalito', 'normalmente', 'nos', 'nose', 'nosotros', 'nota', 'notaba', 'notado', 'notan', 'notar', 'notas', 'note', 'noticias', 'notificaciones', 'noto', 'noté', 'notó', 'novedad', 'novela', 'noviembre', 'nudo', 'nudos', 'nuestra', 'nuestras', 'nuestro', 'nuestros', 'nueva', 'nuevas', 'nuevo', 'nuevos', 'nulo', 'numeracion', 'numero', 'nunca', 'nutrición', 'nuy', 'nylon', 'nítida', 'nítido', 'nórdica', 'número', 'números', 'objetiva', 'objetivo', 'objetivos', 'objeto', 'objetos', 'obliga', 'obligación', 'obligan', 'obligatoriamente', 'obligatorio', 'obra', 'observar', 'obstante', 'obviamente', 'ocasional', 'ocasiones', 'ocasión', 'ocho', 'octubre', 'ocupa', 'ocupan', 'ocurre', 'ocurrido', 'oferta', 'ofertas', 'oficial', 'oficina', 'ofrece', 'ofrecen', 'ofrecer', 'ofrecido', 'oidos', 'ojales', 'ojeras', 'ojo', 'ojos', 'ok', 'oler', 'olga', 'olia', 'olieran', 'olimpicamente', 'oliva', 'olla', 'ollaos', 'olmedo', 'olor', 'olores', 'olorosas', 'olvidado', 'olvidarla', 'olvidas', 'olvido', 'olvidó', 'olvídate', 'olí', 'omega', 'omiso', 'on', 'onda', 'ondas', 'ondulan', 'one', 'online', 'onvif', 'onzas', 'oo', 'opaca', 'opacidad', 'opaco', 'opcion', 'opciones', 'opción', 'opel', 'operación', 'operario', 'operativa', 'operativo', 'operativos', 'opinar', 'opinara', 'opinen', 'opinion', 'opiniones', 'opinión', 'opino', 'oportunidad', 'opotec', 'oprime', 'oprimir', 'optado', 'optar', 'optaré', 'optaría', 'opte', 'optima', 'optimista', 'optimizado', 'opté', 'ora', 'orden', 'ordenado', 'ordenador', 'ordenadores', 'ordenados', 'ordenar', 'oreal', 'orecio', 'oreja', 'orejas', 'orejeras', 'organización', 'organizada', 'organizado', 'organizador', 'organizar', 'orgánica', 'orientar', 'orificio', 'orificios', 'original', 'originales', 'originalidad', 'originalmente', 'oro', 'ortografia', 'ortografía', 'os', 'oscar', 'oscura', 'oscuras', 'oscurece', 'oscuro', 'osea', 'osram', 'ostia', 'otg', 'otoño', 'otr', 'otra', 'otras', 'otro', 'otros', 'outback', 'overboard', 'ovillos', 'oxida', 'oxidación', 'oxidada', 'oxidadas', 'oxidado', 'oxidan', 'oxidar', 'oxidarse', 'oxigenada', 'oxo', 'oye', 'oyen', 'oyes', 'oz', 'oía', 'oían', 'oído', 'oídos', 'oír', 'oírse', 'p10', 'p20', 'pa', 'pablo', 'pac', 'pachangas', 'paciencia', 'paciente', 'pack', 'packaging', 'packs', 'paco', 'pactados', 'padre', 'padres', 'pae', 'paga', 'pagado', 'pagamos', 'pagando', 'pagar', 'pagarlo', 'pagarlos', 'pagas', 'pagina', 'paginas', 'pago', 'pague', 'pagué', 'pais', 'pajarita', 'pajita', 'pakete', 'pala', 'palabra', 'palabras', 'palanca', 'palanquita', 'palas', 'paleta', 'palillos', 'palito', 'palitos', 'palma', 'palo', 'palos', 'pampers', 'pan', 'panacea', 'panatalla', 'panel', 'pantall', 'pantalla', 'pantallas', 'pantalon', 'pantalones', 'pantalón', 'pantry', 'pants', 'panza', 'papa', 'papel', 'papeles', 'papelito', 'paperwhite', 'papá', 'paque', 'paquete', 'paquetes', 'paquetitos', 'par', 'para', 'paraba', 'paraban', 'parabólica', 'parace', 'paracord', 'parafina', 'paraguas', 'paragüero', 'paralelo', 'paran', 'parar', 'pararse', 'pararte', 'parasol', 'parcela', 'parches', 'parcial', 'pare', 'parear', 'parece', 'parecen', 'parecer', 'parecerá', 'pareces', 'parecia', 'parecian', 'parecida', 'parecidas', 'parecido', 'parecidos', 'pareció', 'parecía', 'pared', 'parede', 'paredes', 'pareja', 'pares', 'parese', 'parezca', 'paro', 'parpadea', 'parpadean', 'parpadeando', 'parpadear', 'parpadeo', 'parque', 'parqué', 'parrilla', 'parte', 'parten', 'partes', 'particular', 'particulares', 'particularmente', 'partida', 'partidas', 'partido', 'partieron', 'partio', 'partir', 'partirlo', 'partitura', 'partió', 'party', 'pasa', 'pasaba', 'pasaban', 'pasable', 'pasables', 'pasada', 'pasadas', 'pasado', 'pasador', 'pasados', 'pasajes', 'pasamos', 'pasan', 'pasando', 'pasar', 'pasarlo', 'pasarme', 'pasaron', 'pasarse', 'pasas', 'pascual', 'pase', 'pasear', 'pasen', 'paseo', 'paseos', 'pasillo', 'pasiva', 'paso', 'pasos', 'paspartú', 'passar', 'pasta', 'pasteleria', 'pastilla', 'pastillas', 'pastilleros', 'pastoso', 'pastosos', 'pasé', 'pasó', 'pata', 'patadas', 'patas', 'patata', 'patatas', 'patente', 'patetico', 'patilla', 'patillas', 'patinan', 'patines', 'patinete', 'patio', 'patiño', 'patri', 'patricia', 'patrones', 'patrulla', 'patín', 'pausa', 'pausar', 'pautas', 'pavos', 'país', 'países', 'pañito', 'paño', 'pc', 'pco', 'pcoo', 'pd', 'pdf', 'peana', 'pecera', 'peces', 'pecho', 'pechuga', 'pedal', 'pedales', 'pedazos', 'pedi', 'pedia', 'pedicura', 'pedido', 'pedidos', 'pedimos', 'pedir', 'pedirla', 'pedirlas', 'pedirle', 'pedirlo', 'pedirlos', 'pediré', 'pedro', 'pedí', 'peeeero', 'pega', 'pegaba', 'pegada', 'pegadas', 'pegado', 'pegados', 'pegajosa', 'pegajoso', 'pegamento', 'pegamentos', 'pegan', 'pegando', 'pegandola', 'pegar', 'pegarinas', 'pegarla', 'pegarlas', 'pegarlo', 'pegarlos', 'pegas', 'pegatina', 'pegatinas', 'pego', 'pegote', 'pegue', 'pegué', 'pegó', 'peina', 'peinado', 'peinan', 'peinar', 'peinarla', 'peine', 'pekeñas', 'pela', 'pelado', 'pelador', 'pelan', 'pelando', 'peldaños', 'pelea', 'peli', 'pelicula', 'peliculas', 'peligro', 'peligrosa', 'peligrosas', 'peligroso', 'peligrosos', 'pelillos', 'pelin', 'pelis', 'pelito', 'pelo', 'pelos', 'pelota', 'pelotas', 'pelotillas', 'peluche', 'pelusa', 'película', 'pelín', 'pelón', 'pen', 'pena', 'penas', 'pencil', 'pendiente', 'pendientes', 'pendrive', 'penetrante', 'penosa', 'penoso', 'pensaba', 'pensad', 'pensada', 'pensado', 'pensados', 'pensando', 'pensar', 'pensare', 'pense', 'pensábamos', 'pensé', 'peoblema', 'peoblemas', 'peor', 'peque', 'pequelo', 'pequena', 'pequenas', 'pequeno', 'pequenos', 'peques', 'pequeña', 'pequeñas', 'pequeñita', 'pequeñitas', 'pequeñito', 'pequeñitos', 'pequeño', 'pequeños', 'pequeñísimo', 'pequño', 'per', 'pera', 'percibo', 'percibí', 'percusión', 'perder', 'perderlas', 'perderlo', 'perderá', 'perderé', 'perdia', 'perdida', 'perdido', 'perdiendo', 'perdieron', 'perdigón', 'perdió', 'perdura', 'perdáis', 'perdí', 'perdón', 'perez', 'pereza', 'perfec', 'perfeccion', 'perfección', 'perfecta', 'perfectamenta', 'perfectamente', 'perfectas', 'perfecto', 'perfectos', 'perfil', 'perfilador', 'perfilar', 'perforaciones', 'perforación', 'perforada', 'perfore', 'perfume', 'perfumería', 'pergola', 'periféricos', 'periodo', 'periódico', 'perjudicial', 'perlas', 'permanente', 'permanentemente', 'permanentes', 'permanezca', 'permiso', 'permisos', 'permita', 'permitan', 'permite', 'permiten', 'permitir', 'permitirte', 'permitiría', 'permitió', 'perno', 'pernos', 'pero', 'perra', 'perras', 'perrera', 'perrita', 'perrito', 'perro', 'perros', 'persiana', 'persiste', 'persisten', 'persistente', 'persona', 'personaje', 'personajes', 'personal', 'personales', 'personalidad', 'personalización', 'personalizados', 'personalmente', 'personas', 'perspectivas', 'persuasión', 'perímetro', 'período', 'però', 'peró', 'pesa', 'pesada', 'pesadas', 'pesado', 'pesados', 'pesan', 'pesar', 'pesarla', 'pesas', 'pescadería', 'pescado', 'pese', 'pesima', 'pesimo', 'peso', 'pesos', 'pespunte', 'pespuntes', 'pestaña', 'pestañas', 'pestañita', 'petado', 'petardazo', 'peto', 'petroleo', 'petó', 'peugeot', 'pez', 'peñazo', 'ph', 'phablets', 'philips', 'photoshop', 'pi', 'piano', 'pica', 'picaba', 'picadas', 'picar', 'picas', 'picasso', 'pico', 'picor', 'picores', 'picos', 'pidais', 'pide', 'piden', 'pides', 'pidiendo', 'pidieron', 'pidió', 'pido', 'pie', 'piedra', 'piedras', 'piel', 'pieles', 'piensa', 'piensas', 'piense', 'pienso', 'pierda', 'pierde', 'pierden', 'pierdes', 'pierdo', 'pierna', 'piernas', 'pies', 'pieza', 'piezas', 'piezzas', 'pijama', 'pijamas', 'pikolín', 'pila', 'pilas', 'pilla', 'pillada', 'pillado', 'pillar', 'pillarla', 'pillarle', 'pillas', 'pille', 'pillé', 'pimienta', 'pimiento', 'pincel', 'pinceles', 'pincha', 'pinchada', 'pinchado', 'pinchan', 'pinchar', 'pinche', 'pinchos', 'pineda', 'pinlock', 'pinta', 'pintaban', 'pintadas', 'pintado', 'pintados', 'pintalabios', 'pintan', 'pintar', 'pintará', 'pintor', 'pintura', 'pinturas', 'pinypon', 'pinza', 'pinzas', 'piojos', 'pipí', 'pir', 'piragua', 'pis', 'pisa', 'pisando', 'pisapapeles', 'pisar', 'piscina', 'pise', 'piso', 'pispás', 'pista', 'pistas', 'pistola', 'piston', 'pitar', 'pitido', 'pitidos', 'pitillera', 'pixel', 'pixela', 'pixelada', 'pixelado', 'pizarra', 'pizza', 'pié', 'piñata', 'piñeiro', 'pla', 'placa', 'placas', 'plafón', 'plaid', 'plan', 'plana', 'planas', 'plancha', 'planchado', 'planchar', 'planchas', 'plano', 'planos', 'planta', 'plantado', 'plantalla', 'plantar', 'plantas', 'plantilla', 'plantillas', 'plas', 'plastico', 'plasticos', 'plasticosa', 'plasticoso', 'plasticucho', 'plastificada', 'plastificado', 'plastificados', 'plastificar', 'plastilina', 'plastiquero', 'plastiquete', 'plastiquito', 'plata', 'plataforma', 'plataformas', 'plateado', 'platero', 'platico', 'platillo', 'platitos', 'plato', 'platos', 'play', 'playa', 'playas', 'playlist', 'plaza', 'plazo', 'plazos', 'plegada', 'plegado', 'plegados', 'plegar', 'plegarla', 'plegarlos', 'plenamente', 'pleno', 'pliega', 'pliegan', 'plis', 'plug', 'pluma', 'plus', 'plàstico', 'plástica', 'plásticas', 'plástico', 'plásticos', 'po', 'pobre', 'pobres', 'poc', 'poca', 'pocas', 'poco', 'pocos', 'podar', 'podcast', 'podemos', 'poder', 'poderlo', 'poderse', 'podia', 'podian', 'podido', 'podran', 'podre', 'podria', 'podrian', 'podrida', 'podrá', 'podrás', 'podré', 'podréis', 'podría', 'podrían', 'podrías', 'podáis', 'podéis', 'podía', 'podíamos', 'podían', 'podómetro', 'poe', 'polainas', 'polar', 'polaridad', 'polarizador', 'polarizados', 'polas', 'poleas', 'poliespan', 'poliester', 'polipiel', 'politica', 'polivalente', 'poliéster', 'polk', 'pollo', 'polo', 'polvo', 'polvos', 'política', 'pomo', 'pomos', 'pompas', 'pon', 'pondria', 'pondré', 'pondría', 'pone', 'ponen', 'poner', 'ponerla', 'ponerlas', 'ponerle', 'ponerles', 'ponerlo', 'ponerlos', 'ponerme', 'ponerse', 'ponerte', 'pones', 'ponet', 'ponga', 'pongan', 'pongas', 'pongo', 'pongáis', 'ponia', 'poniendo', 'poniendolo', 'poniéndola', 'poniéndolo', 'ponérmelo', 'ponérsela', 'ponérselos', 'ponía', 'pop', 'poquita', 'poquitito', 'poquito', 'por', 'porcelanico', 'porcentaje', 'porfavor', 'poros', 'porosos', 'porq', 'porqie', 'porque', 'porqueria', 'porquería', 'porqué', 'porrazos', 'porta', 'portabiberon', 'portabicis', 'portacápsulas', 'portada', 'portafiltros', 'portafotos', 'portal', 'portalapices', 'portatil', 'portazo', 'porte', 'portes', 'portátil', 'portátiles', 'portón', 'posa', 'posee', 'posibilidad', 'posibilidades', 'posible', 'posiblemente', 'posibles', 'posicion', 'posicionarlo', 'posiciones', 'posición', 'positivamente', 'positivas', 'positivo', 'positivos', 'posits', 'posponer', 'posterior', 'posteriores', 'posteriormente', 'postura', 'posturales', 'posturas', 'postventa', 'posventa', 'potencia', 'potencias', 'potente', 'potentes', 'potter', 'power', 'powerbank', 'ppr', 'pq', 'pra', 'pracrica', 'practica', 'practicamente', 'practicar', 'practicas', 'practicidad', 'practico', 'practicos', 'pre', 'precie', 'precintada', 'precintados', 'precinto', 'precintos', 'precio', 'precios', 'preciosa', 'preciosas', 'precioso', 'preciosos', 'precisa', 'precisamente', 'precisas', 'precisen', 'precisión', 'preciso', 'preconcebidas', 'predecible', 'predecibles', 'predilección', 'prefecto', 'preferencias', 'preferible', 'preferido', 'preferidos', 'prefiere', 'prefiero', 'prefijados', 'prefiriendo', 'pregunta', 'preguntaron', 'preguntas', 'pregunto', 'preguntáis', 'pregunté', 'preinstaladas', 'premios', 'premium', 'premiun', 'prenda', 'prendas', 'prensa', 'prensas', 'preocupa', 'preocupacion', 'preocupación', 'preocupado', 'preocupan', 'preocupante', 'preocupara', 'preocuparme', 'preocuparse', 'preocupes', 'preocupó', 'preparación', 'preparado', 'preparar', 'prepararlo', 'preparándonos', 'presencia', 'presenta', 'presentaba', 'presentacion', 'presentación', 'presentado', 'presentados', 'presentan', 'presente', 'presento', 'presilla', 'presintada', 'presion', 'presionando', 'presionar', 'presionarlos', 'presión', 'prestaciones', 'prestado', 'prestigio', 'presume', 'presumiblemente', 'presupuesto', 'pretenda', 'pretende', 'pretenden', 'pretendes', 'pretendía', 'pretensiones', 'preventa', 'previamente', 'previo', 'previsible', 'previsión', 'prevista', 'previsto', 'previó', 'pricipio', 'priducto', 'prima', 'primaria', 'primarias', 'primavera', 'prime', 'primer', 'primera', 'primeramente', 'primeras', 'primero', 'primeros', 'princesa', 'princesas', 'princio', 'principal', 'principales', 'principalmente', 'principiantes', 'principio', 'principios', 'pringa', 'pringado', 'pringosa', 'priori', 'prisa', 'prismáticos', 'pro', 'probabilidad', 'probable', 'probablemente', 'probadas', 'probado', 'probador', 'probados', 'probamos', 'probando', 'probar', 'probara', 'probarlo', 'probarlos', 'probaré', 'probaría', 'probe', 'problable', 'problado', 'problema', 'problemas', 'problemático', 'problena', 'problenas', 'probándolo', 'probé', 'procedencia', 'procederé', 'procedido', 'procedieron', 'procedo', 'procesador', 'procesar', 'proceso', 'procesos', 'producción', 'produce', 'producidas', 'producidos', 'producir', 'producirse', 'product', 'producto', 'productos', 'produjo', 'produto', 'produxto', 'profe', 'profesional', 'profesionales', 'profesionalidad', 'profesor', 'profundas', 'profundidad', 'profundiza', 'proglide', 'programa', 'programación', 'programada', 'programar', 'programarlo', 'programas', 'progresivamente', 'progresivo', 'prohibir', 'prohíben', 'prolongados', 'promete', 'prometen', 'prometido', 'prometieron', 'prometía', 'promocional', 'promoción', 'proncipio', 'prontitud', 'pronto', 'pronunciadas', 'propia', 'propias', 'propiedades', 'propio', 'propios', 'proporciona', 'proporcional', 'proporcionales', 'proporcionan', 'proporcionar', 'proporciones', 'propósito', 'pros', 'prospecto', 'prosucto', 'protagonista', 'protagonistas', 'proteccion', 'protecciones', 'protecció', 'protección', 'protecion', 'protector', 'protectora', 'protectores', 'protege', 'protegen', 'proteger', 'protegerlo', 'protegerse', 'protegerá', 'protegida', 'protegido', 'protegidos', 'protegía', 'proteja', 'proteje', 'protejer', 'protejido', 'provado', 'provar', 'provecho', 'proveedor', 'proveniente', 'provisto', 'provoca', 'provocando', 'provocó', 'prox', 'proxima', 'proximidad', 'proyección', 'proyecta', 'proyector', 'proyectores', 'proyectos', 'prqueña', 'pruducto', 'prueba', 'prueban', 'pruebas', 'pruebe', 'pruebo', 'prueva', 'práctica', 'prácticamente', 'prácticas', 'práctico', 'prácticos', 'próxima', 'próximas', 'próximos', 'ps', 'ps4', 'psicomotricidad', 'psp', 'psrs', 'ptra', 'publicación', 'publicada', 'publicado', 'publicaron', 'publicidad', 'publicita', 'publicitado', 'publicitan', 'pude', 'pudiendo', 'pudiera', 'pudieron', 'pudimos', 'pudo', 'pudra', 'pudre', 'pueblo', 'pueda', 'puedan', 'puedas', 'puede', 'pueden', 'puedes', 'puedo', 'puente', 'puento', 'puerta', 'puertas', 'puertecilla', 'puerto', 'puertos', 'pues', 'puesta', 'puestas', 'puesto', 'puestos', 'puf', 'pulcra', 'pulgadas', 'pulgar', 'pulido', 'pulir', 'pulsaciones', 'pulsado', 'pulsador', 'pulsando', 'pulsar', 'pulsas', 'pulsera', 'pulseras', 'pulso', 'pulverizar', 'puma', 'punta', 'puntas', 'puntitos', 'punto', 'puntos', 'puntuación', 'puntual', 'puntuales', 'puntualidad', 'puntualmente', 'puntúe', 'puntúo', 'punzantes', 'punzones', 'pupila', 'pura', 'puramente', 'purifican', 'purificar', 'puro', 'puse', 'pusiera', 'pusieron', 'pusiesen', 'pusimos', 'puso', 'puta', 'puzzle', 'puzzles', 'puños', 'pvc', 'pvp', 'página', 'páginas', 'pájaro', 'pájaros', 'párese', 'pérdida', 'pérdidas', 'pésima', 'pésimas', 'pésimo', 'pésimos', 'píxel', 'píxeles', 'póster', 'púas', 'qe', 'qu', 'quando', 'quartz', 'quasi', 'qudan', 'que', 'quebradizas', 'quebrarse', 'qued', 'queda', 'quedaba', 'quedaban', 'quedado', 'quedamos', 'quedan', 'quedando', 'quedar', 'quedara', 'quedarme', 'quedaron', 'quedarse', 'quedará', 'quedaría', 'quedas', 'quedase', 'quede', 'queden', 'quedo', 'quedándome', 'quedándonos', 'quedármelo', 'quedé', 'quedó', 'queja', 'quejar', 'quejarnos', 'quejas', 'quejo', 'quema', 'quemada', 'quemado', 'quemados', 'quemadura', 'queman', 'quemando', 'quemar', 'quemaron', 'quemarte', 'queme', 'quemes', 'quemo', 'quemé', 'quemó', 'quepa', 'queremos', 'querer', 'queres', 'queria', 'querido', 'querría', 'queréis', 'quería', 'queríamos', 'quien', 'quienes', 'quiera', 'quieran', 'quieras', 'quiere', 'quieren', 'quieres', 'quiero', 'quieta', 'quin', 'quince', 'quinta', 'quise', 'quisiera', 'quiso', 'quita', 'quitaba', 'quitado', 'quitan', 'quitando', 'quitandolo', 'quitar', 'quitarlas', 'quitarle', 'quitarlo', 'quitarmelo', 'quitarselas', 'quitas', 'quite', 'quito', 'quitárselo', 'quité', 'quitó', 'quizas', 'quizá', 'quizás', 'quién', 'qué', 'rabia', 'radiaciones', 'radiador', 'radiadores', 'radio', 'radiocd', 'rafaga', 'raid', 'railes', 'raja', 'rajada', 'rajado', 'rajan', 'rajarse', 'rajo', 'ralla', 'rallada', 'ralladas', 'rallado', 'ralladuras', 'rallara', 'rallaron', 'rallas', 'ram', 'ramas', 'ramo', 'ramon', 'rango', 'ranura', 'ranuras', 'rapida', 'rapidamente', 'rapidez', 'rapidisimo', 'rapido', 'rapidos', 'rapidísimo', 'rapunzel', 'raquel', 'rara', 'raras', 'raro', 'raros', 'ras', 'rasca', 'rascador', 'rascadores', 'rascar', 'rasgado', 'rasgarse', 'rasguños', 'raspan', 'raspberry', 'rastro', 'ratas', 'rato', 'raton', 'ratones', 'ratos', 'ratón', 'raya', 'rayada', 'rayadas', 'rayado', 'rayan', 'rayando', 'rayar', 'rayas', 'raye', 'rayen', 'rayitas', 'rayo', 'rayon', 'rayos', 'razonable', 'razonablemente', 'razones', 'razón', 'raíz', 'rca', 're', 'reacciona', 'reaccionaba', 'reacondicionado', 'reacondicionados', 'reader', 'reading', 'real', 'reales', 'realice', 'realidad', 'realista', 'realiza', 'realizado', 'realizados', 'realizan', 'realizando', 'realizar', 'realizo', 'realmente', 'realzar', 'rebajado', 'rebajes', 'rebanada', 'rebeldes', 'recambio', 'recambios', 'recarga', 'recargable', 'recargables', 'recargado', 'recargando', 'recargas', 'recepcion', 'recepción', 'receptor', 'recetas', 'rechaza', 'rechazados', 'reciba', 'recibas', 'recibe', 'recibes', 'recibi', 'recibida', 'recibidas', 'recibido', 'recibidos', 'recibimos', 'recibir', 'recibire', 'recibirla', 'recibirlas', 'recibirlo', 'recibirlos', 'recibió', 'recibo', 'recibí', 'reciclables', 'reciclaje', 'reciente', 'recientemente', 'recientes', 'recio', 'recios', 'recipiente', 'recipientes', 'recién', 'reclamacion', 'reclamaciones', 'reclamació', 'reclamación', 'reclamado', 'reclaman', 'reclamando', 'reclamar', 'reclamarlo', 'reclamaré', 'reclina', 'reclinable', 'reclinar', 'reclinarlo', 'recoge', 'recogemigas', 'recogen', 'recoger', 'recogerlo', 'recogida', 'recogidas', 'recogidito', 'recogido', 'recogiendolo', 'recogieron', 'recogiéndolo', 'recojan', 'recojas', 'recojo', 'recolocándolos', 'recomendable', 'recomendables', 'recomendada', 'recomendadas', 'recomendado', 'recomendados', 'recomendar', 'recomendaria', 'recomendarlos', 'recomendaron', 'recomendaría', 'recomiendan', 'recomiende', 'recomiendo', 'reconoce', 'reconocen', 'reconocer', 'reconocerlo', 'reconocible', 'reconocida', 'reconocido', 'reconozca', 'reconozco', 'recopilación', 'recordaba', 'recordar', 'recorde', 'recorrido', 'recorridos', 'recortado', 'recortando', 'recortar', 'recorté', 'recreativos', 'recta', 'rectal', 'rectangular', 'rectas', 'rectificado', 'recto', 'recubre', 'recubrimiento', 'recuerda', 'recuerden', 'recuerdes', 'recuerdo', 'recupera', 'recuperar', 'recursos', 'recónditos', 'red', 'redacción', 'redes', 'redescubriendo', 'redmi', 'redonda', 'redondas', 'redondeada', 'redondeados', 'redondo', 'redondos', 'reduce', 'reducida', 'reducido', 'reducir', 'reembolsado', 'reembolsan', 'reembolsarme', 'reembolsaron', 'reembolso', 'reembolsó', 'reemplacen', 'reemplacé', 'reemplazado', 'reemplazar', 'reemplazaron', 'reemplazo', 'reenviar', 'reenvíen', 'referencia', 'referencias', 'referente', 'refieren', 'refiero', 'reflectante', 'reflectantes', 'refleja', 'reflejada', 'reflejar', 'reflejo', 'reflex', 'reflexión', 'reflujo', 'reforzada', 'reforzadas', 'reforzado', 'reforzando', 'reforzar', 'reforzarlo', 'reforzarse', 'refresca', 'refrescante', 'refrescar', 'refrigera', 'refrigeración', 'refrigerante', 'refrigerar', 'refuerzo', 'refuerzos', 'refurbished', 'regadera', 'regado', 'regalado', 'regalan', 'regalar', 'regalarlas', 'regalarlo', 'regalaron', 'regale', 'regales', 'regalito', 'regalo', 'regalos', 'regalárselo', 'regalé', 'registrada', 'registrara', 'registro', 'regla', 'regleta', 'regresaron', 'regreso', 'regu', 'regula', 'regulación', 'regulador', 'reguladores', 'regulae', 'regular', 'regulares', 'regulera', 'reguleras', 'regulero', 'regulín', 'rehabilitación', 'rehabilitado', 'reina', 'reingresan', 'reinicia', 'reiniciaba', 'reiniciarlo', 'reinicio', 'reintegra', 'reishi', 'rejilla', 'rejillas', 'rejuvenecer', 'relaccion', 'relacción', 'relacion', 'relacionadas', 'relación', 'relaja', 'relajación', 'relajadas', 'relajante', 'relajantes', 'relativamente', 'relativo', 'relatos', 'relentizado', 'relieve', 'rellena', 'rellenado', 'rellenar', 'rellenas', 'relleno', 'reloj', 'relojería', 'relojes', 'remacha', 'remachada', 'remachadora', 'remache', 'remaches', 'rematada', 'rematado', 'rematados', 'rematar', 'rembolso', 'reme', 'remedio', 'remite', 'remito', 'remo', 'removedor', 'remover', 'remplaza', 'remplazo', 'renault', 'rendimiento', 'rendir', 'rentables', 'renuncié', 'repara', 'reparable', 'reparacion', 'reparaciones', 'reparación', 'reparado', 'reparar', 'repararlo', 'repartidor', 'repartidora', 'repartidores', 'repartirlas', 'reparto', 'repasar', 'repasas', 'repente', 'repetida', 'repetidamente', 'repetidas', 'repetido', 'repetidor', 'repetidos', 'repetir', 'repetire', 'repetiremos', 'repetirse', 'repetiré', 'repetiría', 'repetitivo', 'repite', 'repitiria', 'repito', 'replica', 'reponen', 'repongan', 'reportajes', 'reposapiés', 'reposo', 'repostería', 'reprochar', 'reproduccion', 'reproducción', 'reproduce', 'reproducir', 'reproductor', 'reproductores', 'repuesto', 'repuestos', 'repusieron', 'requeridas', 'requerimientos', 'requerir', 'requieran', 'requiere', 'requieren', 'requisitos', 'resalta', 'resbala', 'resbalaba', 'resbaladiza', 'resbalan', 'resbalara', 'reseca', 'resecan', 'resequedad', 'reserva', 'reserve', 'reseteando', 'resetear', 'resetearla', 'resetearlo', 'reseña', 'reseñado', 'resguardo', 'residuo', 'residuos', 'resina', 'resista', 'resiste', 'resisten', 'resistencia', 'resistencias', 'resistente', 'resistentes', 'resistia', 'resistir', 'resistirán', 'resolucion', 'resolución', 'resolver', 'resolvieron', 'resolvió', 'respaldo', 'respectivas', 'respecto', 'respeta', 'respetar', 'respetarlo', 'respetaron', 'respirando', 'resplandece', 'responda', 'responde', 'responden', 'responder', 'respondido', 'respondieron', 'respondió', 'responsable', 'respuesta', 'respuestas', 'resta', 'restantes', 'restaurantes', 'restituir', 'resto', 'restos', 'resuelto', 'resuelvan', 'resuelve', 'resuena', 'resulta', 'resultaba', 'resultaban', 'resultado', 'resultados', 'resultan', 'resultando', 'resultar', 'resulte', 'resultó', 'resultón', 'resumen', 'resumido', 'resumiendo', 'resumir', 'resumo', 'resvala', 'retiene', 'retirada', 'retiran', 'retirar', 'retirarla', 'retirarlo', 'retirarme', 'retiren', 'retocada', 'retocado', 'retomarlo', 'retoques', 'retornado', 'retos', 'retractilado', 'retracto', 'retrasa', 'retrasado', 'retrasan', 'retrasando', 'retrasarse', 'retrase', 'retraso', 'retrasos', 'retrasó', 'retro', 'retroceder', 'retroiluminada', 'retrovisor', 'retuerce', 'return', 'reuniones', 'reutilizables', 'reventada', 'reversible', 'reverso', 'reves', 'revestimiento', 'review', 'revisado', 'revisión', 'revista', 'revistas', 'revisé', 'revitaliza', 'revoloteando', 'revoluciones', 'revomendable', 'revés', 'reyes', 'reírse', 'reñido', 'rico', 'ricos', 'ridiculo', 'ridículo', 'riesgo', 'rigida', 'rigidas', 'rigidez', 'rigido', 'rima', 'rimel', 'rincones', 'rincón', 'rinde', 'ring', 'rip', 'riquísimo', 'risa', 'ritmo', 'rizada', 'rizado', 'riñonera', 'riñones', 'rl', 'ro', 'roba', 'robado', 'robaran', 'robaron', 'roben', 'roberta', 'roble', 'robo', 'robotica', 'robusta', 'robustas', 'robusted', 'robustez', 'robusto', 'robustos', 'roca', 'roce', 'roces', 'rodaje', 'rodamiento', 'rodamientos', 'rodante', 'rodara', 'rodea', 'rodilla', 'rodilleras', 'rodillo', 'rodillos', 'roedores', 'roger', 'roig', 'roja', 'rojas', 'rojo', 'rojos', 'roldanas', 'roll', 'rollo', 'rollos', 'romero', 'rompa', 'rompan', 'rompe', 'rompedor', 'rompen', 'romper', 'romperia', 'romperse', 'romperá', 'rompiendo', 'rompiera', 'rompieron', 'rompiese', 'rompio', 'rompiéndose', 'rompió', 'rompre', 'roms', 'romántica', 'roomba', 'ropa', 'ropas', 'rosa', 'rosca', 'roscas', 'rosáceo', 'rota', 'rotación', 'rotas', 'rotativa', 'rote', 'roto', 'rotos', 'rotulador', 'rotuladores', 'rotura', 'roturas', 'rotus', 'router', 'rowenta', 'royo', 'roza', 'rozadas', 'rozado', 'rozaduras', 'rozamiento', 'rozan', 'rozar', 'rpm', 'rudas', 'rudimentario', 'rudio', 'rudos', 'rueda', 'ruedan', 'ruedas', 'ruego', 'rugoso', 'ruido', 'ruidos', 'ruidosa', 'ruidosas', 'ruidoso', 'ruidosos', 'ruiz', 'rumba', 'ruta', 'ruth', 'rutina', 'ruído', 'ráfaga', 'rápida', 'rápidamente', 'rápidas', 'rápido', 'rápidos', 'rápìdo', 'récord', 'réplica', 'rígida', 'rígidas', 'rígido', 'rímel', 's6', 's7', 's8', 'sabana', 'sabanas', 'sabe', 'sabemos', 'saben', 'saber', 'saberlo', 'sabes', 'sabia', 'sabido', 'sabiendo', 'sabor', 'sabores', 'sabre', 'sabria', 'sabrá', 'sabría', 'sabéis', 'sabía', 'sabíamos', 'saca', 'sacabocados', 'sacado', 'sacamos', 'sacan', 'sacandolo', 'sacapuntas', 'sacar', 'sacarla', 'sacarles', 'sacarlo', 'sacarlos', 'sacarme', 'sacarte', 'sacaría', 'sacas', 'sacia', 'saco', 'sacos', 'saga', 'sal', 'sala', 'salada', 'salamanca', 'saldos', 'saldrá', 'sale', 'salen', 'sales', 'salga', 'salia', 'salida', 'salidas', 'salido', 'saliendo', 'saliera', 'salieron', 'salimos', 'salio', 'salir', 'salirme', 'salirse', 'salita', 'saliéndose', 'salió', 'salomon', 'salomón', 'salon', 'salones', 'salpica', 'salpicado', 'salpicar', 'salsas', 'salta', 'saltaba', 'saltado', 'salto', 'saltos', 'salud', 'saludo', 'saludos', 'salva', 'salvado', 'salvador', 'salvando', 'salvapantallas', 'salvo', 'salía', 'salón', 'samsung', 'sana', 'sanchez', 'sandalias', 'sanitaria', 'sano', 'santi', 'saque', 'saqué', 'sara', 'sartenes', 'sartén', 'satifecho', 'satisfaccion', 'satisfacción', 'satisface', 'satisfactoria', 'satisfactoriamente', 'satisfactorio', 'satisfecha', 'satisfecho', 'satisfechos', 'satura', 'saturación', 'saturadas', 'saturados', 'satélites', 'scottex', 'scroll', 'sd', 'sdd', 'se', 'sea', 'sean', 'seat', 'seca', 'secaba', 'secado', 'secador', 'secadora', 'secadores', 'secan', 'secar', 'secarse', 'secas', 'seccion', 'sección', 'seco', 'secos', 'seda', 'sedoso', 'seguida', 'seguidamente', 'seguido', 'seguidos', 'seguimiento', 'seguimos', 'seguinte', 'seguir', 'seguiremos', 'seguirla', 'seguiré', 'segun', 'segunda', 'segundas', 'segundo', 'segundos', 'segura', 'seguramente', 'seguras', 'seguridad', 'seguro', 'seguros', 'seguí', 'seguía', 'según', 'seis', 'seleccionando', 'seleccionar', 'seleccionas', 'selección', 'selfie', 'selfies', 'sella', 'sellada', 'sellado', 'sellan', 'sellar', 'seller', 'sello', 'sellos', 'semana', 'semanas', 'semejantes', 'semi', 'semiabierto', 'semilla', 'semillas', 'semipermanentes', 'semirigida', 'sencilla', 'sencillamente', 'sencillas', 'sencillez', 'sencillita', 'sencillo', 'sencillos', 'sensacion', 'sensacional', 'sensaciones', 'sensación', 'sensibilidad', 'sensible', 'sensibles', 'sensor', 'sensores', 'sentado', 'sentar', 'sentarla', 'sentarse', 'sentido', 'sentidos', 'sentimientos', 'sentirse', 'sentó', 'sepais', 'sepan', 'separacion', 'separaciones', 'separación', 'separada', 'separadas', 'separado', 'separadores', 'separar', 'separarla', 'separaron', 'septiembre', 'sepáis', 'ser', 'sera', 'sergio', 'seria', 'serian', 'serie', 'seriedad', 'series', 'serigrafiado', 'serio', 'serlo', 'serna', 'serums', 'servcio', 'servicial', 'servicio', 'servicios', 'servido', 'servidor', 'servilletas', 'servir', 'servira', 'servirte', 'servirá', 'servirán', 'serviría', 'servirían', 'servía', 'servían', 'será', 'serán', 'seré', 'sería', 'sesación', 'sesión', 'set', 'sets', 'settings', 'seur', 'seve', 'sevicio', 'sexo', 'sexuales', 'señal', 'señala', 'señalada', 'señalado', 'señales', 'señalizacion', 'señor', 'señora', 'señores', 'shift', 'shirley', 'shower', 'si', 'sido', 'sidra', 'siembra', 'siempre', 'siendo', 'sienta', 'sientan', 'siente', 'sienten', 'siento', 'sierra', 'sierras', 'siesta', 'siete', 'sifón', 'siga', 'sigan', 'siglo', 'significaba', 'signos', 'sigo', 'sigue', 'siguen', 'sigues', 'siguiendo', 'siguiente', 'siguiera', 'sii', 'silenciar', 'silencio', 'silencioso', 'silent', 'silicona', 'silla', 'sillas', 'sillita', 'sillo', 'sillín', 'sillón', 'silver', 'silvia', 'sim', 'simil', 'similar', 'similares', 'simon', 'simple', 'simplemente', 'simples', 'simplifica', 'simplona', 'simpático', 'simón', 'sin', 'sinceramente', 'sinceros', 'sincronitzación', 'sincroniza', 'sincronizaban', 'sincronizacion', 'sincronización', 'sincronizada', 'sincronizan', 'sincronizar', 'sincronizarlo', 'singer', 'sinmas', 'sino', 'sintetico', 'sintiendolo', 'sintiéndome', 'sintonizan', 'sintonizar', 'sintética', 'sinverguenzas', 'sinónimo', 'siquiera', 'sirena', 'sirva', 'sirve', 'sirven', 'sirviendo', 'sirvieron', 'sirvió', 'sise', 'sistem', 'sistema', 'sistemas', 'sitio', 'sitios', 'situaciones', 'situación', 'situarlo', 'sitúa', 'sixaxis', 'skype', 'slim', 'slime', 'smart', 'smartband', 'smartphone', 'smarttv', 'smartv', 'smsl', 'snes', 'sno', 'sobra', 'sobraba', 'sobradamente', 'sobran', 'sobrante', 'sobrantes', 'sobre', 'sobreescribir', 'sobremesa', 'sobrepasar', 'sobrepeso', 'sobresale', 'sobresalen', 'sobresalga', 'sobresalir', 'sobretodo', 'sobri', 'sobria', 'sobrina', 'sobrino', 'sobré', 'sociales', 'socorro', 'sofa', 'soft', 'software', 'sofá', 'sois', 'sol', 'sola', 'solamente', 'solapa', 'solar', 'solas', 'soldador', 'soldaduras', 'soldar', 'soleado', 'solicitada', 'solicitado', 'solicitamos', 'solicitando', 'solicitar', 'solicitarlo', 'solicitaron', 'solicite', 'solicito', 'solicitud', 'solicité', 'solida', 'solidez', 'solido', 'solita', 'solo', 'solos', 'soltado', 'soltandose', 'soltar', 'soltaran', 'soltarse', 'soltó', 'solucion', 'soluciona', 'solucionado', 'solucionamos', 'solucionan', 'solucionar', 'solucionarlo', 'solucionaron', 'solucionen', 'soluciones', 'solucionó', 'solución', 'solía', 'sombras', 'sombrero', 'sombrita', 'sometidos', 'somier', 'somo', 'somos', 'son', 'sonaba', 'sonaban', 'sonajero', 'sonajeros', 'sonar', 'sonia', 'sonido', 'sonidos', 'sonora', 'sonoridad', 'sonrió', 'sony', 'sonó', 'sopa', 'sopla', 'soplado', 'soporta', 'soportar', 'soporte', 'soporten', 'soportes', 'sorento', 'sorprende', 'sorprenden', 'sorprendente', 'sorprendentemente', 'sorprendida', 'sorprendido', 'sorprendidos', 'sorprendio', 'sorprendió', 'sorpresa', 'sorpresas', 'sospechoso', 'sospechosos', 'sostenga', 'sostiene', 'sostienen', 'sostienes', 'sostén', 'soy', 'spa', 'spark', 'specialized', 'spigen', 'spray', 'spy', 'sr', 'ssd', 'stamping', 'stand', 'star', 'steelbook', 'stisfecho', 'stock', 'stokke', 'stone', 'stopper', 'storage', 'streaming', 'stress', 'style', 'stá', 'su', 'suave', 'suavemente', 'suaves', 'suavidad', 'suavinex', 'suaviza', 'suavizante', 'suavizar', 'sube', 'subia', 'subidas', 'subido', 'subieran', 'subir', 'subirlo', 'subió', 'subo', 'subrayar', 'subtítulos', 'subía', 'succionar', 'succión', 'sucede', 'suceder', 'sucedido', 'sucedía', 'sucia', 'sucidad', 'suciedad', 'sucio', 'suda', 'sudar', 'sudas', 'sudo', 'sudor', 'sudoración', 'suegro', 'suela', 'suele', 'suelen', 'suelo', 'suelta', 'sueltan', 'sueltas', 'suelto', 'sueltos', 'suena', 'suenan', 'suene', 'suerte', 'sueñas', 'sueño', 'sueños', 'suficiente', 'suficientemente', 'suficientes', 'sufiente', 'sufra', 'sufre', 'sufrió', 'sugeriría', 'sugería', 'sujección', 'sujecion', 'sujeciones', 'sujeción', 'sujeta', 'sujetado', 'sujetan', 'sujetar', 'sujetarla', 'sujetarlas', 'sujetarlo', 'sujeto', 'sujetos', 'sulfate', 'sumado', 'sumamente', 'sumando', 'sumas', 'sumerges', 'sumergible', 'suministrados', 'sun', 'supe', 'super', 'supera', 'superado', 'superando', 'superar', 'superficiales', 'superficie', 'superficies', 'superga', 'superglue', 'superior', 'superiores', 'supermercado', 'supernes', 'supervisados', 'supervivencia', 'superó', 'supiera', 'supiese', 'suplementos', 'suplicio', 'suplir', 'supone', 'suponer', 'suponga', 'supongo', 'suponía', 'supuestamente', 'supuesto', 'supuestos', 'surf', 'surface', 'surge', 'surgió', 'surtido', 'surtidor', 'surtidos', 'sus', 'susana', 'susceptibles', 'suspense', 'suspensión', 'suspenso', 'suspiro', 'sustitucion', 'sustitución', 'sustituido', 'sustituir', 'sustituirlas', 'sustituye', 'sustituyen', 'susto', 'sustos', 'sustrato', 'sutileza', 'suya', 'suyas', 'suyo', 'switch', 'sábado', 'sábana', 'sánchez', 'sé', 'sí', 'símbolo', 'síntomas', 'sólida', 'sólido', 'sólidos', 'sólo', 'són', 'súper', 'ta', 'tabique', 'tabla', 'tablas', 'tablet', 'tableta', 'taburete', 'tabú', 'tac', 'tachan', 'tacklife', 'taco', 'tacos', 'tactil', 'tacto', 'tacón', 'tal', 'taladradora', 'taladrar', 'taladro', 'talla', 'tallaje', 'tallan', 'tallare', 'tallas', 'talle', 'taller', 'taloneras', 'talones', 'talón', 'tamano', 'tamaño', 'tamaños', 'tamańo', 'tambalea', 'tambie', 'tambien', 'también', 'tambor', 'tampoco', 'tampones', 'tamron', 'tan', 'tanque', 'tanta', 'tantas', 'tanto', 'tantos', 'tapa', 'tapaba', 'tapadera', 'tapaderas', 'tapando', 'tapar', 'taparse', 'tapas', 'tapice', 'tapicería', 'tapizado', 'tapones', 'tapón', 'taquilla', 'tara', 'taras', 'tarda', 'tardado', 'tardan', 'tardando', 'tardanza', 'tardar', 'tardaron', 'tardará', 'tardas', 'tarde', 'tardes', 'tardo', 'tardé', 'tardó', 'tarea', 'tareas', 'targeta', 'tarjeta', 'tarjetas', 'tarro', 'tarta', 'tas', 'tattoos', 'tatuajes', 'taza', 'tazón', 'tb', 'tdo', 'tdt', 'te', 'tebgo', 'techno', 'techo', 'tecla', 'teclado', 'teclados', 'teclas', 'tecnico', 'tecnología', 'tedioso', 'teflón', 'tejido', 'tejidos', 'teka', 'tel', 'tela', 'telas', 'tele', 'telefono', 'telefonos', 'telefonía', 'telefónica', 'telefónicas', 'telescópica', 'telescópico', 'television', 'televisión', 'televisor', 'televisores', 'teléfono', 'teléfonos', 'telón', 'tema', 'temas', 'temidas', 'temo', 'temperatura', 'temperaturas', 'templado', 'templados', 'tempo', 'temporada', 'temporizador', 'temática', 'ten', 'tendencia', 'tendre', 'tendremos', 'tendrian', 'tendrá', 'tendrán', 'tendré', 'tendría', 'tendríamos', 'tendrían', 'tene', 'tened', 'tenedor', 'teneis', 'tenemos', 'tener', 'tenerla', 'tenerlas', 'tenerlo', 'tenga', 'tengamos', 'tengan', 'tengas', 'tengi', 'tengo', 'tenia', 'tenian', 'tenido', 'teniendo', 'tens', 'tensa', 'tensado', 'tension', 'tensión', 'tenue', 'tenéis', 'tenía', 'teníamos', 'tenían', 'tenías', 'teoría', 'ter', 'tercer', 'tercera', 'tercero', 'terciopelo', 'termina', 'terminacion', 'terminaciones', 'terminación', 'terminadas', 'terminado', 'terminal', 'terminales', 'terminan', 'terminar', 'terminaran', 'terminarlo', 'terminaron', 'terminas', 'termine', 'termino', 'terminé', 'termix', 'termo', 'termometro', 'termos', 'termostato', 'termómetro', 'ternura', 'terra', 'terraza', 'terremoto', 'terrible', 'testeado', 'testo', 'tetina', 'texto', 'textura', 'texturas', 'teñirse', 'tf', 'thermomix', 'thomas', 'ti', 'tibetano', 'tic', 'tiempo', 'tiempos', 'tienda', 'tiendas', 'tiende', 'tiene', 'tienen', 'tienes', 'tierno', 'tierra', 'tiesa', 'tija', 'tijeras', 'timada', 'timado', 'timbre', 'time', 'timo', 'tinta', 'tintada', 'tintas', 'tintes', 'tipicas', 'tipo', 'tipografías', 'tipográficos', 'tipos', 'tips', 'tira', 'tiradas', 'tirado', 'tirador', 'tiradores', 'tirados', 'tirais', 'tiramos', 'tirando', 'tirante', 'tirantes', 'tirar', 'tirare', 'tiraremos', 'tirarla', 'tirarlas', 'tirarlo', 'tiras', 'tire', 'tiro', 'tirones', 'tiré', 'tiró', 'tirón', 'tissot', 'titanio', 'titulo', 'tiñe', 'tió', 'tl', 'tlf', 'tm31', 'to', 'toalla', 'toallas', 'toallita', 'toallitas', 'tobillo', 'toca', 'tocaba', 'tocado', 'tocador', 'tocar', 'tocarla', 'tocarlo', 'tocó', 'toda', 'todabia', 'todas', 'todavia', 'todavía', 'todd', 'todo', 'todos', 'todoterreno', 'toldo', 'toledo', 'toma', 'tomaba', 'tomado', 'tomadura', 'toman', 'tomando', 'tomar', 'tomara', 'tomarlo', 'tomas', 'tomate', 'tombow', 'tomo', 'tomtom', 'tonalidad', 'toner', 'tonificación', 'tono', 'tonos', 'tontería', 'tontos', 'too', 'top', 'tope', 'topes', 'topo', 'topper', 'toque', 'torcida', 'torcidas', 'torcido', 'torcidos', 'tornilleria', 'tornillería', 'tornillo', 'tornillos', 'torno', 'toro', 'torpe', 'torre', 'torsión', 'tortilla', 'tortura', 'torx', 'tosco', 'tostada', 'tostadas', 'tostadora', 'tostando', 'tostón', 'total', 'totalidad', 'totalmente', 'touch', 'toxico', 'tpu', 'traba', 'trabada', 'trabado', 'trabaja', 'trabajador', 'trabajamos', 'trabajan', 'trabajando', 'trabajar', 'trabaje', 'trabajillos', 'trabajo', 'trabajos', 'trabajosa', 'trabilla', 'tractor', 'tradicional', 'tradicionales', 'traducción', 'traduce', 'traducir', 'traducirlo', 'trae', 'traen', 'traer', 'traerlo', 'traerme', 'trafic', 'tragar', 'traia', 'traiga', 'traje', 'trajeran', 'trajeron', 'trajes', 'trajo', 'tralla', 'tramado', 'tramitacion', 'tramitar', 'tramité', 'trampa', 'tranquilamente', 'tranquilidad', 'tranquilo', 'transación', 'transcurre', 'transcurrido', 'transferencia', 'transferir', 'transformador', 'transformar', 'translúcidas', 'transmisión', 'transmisor', 'transmite', 'transmiten', 'transparencia', 'transparenta', 'transparentan', 'transparente', 'transparentes', 'transpira', 'transportación', 'transportar', 'transportarla', 'transportarlo', 'transportas', 'transporte', 'transportes', 'transportista', 'transportistas', 'transversales', 'trapito', 'trapo', 'tras', 'trasera', 'traseras', 'trasero', 'traseros', 'trasladado', 'trasladar', 'traslade', 'traslado', 'traslucido', 'traslúcido', 'trasparenta', 'trasparente', 'trasparentes', 'traspasa', 'traspasan', 'traspasarlo', 'trasportar', 'trasporte', 'trastadas', 'trasteado', 'trastero', 'trasto', 'trastorno', 'trata', 'trataba', 'tratada', 'tratado', 'tratamiento', 'tratamos', 'tratan', 'tratandose', 'tratarse', 'trato', 'tratándolas', 'traumas', 'traves', 'través', 'trayecto', 'trayectos', 'trazado', 'trazados', 'trazas', 'trazo', 'traía', 'traído', 'tremendos', 'tren', 'tres', 'triciclo', 'tricolor', 'trilogia', 'trilogía', 'trinca', 'triple', 'tripode', 'triste', 'trona', 'tronco', 'troncos', 'tropecé', 'troquel', 'trote', 'trotes', 'trozo', 'trozos', 'truco', 'trujillo', 'trámite', 'trípode', 'tu', 'tube', 'tubelizar', 'tuberías', 'tubiera', 'tubo', 'tubos', 'tubular', 'tubulares', 'tuerca', 'tuercas', 'tuerce', 'tuesta', 'tulipa', 'tulipas', 'tumba', 'tumbada', 'tumbado', 'tumbas', 'tumbona', 'tupper', 'tuppers', 'turbio', 'turco', 'turismo', 'turnos', 'tus', 'tutoriales', 'tuve', 'tuviera', 'tuvieran', 'tuvieron', 'tuviese', 'tuvimos', 'tuvo', 'tuya', 'tuyo', 'tv', 'tvbox', 'type', 'táctil', 'táctiles', 'té', 'técnicas', 'técnico', 'técnicos', 'térmica', 'térmicos', 'términos', 'tía', 'tímido', 'tío', 'típicas', 'típico', 'título', 'tópicos', 'tóxicas', 'tóxico', 'tú', 'túnica', 'ubicación', 'ubicado', 'ubiquiti', 'ud', 'ue', 'ufff', 'ugreen', 'uhf', 'uk', 'ultilizar', 'ultima', 'ultimamente', 'ultimo', 'ultimos', 'ultra', 'ultrasonido', 'ultrasonidos', 'um', 'un', 'un10', 'una', 'unas', 'une', 'unes', 'uni', 'unica', 'unicamente', 'unico', 'unicornio', 'unidad', 'unidades', 'unido', 'uniforme', 'uniformemente', 'unilateralmente', 'unimos', 'uniones', 'unir', 'unirse', 'universal', 'universales', 'unión', 'uno', 'unos', 'uqe', 'urgentemente', 'urgía', 'ursula', 'usa', 'usaba', 'usabilidad', 'usable', 'usada', 'usadas', 'usado', 'usados', 'usamos', 'usan', 'usando', 'usandola', 'usandolo', 'usar', 'usarla', 'usarlas', 'usarlo', 'usarlos', 'usaron', 'usarse', 'usas', 'usb', 'usbc', 'use', 'usen', 'uses', 'uso', 'usos', 'ustedes', 'usuaria', 'usuario', 'usuarios', 'usándola', 'usándolo', 'usándolos', 'usé', 'usó', 'utensilios', 'util', 'utilado', 'utiles', 'utilice', 'utilicé', 'utilidad', 'utilidades', 'utiliza', 'utilizaba', 'utilizable', 'utilización', 'utilizad', 'utilizada', 'utilizado', 'utilizamos', 'utilizan', 'utilizando', 'utilizandolo', 'utilizar', 'utilizarla', 'utilizarlas', 'utilizarlo', 'utilizarlos', 'utilizarse', 'utilizaré', 'utilizas', 'utilizo', 'utilizándolo', 'uv', 'uw', 'uy', 'uña', 'uñas', 'v8', 'v800', 'va', 'vacaciones', 'vaciando', 'vacie', 'vacio', 'vacía', 'vacías', 'vacío', 'vaho', 'vaias', 'vais', 'vale', 'valen', 'valencia', 'valer', 'valeria', 'valga', 'valida', 'valido', 'validos', 'valiente', 'valió', 'valla', 'valor', 'valoraciones', 'valoración', 'valorad', 'valorado', 'valorar', 'valorarlas', 'valorarlo', 'valoren', 'valores', 'valoro', 'value', 'valía', 'valían', 'vamos', 'van', 'vanesa', 'vano', 'vans', 'vapor', 'vaporeta', 'vaporizador', 'vaquero', 'varia', 'variable', 'variación', 'variadas', 'variado', 'variados', 'variar', 'varias', 'variedad', 'variedades', 'varilla', 'varillas', 'vario', 'varios', 'varita', 'varías', 'vas', 'vaso', 'vasos', 'vaya', 'vayan', 'vayas', 've', 'vea', 'veamos', 'vean', 'veas', 'veces', 'vecino', 'vecinos', 'vehiculo', 'vehículo', 'vehículos', 'veia', 'veis', 'vel', 'vela', 'velas', 'velcro', 'velcros', 'velocidad', 'velocidades', 'vemos', 'ven', 'venció', 'vendan', 'vende', 'vendedor', 'vendedora', 'vendedores', 'venden', 'vender', 'venderlo', 'vendida', 'vendido', 'vendía', 'venga', 'vengan', 'vengo', 'venia', 'venian', 'venido', 'venir', 'venta', 'ventaja', 'ventajas', 'ventana', 'ventanas', 'ventanilla', 'ventanita', 'ventila', 'ventilación', 'ventilador', 'ventosa', 'ventosas', 'venía', 'venían', 'veo', 'ver', 'veraniega', 'verano', 'verdad', 'verdadera', 'verdaderamente', 'verdaderas', 'verdadero', 'verdades', 'verde', 'verdes', 'verdoso', 'verduras', 'veremos', 'vergonzoso', 'verguenza', 'vergüenza', 'veria', 'verificar', 'verja', 'verlas', 'verlo', 'verona', 'versatil', 'versatilidad', 'verse', 'version', 'versiones', 'versión', 'versátil', 'verter', 'vertical', 'verticalmente', 'vertida', 'vertido', 'very', 'verán', 'vería', 'verónica', 'ves', 'vesa', 'vestido', 'vestir', 'veta', 'vetas', 'vez', 'veáis', 'veía', 'vi', 'via', 'viajar', 'viaje', 'viajes', 'vibra', 'vibraba', 'vibraciones', 'vibración', 'vibran', 'vicente', 'vicio', 'vicios', 'victima', 'victoria', 'victorinox', 'vida', 'video', 'videojuegos', 'videos', 'vidrio', 'vieja', 'viejas', 'viejita', 'viejo', 'viejos', 'viejuno', 'viendo', 'viene', 'vienen', 'viento', 'viera', 'vigila', 'vigilabebe', 'vigilar', 'villanos', 'vimos', 'vinculación', 'vincularlo', 'viniendo', 'viniera', 'vinieran', 'vinieron', 'vinilo', 'vinilos', 'vino', 'vintage', 'violeta', 'virutas', 'visagra', 'viscoelastica', 'viscoelástica', 'viscolastica', 'visera', 'visible', 'visibles', 'vision', 'visionado', 'visita', 'visión', 'vista', 'vistas', 'vistazo', 'viste', 'visto', 'vistoso', 'visual', 'visualización', 'vita', 'vitrina', 'vitro', 'vitrocerámica', 'vives', 'vivido', 'vivienda', 'vivir', 'vivió', 'vivo', 'vivos', 'viéndose', 'voladores', 'volando', 'volante', 'volar', 'volcado', 'volcánicas', 'voltimetro', 'volumen', 'volumenes', 'voluminosa', 'voluminosas', 'voluminoso', 'volvemos', 'volver', 'volvere', 'volveremos', 'volveria', 'volverla', 'volverá', 'volverán', 'volveré', 'volvería', 'volvi', 'volvia', 'volviera', 'volvieron', 'volviese', 'volvimos', 'volvio', 'volvió', 'volví', 'volvían', 'voló', 'vomitar', 'vosotros', 'votos', 'voy', 'voz', 'vuela', 'vuelca', 'vuelos', 'vuelta', 'vueltas', 'vuelto', 'vuelva', 'vuelvan', 'vuelve', 'vuelven', 'vuelves', 'vuelvo', 'vuestra', 'vuestro', 'vulnerable', 'vw', 'vá', 'válida', 'válido', 'válvula', 'vázquez', 'vértices', 'vía', 'vídeo', 'vídeos', 'vínculo', 'vívido', 'vívidos', 'walkie', 'wars', 'watch', 'watches', 'water', 'waterpick', 'watios', 'wattpad', 'wd', 'web', 'whatsapp', 'whatsapps', 'wi', 'wifi', 'wii', 'wild', 'wind', 'windows', 'wish', 'witcher', 'wl', 'wolfpack', 'wps', 'x5', 'xa', 'xbox', 'xd', 'xiaomi', 'xk', 'xl', 'xo', 'xp', 'xperia', 'xpress', 'xq', 'xs', 'xt', 'xz', 'ya', 'yasmina', 'yasta', 'yaya', 'ye', 'yendo', 'yeso', 'ylo', 'yo', 'yodo', 'youtube', 'youtubers', 'z750', 'zampa', 'zanahoria', 'zapatero', 'zapatilla', 'zapatillas', 'zapato', 'zapatos', 'zas', 'zeldas', 'zippo', 'zona', 'zonas', 'zoom', 'zueco', 'zumbando', 'zumbido', 'zumo', 'ácaros', 'ágil', 'álbum', 'ángel', 'ángeles', 'ángulo', 'ánimo', 'árboles', 'áspera', 'áspero', 'èl', 'él', 'élite', 'época', 'és', 'ésta', 'éste', 'ésto', 'éstos', 'éxito', 'índice', 'índole', 'ínfima', 'ñapa', 'ños', 'óptica', 'ópticas', 'óptico', 'óptima', 'óptimo', 'óscar', 'ósea', 'óxido', 'última', 'últimamente', 'último', 'única', 'únicamente', 'únicas', 'único', 'útil', 'útiles']\n"
     ]
    }
   ],
   "source": [
    "print(all_words)"
   ]
  },
  {
   "cell_type": "code",
   "execution_count": 308,
   "metadata": {},
   "outputs": [
    {
     "data": {
      "text/plain": [
       "list"
      ]
     },
     "execution_count": 308,
     "metadata": {},
     "output_type": "execute_result"
    }
   ],
   "source": [
    "type(all_words)"
   ]
  },
  {
   "cell_type": "markdown",
   "metadata": {},
   "source": [
    "### Modelar"
   ]
  },
  {
   "cell_type": "code",
   "execution_count": 312,
   "metadata": {},
   "outputs": [],
   "source": [
    "x = matriz_reviews\n",
    "y = Calification\n",
    "from sklearn.model_selection import train_test_split\n",
    "xtrain, xtest, ytrain, ytest = train_test_split(x,y,test_size=0.2,random_state=42,stratify=y)"
   ]
  },
  {
   "cell_type": "code",
   "execution_count": 313,
   "metadata": {},
   "outputs": [
    {
     "data": {
      "text/plain": [
       "5000"
      ]
     },
     "execution_count": 313,
     "metadata": {},
     "output_type": "execute_result"
    }
   ],
   "source": [
    "len(Calification)"
   ]
  },
  {
   "cell_type": "code",
   "execution_count": 314,
   "metadata": {},
   "outputs": [
    {
     "data": {
      "text/plain": [
       "(5000, 10000)"
      ]
     },
     "execution_count": 314,
     "metadata": {},
     "output_type": "execute_result"
    }
   ],
   "source": [
    "matriz_reviews.shape"
   ]
  },
  {
   "cell_type": "code",
   "execution_count": 315,
   "metadata": {},
   "outputs": [
    {
     "data": {
      "text/plain": [
       "4000"
      ]
     },
     "execution_count": 315,
     "metadata": {},
     "output_type": "execute_result"
    }
   ],
   "source": [
    "len(ytrain)"
   ]
  },
  {
   "cell_type": "markdown",
   "metadata": {},
   "source": [
    "### Random Forest Classifier"
   ]
  },
  {
   "cell_type": "code",
   "execution_count": 355,
   "metadata": {},
   "outputs": [
    {
     "name": "stdout",
     "output_type": "stream",
     "text": [
      "acc:  0.463\n"
     ]
    }
   ],
   "source": [
    "from sklearn.ensemble import RandomForestClassifier\n",
    "from sklearn.metrics import confusion_matrix\n",
    "\n",
    "rf = RandomForestClassifier(n_estimators = 200, random_state=42, max_depth=7)\n",
    "rf.fit(xtrain,ytrain)\n",
    "print(\"acc: \",rf.score(xtest,ytest))"
   ]
  },
  {
   "cell_type": "code",
   "execution_count": 356,
   "metadata": {},
   "outputs": [
    {
     "name": "stdout",
     "output_type": "stream",
     "text": [
      "acc:  0.64175\n"
     ]
    }
   ],
   "source": [
    "print(\"acc: \",rf.score(xtrain,ytrain))"
   ]
  },
  {
   "cell_type": "code",
   "execution_count": 318,
   "metadata": {},
   "outputs": [
    {
     "data": {
      "text/plain": [
       "(4000, 10000)"
      ]
     },
     "execution_count": 318,
     "metadata": {},
     "output_type": "execute_result"
    }
   ],
   "source": [
    "xtrain.shape"
   ]
  },
  {
   "cell_type": "code",
   "execution_count": 357,
   "metadata": {},
   "outputs": [],
   "source": [
    "from sklearn.metrics import confusion_matrix\n",
    "import seaborn as sns\n",
    "\n",
    "def confusion(ytest,y_pred):\n",
    "    names=[\"1\", \"2\", \"3\", \"4\", \"5\"]\n",
    "    cm=confusion_matrix(ytest,y_pred)\n",
    "    f,ax=plt.subplots(figsize=(5,5))\n",
    "    sns.heatmap(cm,annot=True,linewidth=.5,linecolor=\"r\",fmt=\".0f\",ax=ax)\n",
    "    plt.xlabel(\"y_pred\")\n",
    "    plt.ylabel(\"y_true\")\n",
    "    ax.set_xticklabels(names)\n",
    "    ax.set_yticklabels(names)\n",
    "    plt.show()\n",
    "\n",
    "    return\n"
   ]
  },
  {
   "cell_type": "code",
   "execution_count": 358,
   "metadata": {},
   "outputs": [],
   "source": [
    "y_pred=rf.predict(xtest)\n"
   ]
  },
  {
   "cell_type": "code",
   "execution_count": 359,
   "metadata": {},
   "outputs": [
    {
     "data": {
      "image/png": "[encoded data removed]",
      "text/plain": [
       "<Figure size 360x360 with 2 Axes>"
      ]
     },
     "metadata": {},
     "output_type": "display_data"
    }
   ],
   "source": [
    "confusion(ytest,y_pred)"
   ]
  },
  {
   "cell_type": "markdown",
   "metadata": {},
   "source": [
    "La matriz indica que el modelo predice bien los valores extremos (1 y 5) mientras que en los valores intermedios (2 y 4) presenta dificultades. \n",
    "Además, el modelo muestra gran diferencia entre Train y Test, mostrando indicios de Overfitting, ya que el modelo muestra buen desempeño con los datos de entrenamiento pero tiene problemas para predecir con nuevos datos. "
   ]
  },
  {
   "cell_type": "markdown",
   "metadata": {},
   "source": [
    "### Random Forest Regressor"
   ]
  },
  {
   "cell_type": "code",
   "execution_count": 326,
   "metadata": {},
   "outputs": [],
   "source": [
    "from sklearn.tree import DecisionTreeRegressor\n",
    "from sklearn.ensemble import RandomForestRegressor\n",
    "from sklearn.datasets import make_regression\n",
    "import sklearn.metrics as metrics"
   ]
  },
  {
   "cell_type": "code",
   "execution_count": 327,
   "metadata": {},
   "outputs": [
    {
     "data": {
      "text/plain": [
       "RandomForestRegressor(max_features=5000, n_estimators=3500, n_jobs=-1,\n",
       "                      random_state=0)"
      ]
     },
     "execution_count": 327,
     "metadata": {},
     "output_type": "execute_result"
    }
   ],
   "source": [
    "clf_tree = RandomForestRegressor(n_estimators=3500, max_features=5000,n_jobs=-1, random_state = 0, criterion=\"mse\")\n",
    "clf_tree.fit(xtrain,ytrain)"
   ]
  },
  {
   "cell_type": "code",
   "execution_count": 329,
   "metadata": {},
   "outputs": [],
   "source": [
    "y_train_pred_clf = clf_tree.predict(xtrain)\n",
    "y_test_pred_clf = clf_tree.predict(xtest)"
   ]
  },
  {
   "cell_type": "code",
   "execution_count": 330,
   "metadata": {},
   "outputs": [
    {
     "name": "stdout",
     "output_type": "stream",
     "text": [
      "RMSE para Train 0.3811069523942922\n",
      "RMSE para Test 1.0617131717278487\n"
     ]
    }
   ],
   "source": [
    "print('RMSE para Train', np.sqrt(metrics.mean_squared_error(ytrain, y_train_pred_clf)))\n",
    "print('RMSE para Test', np.sqrt(metrics.mean_squared_error(ytest, y_test_pred_clf)))"
   ]
  },
  {
   "cell_type": "code",
   "execution_count": 331,
   "metadata": {},
   "outputs": [
    {
     "data": {
      "text/html": [
       "<div>\n",
       "<style scoped>\n",
       "    .dataframe tbody tr th:only-of-type {\n",
       "        vertical-align: middle;\n",
       "    }\n",
       "\n",
       "    .dataframe tbody tr th {\n",
       "        vertical-align: top;\n",
       "    }\n",
       "\n",
       "    .dataframe thead th {\n",
       "        text-align: right;\n",
       "    }\n",
       "</style>\n",
       "<table border=\"1\" class=\"dataframe\">\n",
       "  <thead>\n",
       "    <tr style=\"text-align: right;\">\n",
       "      <th></th>\n",
       "      <th>Real Values</th>\n",
       "      <th>Predicted Values</th>\n",
       "    </tr>\n",
       "  </thead>\n",
       "  <tbody>\n",
       "    <tr>\n",
       "      <th>0</th>\n",
       "      <td>2</td>\n",
       "      <td>1.233714</td>\n",
       "    </tr>\n",
       "    <tr>\n",
       "      <th>1</th>\n",
       "      <td>4</td>\n",
       "      <td>2.314571</td>\n",
       "    </tr>\n",
       "    <tr>\n",
       "      <th>2</th>\n",
       "      <td>1</td>\n",
       "      <td>1.659143</td>\n",
       "    </tr>\n",
       "    <tr>\n",
       "      <th>3</th>\n",
       "      <td>3</td>\n",
       "      <td>3.010000</td>\n",
       "    </tr>\n",
       "    <tr>\n",
       "      <th>4</th>\n",
       "      <td>3</td>\n",
       "      <td>3.099429</td>\n",
       "    </tr>\n",
       "    <tr>\n",
       "      <th>...</th>\n",
       "      <td>...</td>\n",
       "      <td>...</td>\n",
       "    </tr>\n",
       "    <tr>\n",
       "      <th>995</th>\n",
       "      <td>2</td>\n",
       "      <td>3.135714</td>\n",
       "    </tr>\n",
       "    <tr>\n",
       "      <th>996</th>\n",
       "      <td>1</td>\n",
       "      <td>2.324286</td>\n",
       "    </tr>\n",
       "    <tr>\n",
       "      <th>997</th>\n",
       "      <td>1</td>\n",
       "      <td>1.748857</td>\n",
       "    </tr>\n",
       "    <tr>\n",
       "      <th>998</th>\n",
       "      <td>3</td>\n",
       "      <td>2.992000</td>\n",
       "    </tr>\n",
       "    <tr>\n",
       "      <th>999</th>\n",
       "      <td>4</td>\n",
       "      <td>2.845714</td>\n",
       "    </tr>\n",
       "  </tbody>\n",
       "</table>\n",
       "<p>1000 rows × 2 columns</p>\n",
       "</div>"
      ],
      "text/plain": [
       "     Real Values  Predicted Values\n",
       "0              2          1.233714\n",
       "1              4          2.314571\n",
       "2              1          1.659143\n",
       "3              3          3.010000\n",
       "4              3          3.099429\n",
       "..           ...               ...\n",
       "995            2          3.135714\n",
       "996            1          2.324286\n",
       "997            1          1.748857\n",
       "998            3          2.992000\n",
       "999            4          2.845714\n",
       "\n",
       "[1000 rows x 2 columns]"
      ]
     },
     "execution_count": 331,
     "metadata": {},
     "output_type": "execute_result"
    }
   ],
   "source": [
    "comparacion_tree_reg = pd.DataFrame({'Real Values':ytest, 'Predicted Values':y_test_pred_clf})\n",
    "comparacion_tree_reg"
   ]
  },
  {
   "cell_type": "markdown",
   "metadata": {},
   "source": [
    "### SVM"
   ]
  },
  {
   "cell_type": "code",
   "execution_count": 348,
   "metadata": {},
   "outputs": [
    {
     "data": {
      "text/plain": [
       "SVC(gamma=0.1)"
      ]
     },
     "execution_count": 348,
     "metadata": {},
     "output_type": "execute_result"
    }
   ],
   "source": [
    "from sklearn.svm import SVC\n",
    "model = SVC(gamma= 0.1)\n",
    "model.fit(xtrain,ytrain)"
   ]
  },
  {
   "cell_type": "code",
   "execution_count": 346,
   "metadata": {},
   "outputs": [
    {
     "name": "stdout",
     "output_type": "stream",
     "text": [
      "acc:  0.397\n"
     ]
    }
   ],
   "source": [
    "print(\"acc: \", model.score(xtest,ytest))"
   ]
  },
  {
   "cell_type": "code",
   "execution_count": 349,
   "metadata": {},
   "outputs": [
    {
     "name": "stdout",
     "output_type": "stream",
     "text": [
      "acc:  0.97825\n"
     ]
    }
   ],
   "source": [
    "print(\"acc: \", model.score(xtrain,ytrain))"
   ]
  },
  {
   "cell_type": "markdown",
   "metadata": {},
   "source": [
    "### Regresión Lineal Simple"
   ]
  },
  {
   "cell_type": "code",
   "execution_count": 334,
   "metadata": {},
   "outputs": [],
   "source": [
    "from sklearn.linear_model import LinearRegression\n",
    "\n",
    "reg = LinearRegression()"
   ]
  },
  {
   "cell_type": "code",
   "execution_count": 335,
   "metadata": {},
   "outputs": [
    {
     "data": {
      "text/plain": [
       "LinearRegression()"
      ]
     },
     "execution_count": 335,
     "metadata": {},
     "output_type": "execute_result"
    }
   ],
   "source": [
    "reg.fit(xtrain, ytrain)"
   ]
  },
  {
   "cell_type": "code",
   "execution_count": 336,
   "metadata": {},
   "outputs": [],
   "source": [
    "ytrain_pred =reg.predict(xtrain)\n",
    "ytest_pred = reg.predict(xtest)\n"
   ]
  },
  {
   "cell_type": "code",
   "execution_count": 337,
   "metadata": {},
   "outputs": [
    {
     "name": "stdout",
     "output_type": "stream",
     "text": [
      "Raíz del error cuadrático medio en Train: 0.0005812125136230803\n",
      "Raíz del error cuadrático medio en Test: 9.936089712158822\n"
     ]
    }
   ],
   "source": [
    "from sklearn.metrics import mean_squared_error\n",
    "rmse_train = np.sqrt(mean_squared_error(ytrain, ytrain_pred))\n",
    "rmse_test = np.sqrt(mean_squared_error(ytest, ytest_pred))\n",
    "print(f'Raíz del error cuadrático medio en Train: {rmse_train}')\n",
    "print(f'Raíz del error cuadrático medio en Test: {rmse_test}')"
   ]
  },
  {
   "cell_type": "code",
   "execution_count": 343,
   "metadata": {},
   "outputs": [
    {
     "data": {
      "text/html": [
       "<div>\n",
       "<style scoped>\n",
       "    .dataframe tbody tr th:only-of-type {\n",
       "        vertical-align: middle;\n",
       "    }\n",
       "\n",
       "    .dataframe tbody tr th {\n",
       "        vertical-align: top;\n",
       "    }\n",
       "\n",
       "    .dataframe thead th {\n",
       "        text-align: right;\n",
       "    }\n",
       "</style>\n",
       "<table border=\"1\" class=\"dataframe\">\n",
       "  <thead>\n",
       "    <tr style=\"text-align: right;\">\n",
       "      <th></th>\n",
       "      <th>Real Values</th>\n",
       "      <th>Predicted Values</th>\n",
       "    </tr>\n",
       "  </thead>\n",
       "  <tbody>\n",
       "    <tr>\n",
       "      <th>0</th>\n",
       "      <td>2</td>\n",
       "      <td>3.178111</td>\n",
       "    </tr>\n",
       "    <tr>\n",
       "      <th>1</th>\n",
       "      <td>4</td>\n",
       "      <td>7.391595</td>\n",
       "    </tr>\n",
       "    <tr>\n",
       "      <th>2</th>\n",
       "      <td>1</td>\n",
       "      <td>0.604430</td>\n",
       "    </tr>\n",
       "    <tr>\n",
       "      <th>3</th>\n",
       "      <td>3</td>\n",
       "      <td>8.582116</td>\n",
       "    </tr>\n",
       "    <tr>\n",
       "      <th>4</th>\n",
       "      <td>3</td>\n",
       "      <td>2.508703</td>\n",
       "    </tr>\n",
       "    <tr>\n",
       "      <th>...</th>\n",
       "      <td>...</td>\n",
       "      <td>...</td>\n",
       "    </tr>\n",
       "    <tr>\n",
       "      <th>995</th>\n",
       "      <td>2</td>\n",
       "      <td>17.081931</td>\n",
       "    </tr>\n",
       "    <tr>\n",
       "      <th>996</th>\n",
       "      <td>1</td>\n",
       "      <td>7.813666</td>\n",
       "    </tr>\n",
       "    <tr>\n",
       "      <th>997</th>\n",
       "      <td>1</td>\n",
       "      <td>1.190371</td>\n",
       "    </tr>\n",
       "    <tr>\n",
       "      <th>998</th>\n",
       "      <td>3</td>\n",
       "      <td>11.075766</td>\n",
       "    </tr>\n",
       "    <tr>\n",
       "      <th>999</th>\n",
       "      <td>4</td>\n",
       "      <td>10.658417</td>\n",
       "    </tr>\n",
       "  </tbody>\n",
       "</table>\n",
       "<p>1000 rows × 2 columns</p>\n",
       "</div>"
      ],
      "text/plain": [
       "     Real Values  Predicted Values\n",
       "0              2          3.178111\n",
       "1              4          7.391595\n",
       "2              1          0.604430\n",
       "3              3          8.582116\n",
       "4              3          2.508703\n",
       "..           ...               ...\n",
       "995            2         17.081931\n",
       "996            1          7.813666\n",
       "997            1          1.190371\n",
       "998            3         11.075766\n",
       "999            4         10.658417\n",
       "\n",
       "[1000 rows x 2 columns]"
      ]
     },
     "execution_count": 343,
     "metadata": {},
     "output_type": "execute_result"
    }
   ],
   "source": [
    "comparacion_lr = pd.DataFrame({'Real Values':ytest, 'Predicted Values':ytest_pred})\n",
    "comparacion_lr"
   ]
  },
  {
   "cell_type": "code",
   "execution_count": 339,
   "metadata": {},
   "outputs": [
    {
     "name": "stderr",
     "output_type": "stream",
     "text": [
      "C:\\Users\\juanl\\anaconda3\\lib\\site-packages\\seaborn\\distributions.py:2557: FutureWarning: `distplot` is a deprecated function and will be removed in a future version. Please adapt your code to use either `displot` (a figure-level function with similar flexibility) or `histplot` (an axes-level function for histograms).\n",
      "  warnings.warn(msg, FutureWarning)\n",
      "C:\\Users\\juanl\\anaconda3\\lib\\site-packages\\seaborn\\distributions.py:2557: FutureWarning: `distplot` is a deprecated function and will be removed in a future version. Please adapt your code to use either `displot` (a figure-level function with similar flexibility) or `histplot` (an axes-level function for histograms).\n",
      "  warnings.warn(msg, FutureWarning)\n"
     ]
    },
    {
     "data": {
      "image/png": "[encoded data removed]",
      "text/plain": [
       "<Figure size 576x288 with 2 Axes>"
      ]
     },
     "metadata": {},
     "output_type": "display_data"
    }
   ],
   "source": [
    "plt.figure(figsize = (8,4), clear=True,)\n",
    "\n",
    "plt.subplot(1,2,1)\n",
    "sns.distplot(ytrain - ytrain_pred, bins = 40, label = 'train',color=\"#FF9AA2\")\n",
    "sns.distplot(ytest - ytest_pred, bins = 40, label = 'test', color=\"#0055FF\")\n",
    "plt.xlabel('errores')\n",
    "plt.legend()\n",
    "\n",
    "\n",
    "ax = plt.subplot(1,2,2)\n",
    "ax.scatter(ytest,ytest_pred, s =2, c=\"#0055FF\")\n",
    "    \n",
    "lims = [\n",
    "np.min([ax.get_xlim(), ax.get_ylim()]),  \n",
    "np.max([ax.get_xlim(), ax.get_ylim()]),  \n",
    "]\n",
    "    \n",
    "ax.plot(lims, lims, 'k-', alpha=0.75, zorder=0)\n",
    "plt.xlabel('y (test)')\n",
    "plt.ylabel('ypred (test)')\n",
    "    \n",
    "plt.tight_layout()\n",
    "plt.show()"
   ]
  },
  {
   "cell_type": "markdown",
   "metadata": {},
   "source": [
    "### Grid Search para Random Forest Regressor"
   ]
  },
  {
   "cell_type": "code",
   "execution_count": null,
   "metadata": {},
   "outputs": [],
   "source": [
    "from sklearn.model_selection import GridSearchCV"
   ]
  },
  {
   "cell_type": "code",
   "execution_count": null,
   "metadata": {},
   "outputs": [],
   "source": [
    "estimator = clf_tree\n",
    "para_grids = {\n",
    "            \"n_estimators\" : [ 500,1000,1500,2000, 3000, 5000],\n",
    "            \"max_features\" : [\"auto\", \"log2\", \"sqrt\"],\n",
    "            \"bootstrap\"    : [True, False] ,\n",
    "             \"min_samples_split\" : [2,4,8,10],\n",
    "        }\n",
    "\n",
    "\n",
    "clf_tree_grid = GridSearchCV(estimator, para_grids, scoring=\"neg_mean_squared_error\")\n",
    "clf_tree_grid.fit(xtrain, ytrain)\n",
    "forest_be = clf_tree_grid.best_estimator_"
   ]
  },
  {
   "cell_type": "code",
   "execution_count": null,
   "metadata": {},
   "outputs": [],
   "source": [
    "print(\"Mejores parametros: \"+str(clf_tree_grid.best_params_))\n",
    "print(\"Mejor Score: \"+str(clf_tree_grid.best_score_)+'\\n')\n",
    "\n",
    "scores = pd.DataFrame(clf_tree_grid.cv_results_)\n",
    "scores"
   ]
  }
 ],
 "metadata": {
  "colab": {
   "collapsed_sections": [],
   "name": "DS_Proyecto_03_NLP.ipynb",
   "provenance": []
  },
  "kernelspec": {
   "display_name": "Python 3",
   "language": "python",
   "name": "python3"
  },
  "language_info": {
   "codemirror_mode": {
    "name": "ipython",
    "version": 3
   },
   "file_extension": ".py",
   "mimetype": "text/x-python",
   "name": "python",
   "nbconvert_exporter": "python",
   "pygments_lexer": "ipython3",
   "version": "3.8.8"
  }
 },
 "nbformat": 4,
 "nbformat_minor": 1
}
