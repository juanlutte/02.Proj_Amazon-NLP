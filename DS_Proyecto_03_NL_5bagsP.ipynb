{
 "cells": [
  {
   "cell_type": "markdown",
   "source": [
    "# FLUJO DE TRABAJO"
   ],
   "metadata": {}
  },
  {
   "cell_type": "code",
   "execution_count": 14,
   "source": [
    "#descargamos las librerias que vamos a usar y las configuraciones\r\n",
    "import pandas as pd\r\n",
    "import numpy as np\r\n",
    "import string\r\n",
    "\r\n",
    "import matplotlib.pyplot as plt\r\n",
    "import seaborn as sns\r\n",
    "sns.set()\r\n",
    "\r\n",
    "import nltk\r\n",
    "import itertools\r\n",
    "from nltk.tokenize import sent_tokenize, word_tokenize\r\n",
    "\r\n",
    "#Esto sirve para configurar NLTK. La primera vez puede tardar un poco\r\n",
    "nltk.download('punkt')\r\n",
    "nltk.download('stopwords')"
   ],
   "outputs": [
    {
     "output_type": "stream",
     "name": "stderr",
     "text": [
      "[nltk_data] Downloading package punkt to\n",
      "[nltk_data]     C:\\Users\\Luigi\\AppData\\Roaming\\nltk_data...\n",
      "[nltk_data]   Package punkt is already up-to-date!\n",
      "[nltk_data] Downloading package stopwords to\n",
      "[nltk_data]     C:\\Users\\Luigi\\AppData\\Roaming\\nltk_data...\n",
      "[nltk_data]   Package stopwords is already up-to-date!\n"
     ]
    },
    {
     "output_type": "execute_result",
     "data": {
      "text/plain": [
       "True"
      ]
     },
     "metadata": {},
     "execution_count": 14
    }
   ],
   "metadata": {
    "id": "x1GFwraSISFB"
   }
  },
  {
   "cell_type": "code",
   "execution_count": 15,
   "source": [
    "dataset = pd.read_json(r'C:\\Users\\Luigi\\Documents\\02.Proj_Amazon-NLP\\dataset_es_dev.json',lines=True)"
   ],
   "outputs": [],
   "metadata": {}
  },
  {
   "cell_type": "markdown",
   "source": [
    "# Analisis 1 Estrella"
   ],
   "metadata": {}
  },
  {
   "cell_type": "code",
   "execution_count": 61,
   "source": [
    "# Importamos esta libreria que nos permite reemplzar caracteres\r\n",
    "import re\r\n",
    "\r\n",
    "# Importamos la función que nos permite Stemmizar de nltk y definimos el stemmer\r\n",
    "from nltk.stem import SnowballStemmer\r\n",
    "from nltk.stem import PorterStemmer\r\n",
    "stemmer = PorterStemmer()"
   ],
   "outputs": [],
   "metadata": {}
  },
  {
   "cell_type": "code",
   "execution_count": 62,
   "source": [
    "stopwords = nltk.corpus.stopwords.words('spanish')\r\n",
    "stopwords = [palabra for palabra in stopwords if 'not' not in palabra]\r\n",
    "#stopwords"
   ],
   "outputs": [],
   "metadata": {}
  },
  {
   "cell_type": "code",
   "execution_count": 60,
   "source": [
    "dataset_stars_1= dataset[dataset.stars==1]\r\n",
    "dataset1 = dataset_stars_1.iloc[:,[4,5,3]]\r\n",
    "dataset1.head()"
   ],
   "outputs": [
    {
     "output_type": "execute_result",
     "data": {
      "text/plain": [
       "                                         review_body  \\\n",
       "0  Malisimo, muy grande demasiado aparatoso y mal...   \n",
       "1          No he recibido el pedido no la devolución   \n",
       "2  Tengo que buscar otro sistema, este no funcion...   \n",
       "3  Utilicé las brocas de menor diámetro y se me d...   \n",
       "4         No me gusta su olor a viejo y aspecto malo   \n",
       "\n",
       "                         review_title  stars  \n",
       "0                         Mala compra      1  \n",
       "1                   No lo he recibido      1  \n",
       "2  Que no aprieta bien en el manillar      1  \n",
       "3               Brocas de mantequilla      1  \n",
       "4                         No me gusta      1  "
      ],
      "text/html": [
       "<div>\n",
       "<style scoped>\n",
       "    .dataframe tbody tr th:only-of-type {\n",
       "        vertical-align: middle;\n",
       "    }\n",
       "\n",
       "    .dataframe tbody tr th {\n",
       "        vertical-align: top;\n",
       "    }\n",
       "\n",
       "    .dataframe thead th {\n",
       "        text-align: right;\n",
       "    }\n",
       "</style>\n",
       "<table border=\"1\" class=\"dataframe\">\n",
       "  <thead>\n",
       "    <tr style=\"text-align: right;\">\n",
       "      <th></th>\n",
       "      <th>review_body</th>\n",
       "      <th>review_title</th>\n",
       "      <th>stars</th>\n",
       "    </tr>\n",
       "  </thead>\n",
       "  <tbody>\n",
       "    <tr>\n",
       "      <th>0</th>\n",
       "      <td>Malisimo, muy grande demasiado aparatoso y mal...</td>\n",
       "      <td>Mala compra</td>\n",
       "      <td>1</td>\n",
       "    </tr>\n",
       "    <tr>\n",
       "      <th>1</th>\n",
       "      <td>No he recibido el pedido no la devolución</td>\n",
       "      <td>No lo he recibido</td>\n",
       "      <td>1</td>\n",
       "    </tr>\n",
       "    <tr>\n",
       "      <th>2</th>\n",
       "      <td>Tengo que buscar otro sistema, este no funcion...</td>\n",
       "      <td>Que no aprieta bien en el manillar</td>\n",
       "      <td>1</td>\n",
       "    </tr>\n",
       "    <tr>\n",
       "      <th>3</th>\n",
       "      <td>Utilicé las brocas de menor diámetro y se me d...</td>\n",
       "      <td>Brocas de mantequilla</td>\n",
       "      <td>1</td>\n",
       "    </tr>\n",
       "    <tr>\n",
       "      <th>4</th>\n",
       "      <td>No me gusta su olor a viejo y aspecto malo</td>\n",
       "      <td>No me gusta</td>\n",
       "      <td>1</td>\n",
       "    </tr>\n",
       "  </tbody>\n",
       "</table>\n",
       "</div>"
      ]
     },
     "metadata": {},
     "execution_count": 60
    }
   ],
   "metadata": {}
  },
  {
   "cell_type": "code",
   "execution_count": 63,
   "source": [
    "# Recorremos todos los titulos y le vamos aplicando la Normalizacion y luega el Stemming a cada uno\r\n",
    "review_list=[]\r\n",
    "simb=[\"!\",\".\",\",\",\"no\",\"si\",\"...\",\")\",\"(\",\"1\",\"2\",\"3\",\"4\",\"5\",\"6\",\"7\",\"8\",\"9\",\"0\"]\r\n",
    "Bolsa1=[]\r\n",
    "for review in dataset_stars_1.review_title:\r\n",
    "    # Vamos a reemplzar los caracteres que no sean leras por espacios\r\n",
    "    #review=re.sub(\",\",\" \",str(review))#borra los espacios y las tiles\r\n",
    "    # Pasamos todo a minúsculas\r\n",
    "    review=review.lower()\r\n",
    "    # Tokenizamos para separar las palabras del titular\r\n",
    "    review=nltk.word_tokenize(review)\r\n",
    "    # Eliminamos las palabras de menos de 3 letras\r\n",
    "    #dataset = [palabra for palabra in dataset if len(palabra)>2]\r\n",
    "    # Sacamos las Stopwords\r\n",
    "    review = [palabra for palabra in review if not palabra in stopwords if not palabra in simb]\r\n",
    "    \r\n",
    "    ## Hasta acá Normalizamos, ahora a stemmizar\r\n",
    "    \r\n",
    "    # Aplicamos la funcion para buscar la raiz de las palabras\r\n",
    "    review=[stemmer.stem(palabra) for palabra in review]\r\n",
    "\r\n",
    "    Bolsa1.append(review)\r\n",
    "    # Por ultimo volvemos a unir el titular\r\n",
    "    review=\" \".join(review)\r\n",
    "    \r\n",
    "    # Vamos armando una lista con todos los titulares\r\n",
    "    review_list.append(review)\r\n",
    "    #dataset[\"titular_normalizado\"] = titular_list"
   ],
   "outputs": [],
   "metadata": {}
  },
  {
   "cell_type": "code",
   "execution_count": 64,
   "source": [
    "Flat_list_1 = [item for t in Bolsa1 for item in t]\r\n",
    "Flat_list_1[0:5]"
   ],
   "outputs": [
    {
     "output_type": "execute_result",
     "data": {
      "text/plain": [
       "['mala', 'compra', 'recibido', 'aprieta', 'bien']"
      ]
     },
     "metadata": {},
     "execution_count": 64
    }
   ],
   "metadata": {}
  },
  {
   "cell_type": "code",
   "execution_count": 71,
   "source": [
    "freq1 = nltk.FreqDist(Flat_list_1)\r\n",
    "freq1"
   ],
   "outputs": [
    {
     "output_type": "execute_result",
     "data": {
      "text/plain": [
       "FreqDist({'calidad': 55, 'mala': 53, 'producto': 52, 'mal': 37, 'funciona': 27, 'roto': 23, 'malo': 21, 'nunca': 20, 'llegado': 20, 'comprar': 18, ...})"
      ]
     },
     "metadata": {},
     "execution_count": 71
    }
   ],
   "metadata": {}
  },
  {
   "cell_type": "code",
   "execution_count": 72,
   "source": [
    "import re, string\r\n",
    "\r\n",
    "def remove_punctuation ( lista1 ):\r\n",
    "  return re.sub('[%s]' % re.escape(string.punctuation), ' ', text)\r\n",
    "\r\n",
    "df_freq = pd.DataFrame(list(freq1.items()), columns = [\"Word\", \"Frecuency\"])\r\n",
    "df_freq.sort_values('Frecuency',ascending=False, inplace = True)\r\n",
    "df_freq.head()"
   ],
   "outputs": [
    {
     "output_type": "execute_result",
     "data": {
      "text/plain": [
       "        Word  Frecuency\n",
       "44   calidad         55\n",
       "0       mala         53\n",
       "17  producto         52\n",
       "71       mal         37\n",
       "47  funciona         27"
      ],
      "text/html": [
       "<div>\n",
       "<style scoped>\n",
       "    .dataframe tbody tr th:only-of-type {\n",
       "        vertical-align: middle;\n",
       "    }\n",
       "\n",
       "    .dataframe tbody tr th {\n",
       "        vertical-align: top;\n",
       "    }\n",
       "\n",
       "    .dataframe thead th {\n",
       "        text-align: right;\n",
       "    }\n",
       "</style>\n",
       "<table border=\"1\" class=\"dataframe\">\n",
       "  <thead>\n",
       "    <tr style=\"text-align: right;\">\n",
       "      <th></th>\n",
       "      <th>Word</th>\n",
       "      <th>Frecuency</th>\n",
       "    </tr>\n",
       "  </thead>\n",
       "  <tbody>\n",
       "    <tr>\n",
       "      <th>44</th>\n",
       "      <td>calidad</td>\n",
       "      <td>55</td>\n",
       "    </tr>\n",
       "    <tr>\n",
       "      <th>0</th>\n",
       "      <td>mala</td>\n",
       "      <td>53</td>\n",
       "    </tr>\n",
       "    <tr>\n",
       "      <th>17</th>\n",
       "      <td>producto</td>\n",
       "      <td>52</td>\n",
       "    </tr>\n",
       "    <tr>\n",
       "      <th>71</th>\n",
       "      <td>mal</td>\n",
       "      <td>37</td>\n",
       "    </tr>\n",
       "    <tr>\n",
       "      <th>47</th>\n",
       "      <td>funciona</td>\n",
       "      <td>27</td>\n",
       "    </tr>\n",
       "  </tbody>\n",
       "</table>\n",
       "</div>"
      ]
     },
     "metadata": {},
     "execution_count": 72
    }
   ],
   "metadata": {}
  },
  {
   "cell_type": "code",
   "execution_count": 73,
   "source": [
    "plt.figure(figsize = (30,7))\r\n",
    "plot = sns.barplot(x  = df_freq.iloc[:30].Word, y = df_freq.iloc[:30].Frecuency)\r\n",
    "for item in plot.get_xticklabels():\r\n",
    "    item.set_rotation(90)\r\n",
    "plt.show()"
   ],
   "outputs": [
    {
     "output_type": "display_data",
     "data": {
      "text/plain": [
       "<Figure size 2160x504 with 1 Axes>"
      ],
      "image/png": "[encoded data removed]"
     },
     "metadata": {}
    }
   ],
   "metadata": {}
  },
  {
   "cell_type": "code",
   "execution_count": null,
   "source": [],
   "outputs": [],
   "metadata": {}
  }
 ],
 "metadata": {
  "colab": {
   "collapsed_sections": [],
   "name": "DS_Proyecto_03_NLP.ipynb",
   "provenance": []
  },
  "kernelspec": {
   "name": "python3",
   "display_name": "Python 3.9.5 64-bit ('datascience': conda)"
  },
  "language_info": {
   "codemirror_mode": {
    "name": "ipython",
    "version": 3
   },
   "file_extension": ".py",
   "mimetype": "text/x-python",
   "name": "python",
   "nbconvert_exporter": "python",
   "pygments_lexer": "ipython3",
   "version": "3.9.5"
  },
  "interpreter": {
   "hash": "4dea67ab4a6514784e167c656d7d51ddd663d75c1c00d0598b2273827738bcf6"
  }
 },
 "nbformat": 4,
 "nbformat_minor": 1
}